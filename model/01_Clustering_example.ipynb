{
 "cells": [
  {
   "cell_type": "markdown",
   "metadata": {},
   "source": [
    "# Clustering Shopping Cart\n",
    "\n",
    "Este es un template de como manejariamos un modelo de clustering "
   ]
  },
  {
   "cell_type": "markdown",
   "metadata": {},
   "source": [
    "Es importante setear antes de iniciar algunas variables de entorno\n",
    "\n",
    "#### Linux / MAC\n",
    "\n",
    "```{bash}\n",
    "export BUCKET_MODEL=belc-bigdata-models-dlk-qas\n",
    "export FOLDER_MODEL=template-model\n",
    "export ENV_DEPLOY=QAS\n",
    "export MLFLOW_HOST=internal-alb-datalake-casetwo-qas-45252694.us-east-1.elb.amazonaws.com\n",
    "```\n"
   ]
  },
  {
   "cell_type": "code",
   "execution_count": 1,
   "metadata": {},
   "outputs": [],
   "source": [
    "import os\n",
    "import source.utils.mlflow as ml\n",
    "from datetime import datetime\n",
    "import source.utils.configvariables as uc"
   ]
  },
  {
   "cell_type": "code",
   "execution_count": 2,
   "metadata": {},
   "outputs": [],
   "source": [
    "import pandas as pd\n",
    "import numpy as np\n",
    "import matplotlib.pyplot as plt\n",
    "from sklearn.cluster import KMeans\n",
    "from sklearn.metrics.pairwise import euclidean_distances"
   ]
  },
  {
   "cell_type": "markdown",
   "metadata": {},
   "source": [
    "# Configuracion MLFlow\n",
    "\n",
    "Seteamos algunas variable principales para iniciar nuestro proyecto"
   ]
  },
  {
   "cell_type": "code",
   "execution_count": 3,
   "metadata": {},
   "outputs": [],
   "source": [
    "ml_flow_host = uc.env_ml_flow_host\n",
    "ml_flow_project = uc.env_ml_flow_project"
   ]
  },
  {
   "cell_type": "code",
   "execution_count": 4,
   "metadata": {},
   "outputs": [],
   "source": [
    "Myflow = ml.MLFlowTracking(ml_flow_host)"
   ]
  },
  {
   "cell_type": "code",
   "execution_count": 5,
   "metadata": {},
   "outputs": [],
   "source": [
    "run_name = 'Clustering'"
   ]
  },
  {
   "cell_type": "markdown",
   "metadata": {},
   "source": [
    "## Iniciamos el experimento"
   ]
  },
  {
   "cell_type": "markdown",
   "metadata": {},
   "source": [
    "Iniciamos el experimiento en la herramienta mlflow"
   ]
  },
  {
   "cell_type": "code",
   "execution_count": 6,
   "metadata": {},
   "outputs": [
    {
     "data": {
      "text/plain": [
       "<ActiveRun: >"
      ]
     },
     "execution_count": 6,
     "metadata": {},
     "output_type": "execute_result"
    }
   ],
   "source": [
    "active_run = Myflow.start_experiment(ml_flow_project, run_name=run_name)\n",
    "active_run"
   ]
  },
  {
   "cell_type": "code",
   "execution_count": 7,
   "metadata": {},
   "outputs": [],
   "source": [
    "dict_tags = {\"Enviroment\":uc.env_deploy,\"Grupo\":\"Template\",\"Proyecto\":\"Clustering\"}\n",
    "Myflow.model_logging_tags(dict_tags)"
   ]
  },
  {
   "cell_type": "code",
   "execution_count": 8,
   "metadata": {},
   "outputs": [],
   "source": [
    "dict_params = {\"pipeline\":\"validation\",\"country\":\"CORP\",\"campania-ini\":\"202201\",\"campania-fin\":\"202205\"}\n",
    "Myflow.model_logging_params(dict_params)"
   ]
  },
  {
   "cell_type": "markdown",
   "metadata": {},
   "source": [
    "## Preparación de Datos"
   ]
  },
  {
   "cell_type": "code",
   "execution_count": 9,
   "metadata": {},
   "outputs": [],
   "source": [
    "file_name_data = \"data_test/sample_cluster.csv.gz\""
   ]
  },
  {
   "cell_type": "code",
   "execution_count": 10,
   "metadata": {},
   "outputs": [
    {
     "data": {
      "text/html": [
       "<div>\n",
       "<style scoped>\n",
       "    .dataframe tbody tr th:only-of-type {\n",
       "        vertical-align: middle;\n",
       "    }\n",
       "\n",
       "    .dataframe tbody tr th {\n",
       "        vertical-align: top;\n",
       "    }\n",
       "\n",
       "    .dataframe thead th {\n",
       "        text-align: right;\n",
       "    }\n",
       "</style>\n",
       "<table border=\"1\" class=\"dataframe\">\n",
       "  <thead>\n",
       "    <tr style=\"text-align: right;\">\n",
       "      <th></th>\n",
       "      <th>m1_ppu</th>\n",
       "      <th>m2_ppu</th>\n",
       "      <th>m3_ppu</th>\n",
       "      <th>m1_pup</th>\n",
       "      <th>m2_pup</th>\n",
       "      <th>m3_pup</th>\n",
       "      <th>c1_ppu</th>\n",
       "      <th>c2_ppu</th>\n",
       "      <th>c3_ppu</th>\n",
       "      <th>c4_ppu</th>\n",
       "      <th>c5_ppu</th>\n",
       "      <th>c1_pup</th>\n",
       "      <th>c2_pup</th>\n",
       "      <th>c3_pup</th>\n",
       "      <th>c4_pup</th>\n",
       "      <th>c5_pup</th>\n",
       "      <th>code</th>\n",
       "    </tr>\n",
       "  </thead>\n",
       "  <tbody>\n",
       "    <tr>\n",
       "      <th>0</th>\n",
       "      <td>0.145373</td>\n",
       "      <td>0.398150</td>\n",
       "      <td>0.456477</td>\n",
       "      <td>0.105263</td>\n",
       "      <td>0.526316</td>\n",
       "      <td>0.368421</td>\n",
       "      <td>0.117679</td>\n",
       "      <td>0.288705</td>\n",
       "      <td>0.142555</td>\n",
       "      <td>0.227009</td>\n",
       "      <td>0.224052</td>\n",
       "      <td>0.421053</td>\n",
       "      <td>0.315789</td>\n",
       "      <td>0.105263</td>\n",
       "      <td>0.105263</td>\n",
       "      <td>0.052632</td>\n",
       "      <td>-8604452458585199795</td>\n",
       "    </tr>\n",
       "    <tr>\n",
       "      <th>1</th>\n",
       "      <td>0.000000</td>\n",
       "      <td>0.459908</td>\n",
       "      <td>0.540092</td>\n",
       "      <td>0.000000</td>\n",
       "      <td>0.583333</td>\n",
       "      <td>0.416667</td>\n",
       "      <td>0.240132</td>\n",
       "      <td>0.462687</td>\n",
       "      <td>0.297181</td>\n",
       "      <td>0.000000</td>\n",
       "      <td>0.000000</td>\n",
       "      <td>0.500000</td>\n",
       "      <td>0.250000</td>\n",
       "      <td>0.250000</td>\n",
       "      <td>0.000000</td>\n",
       "      <td>0.000000</td>\n",
       "      <td>-6094991651184097439</td>\n",
       "    </tr>\n",
       "    <tr>\n",
       "      <th>2</th>\n",
       "      <td>0.000000</td>\n",
       "      <td>0.595409</td>\n",
       "      <td>0.404591</td>\n",
       "      <td>0.000000</td>\n",
       "      <td>0.166667</td>\n",
       "      <td>0.833333</td>\n",
       "      <td>0.226513</td>\n",
       "      <td>0.391292</td>\n",
       "      <td>0.149933</td>\n",
       "      <td>0.000000</td>\n",
       "      <td>0.232262</td>\n",
       "      <td>0.200000</td>\n",
       "      <td>0.200000</td>\n",
       "      <td>0.500000</td>\n",
       "      <td>0.000000</td>\n",
       "      <td>0.100000</td>\n",
       "      <td>-4329995829409842192</td>\n",
       "    </tr>\n",
       "    <tr>\n",
       "      <th>3</th>\n",
       "      <td>0.000000</td>\n",
       "      <td>0.606809</td>\n",
       "      <td>0.393191</td>\n",
       "      <td>0.000000</td>\n",
       "      <td>0.666667</td>\n",
       "      <td>0.333333</td>\n",
       "      <td>0.172716</td>\n",
       "      <td>0.360750</td>\n",
       "      <td>0.166211</td>\n",
       "      <td>0.300323</td>\n",
       "      <td>0.000000</td>\n",
       "      <td>0.285714</td>\n",
       "      <td>0.357143</td>\n",
       "      <td>0.285714</td>\n",
       "      <td>0.071429</td>\n",
       "      <td>0.000000</td>\n",
       "      <td>8481926713208375004</td>\n",
       "    </tr>\n",
       "    <tr>\n",
       "      <th>4</th>\n",
       "      <td>0.177547</td>\n",
       "      <td>0.488178</td>\n",
       "      <td>0.334276</td>\n",
       "      <td>0.190476</td>\n",
       "      <td>0.714286</td>\n",
       "      <td>0.095238</td>\n",
       "      <td>0.082448</td>\n",
       "      <td>0.441203</td>\n",
       "      <td>0.000000</td>\n",
       "      <td>0.219053</td>\n",
       "      <td>0.257296</td>\n",
       "      <td>0.619048</td>\n",
       "      <td>0.142857</td>\n",
       "      <td>0.000000</td>\n",
       "      <td>0.142857</td>\n",
       "      <td>0.095238</td>\n",
       "      <td>-8349215549152706958</td>\n",
       "    </tr>\n",
       "  </tbody>\n",
       "</table>\n",
       "</div>"
      ],
      "text/plain": [
       "     m1_ppu    m2_ppu    m3_ppu    m1_pup    m2_pup    m3_pup    c1_ppu  \\\n",
       "0  0.145373  0.398150  0.456477  0.105263  0.526316  0.368421  0.117679   \n",
       "1  0.000000  0.459908  0.540092  0.000000  0.583333  0.416667  0.240132   \n",
       "2  0.000000  0.595409  0.404591  0.000000  0.166667  0.833333  0.226513   \n",
       "3  0.000000  0.606809  0.393191  0.000000  0.666667  0.333333  0.172716   \n",
       "4  0.177547  0.488178  0.334276  0.190476  0.714286  0.095238  0.082448   \n",
       "\n",
       "     c2_ppu    c3_ppu    c4_ppu    c5_ppu    c1_pup    c2_pup    c3_pup  \\\n",
       "0  0.288705  0.142555  0.227009  0.224052  0.421053  0.315789  0.105263   \n",
       "1  0.462687  0.297181  0.000000  0.000000  0.500000  0.250000  0.250000   \n",
       "2  0.391292  0.149933  0.000000  0.232262  0.200000  0.200000  0.500000   \n",
       "3  0.360750  0.166211  0.300323  0.000000  0.285714  0.357143  0.285714   \n",
       "4  0.441203  0.000000  0.219053  0.257296  0.619048  0.142857  0.000000   \n",
       "\n",
       "     c4_pup    c5_pup                 code  \n",
       "0  0.105263  0.052632 -8604452458585199795  \n",
       "1  0.000000  0.000000 -6094991651184097439  \n",
       "2  0.000000  0.100000 -4329995829409842192  \n",
       "3  0.071429  0.000000  8481926713208375004  \n",
       "4  0.142857  0.095238 -8349215549152706958  "
      ]
     },
     "execution_count": 10,
     "metadata": {},
     "output_type": "execute_result"
    }
   ],
   "source": [
    "sample_data = pd.read_csv(file_name_data)\n",
    "sample_data.head(5)"
   ]
  },
  {
   "cell_type": "code",
   "execution_count": 11,
   "metadata": {},
   "outputs": [],
   "source": [
    "def calculate_numbers_clusters():\n",
    "    # TO DO:\n",
    "    return 3"
   ]
  },
  {
   "cell_type": "code",
   "execution_count": 12,
   "metadata": {},
   "outputs": [],
   "source": [
    "def define_colors_cluster():\n",
    "    colors = [\"#4EACC5\", \"#FF9C34\", \"#029A06\"]\n",
    "    color_dict = {}\n",
    "    for idx in range(n_clusters):\n",
    "        color_dict[idx] = colors[idx]\n",
    "        \n",
    "    return color_dict"
   ]
  },
  {
   "cell_type": "code",
   "execution_count": 13,
   "metadata": {},
   "outputs": [],
   "source": [
    "n_clusters = calculate_numbers_clusters()\n",
    "columns = [\"m1_pup\",'m2_pup','m3_pup']"
   ]
  },
  {
   "cell_type": "markdown",
   "metadata": {},
   "source": [
    "### Trabajamos con el modelo"
   ]
  },
  {
   "cell_type": "code",
   "execution_count": 14,
   "metadata": {},
   "outputs": [
    {
     "name": "stdout",
     "output_type": "stream",
     "text": [
      "Current Time is : 11:37:55\n"
     ]
    }
   ],
   "source": [
    "start_model = datetime.now()\n",
    "current_time = start_model.strftime(\"%H:%M:%S\")\n",
    "print(\"Current Time is :\", current_time)\n",
    "\n",
    "# registramos el inicio del train\n",
    "dict_params = {\"train_time1_start\":current_time}\n",
    "Myflow.model_logging_params(dict_params)"
   ]
  },
  {
   "cell_type": "markdown",
   "metadata": {},
   "source": [
    "#### Training"
   ]
  },
  {
   "cell_type": "code",
   "execution_count": 15,
   "metadata": {},
   "outputs": [],
   "source": [
    "kmeans = KMeans(n_clusters=n_clusters, random_state=0).fit(sample_data[columns])\n",
    "sample_data['cluster'] = kmeans.labels_"
   ]
  },
  {
   "cell_type": "code",
   "execution_count": 16,
   "metadata": {},
   "outputs": [],
   "source": [
    "end_model = datetime.now()\n",
    "current_time = end_model.strftime(\"%H:%M:%S\")\n",
    "\n",
    "# registramos el fin del train\n",
    "dict_params = {\"train_time2_end\":current_time}\n",
    "Myflow.model_logging_params(dict_params)\n",
    "\n",
    "dif_time = end_model-start_model\n",
    "# registramos el diferencia del train\n",
    "dict_params = {\"train_time3_duration\":dif_time}\n",
    "Myflow.model_logging_params(dict_params)"
   ]
  },
  {
   "cell_type": "markdown",
   "metadata": {},
   "source": [
    "### Validate las data"
   ]
  },
  {
   "cell_type": "code",
   "execution_count": 17,
   "metadata": {},
   "outputs": [],
   "source": [
    "color_dict = define_colors_cluster()\n",
    "sample_data['color'] = sample_data.cluster.map(color_dict)"
   ]
  },
  {
   "cell_type": "code",
   "execution_count": 18,
   "metadata": {},
   "outputs": [
    {
     "data": {
      "image/png": "[encoded data removed]",
      "text/plain": [
       "<matplotlib.figure.Figure at 0x106b551d0>"
      ]
     },
     "metadata": {},
     "output_type": "display_data"
    }
   ],
   "source": [
    "features = [(\"m1_pup\", \"m2_pup\"),(\"m1_pup\", \"m3_pup\"),(\"m2_pup\", \"m3_pup\")]\n",
    "fig, axes = plt.subplots(nrows=1, ncols=3, figsize=(18, 4))\n",
    "\n",
    "for idx_ in range(len(features)):    \n",
    "    axes[idx_].scatter(sample_data[features[idx_][0]], sample_data[features[idx_][1]], c=sample_data.color, s=67)\n",
    "    axes[idx_].set_xlabel(features[idx_][0])\n",
    "    axes[idx_].set_ylabel(features[idx_][1])\n",
    "    axes[idx_].set_title(f\"Scater points from {features[idx_][0]} vs {features[idx_][1]}\")\n",
    "plt.savefig(\"data_test/cluster.png\")\n",
    "plt.show()"
   ]
  },
  {
   "cell_type": "code",
   "execution_count": 20,
   "metadata": {},
   "outputs": [
    {
     "name": "stderr",
     "output_type": "stream",
     "text": [
      "/Users/chvasquez/anaconda3/lib/python3.6/site-packages/numpy/core/_asarray.py:83: VisibleDeprecationWarning: Creating an ndarray from ragged nested sequences (which is a list-or-tuple of lists-or-tuples-or ndarrays with different lengths or shapes) is deprecated. If you meant to do this, you must specify 'dtype=object' when creating the ndarray\n",
      "  return array(a, dtype, copy=False, order=order)\n",
      "/Users/chvasquez/anaconda3/lib/python3.6/site-packages/numpy/core/_asarray.py:83: VisibleDeprecationWarning: Creating an ndarray from ragged nested sequences (which is a list-or-tuple of lists-or-tuples-or ndarrays with different lengths or shapes) is deprecated. If you meant to do this, you must specify 'dtype=object' when creating the ndarray\n",
      "  return array(a, dtype, copy=False, order=order)\n",
      "/Users/chvasquez/anaconda3/lib/python3.6/site-packages/numpy/core/_asarray.py:83: VisibleDeprecationWarning: Creating an ndarray from ragged nested sequences (which is a list-or-tuple of lists-or-tuples-or ndarrays with different lengths or shapes) is deprecated. If you meant to do this, you must specify 'dtype=object' when creating the ndarray\n",
      "  return array(a, dtype, copy=False, order=order)\n"
     ]
    },
    {
     "data": {
      "image/png": "[encoded data removed]",
      "text/plain": [
       "<matplotlib.figure.Figure at 0x13db6bb70>"
      ]
     },
     "metadata": {},
     "output_type": "display_data"
    }
   ],
   "source": [
    "features = [\"m1_pup\", \"m2_pup\",\"m3_pup\"]\n",
    "fig, axes = plt.subplots(nrows=1, ncols=3, figsize=(18, 4))\n",
    "\n",
    "for idx_ in range(len(features)):\n",
    "    data_box = [sample_data[sample_data[\"cluster\"]==m_cluster][features[idx_]] for m_cluster in set(kmeans.labels_)]\n",
    "    axes[idx_].boxplot(data_box, labels=list(set(kmeans.labels_)))\n",
    "    axes[idx_].set_title('boxplot '+features[idx_])\n",
    "plt.savefig(\"data_test/boxplot.png\")\n",
    "plt.show()\n"
   ]
  },
  {
   "cell_type": "code",
   "execution_count": 21,
   "metadata": {},
   "outputs": [],
   "source": [
    "Myflow.model_logging_artifact(\"data_test/cluster.png\", \"results\")\n",
    "Myflow.model_logging_artifact(\"data_test/boxplot.png\", \"results\")\n",
    "Myflow.model_logging_artifact(file_name_data, \"data\")"
   ]
  },
  {
   "cell_type": "markdown",
   "metadata": {},
   "source": [
    "# Para descargar información del experimiento hacia el local"
   ]
  },
  {
   "cell_type": "code",
   "execution_count": 23,
   "metadata": {},
   "outputs": [],
   "source": [
    "Myflow.download_artifacts(\"results\",\"images\")"
   ]
  },
  {
   "cell_type": "markdown",
   "metadata": {},
   "source": [
    "### Calculando metricas de distancias"
   ]
  },
  {
   "cell_type": "code",
   "execution_count": 24,
   "metadata": {},
   "outputs": [],
   "source": [
    "dists = euclidean_distances(kmeans.cluster_centers_)\n",
    "tri_dists = dists[np.triu_indices(3, 1)]\n",
    "max_dist, avg_dist, min_dist = tri_dists.max(), tri_dists.mean(), tri_dists.min()"
   ]
  },
  {
   "cell_type": "code",
   "execution_count": 25,
   "metadata": {},
   "outputs": [],
   "source": [
    "# registramos validating data\n",
    "dict_metrics = {\"max_dist\":max_dist, \"avg_dist\":avg_dist,\"min_dist\":min_dist}\n",
    "Myflow.model_logging_metrics(dict_metrics)"
   ]
  },
  {
   "cell_type": "markdown",
   "metadata": {},
   "source": [
    "## Terminando el experimento"
   ]
  },
  {
   "cell_type": "code",
   "execution_count": 26,
   "metadata": {},
   "outputs": [],
   "source": [
    "Myflow.end_experiment()"
   ]
  },
  {
   "cell_type": "code",
   "execution_count": null,
   "metadata": {},
   "outputs": [],
   "source": []
  }
 ],
 "metadata": {
  "kernelspec": {
   "display_name": "Python 3",
   "language": "python",
   "name": "python3"
  },
  "language_info": {
   "codemirror_mode": {
    "name": "ipython",
    "version": 3
   },
   "file_extension": ".py",
   "mimetype": "text/x-python",
   "name": "python",
   "nbconvert_exporter": "python",
   "pygments_lexer": "ipython3",
   "version": "3.7.4"
  }
 },
 "nbformat": 4,
 "nbformat_minor": 2
}
