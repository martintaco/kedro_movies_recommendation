{
 "cells": [
  {
   "cell_type": "markdown",
   "metadata": {},
   "source": [
    "# Binary Classification\n",
    "\n",
    "Este es un template de como manejariamos un modelo de clasificación con algoritmos de Boosting"
   ]
  },
  {
   "cell_type": "markdown",
   "metadata": {},
   "source": [
    "Es importante setear antes de iniciar algunas variables de entorno\n",
    "\n",
    "#### Linux / MAC\n",
    "\n",
    "```{bash}\n",
    "export BUCKET_MODEL=belc-bigdata-models-dlk-qas\n",
    "export FOLDER_MODEL=template-model\n",
    "export ENV_DEPLOY=QAS\n",
    "export MLFLOW_HOST=internal-alb-datalake-casetwo-qas-45252694.us-east-1.elb.amazonaws.com\n",
    "```\n",
    "\n"
   ]
  },
  {
   "cell_type": "code",
   "execution_count": 6,
   "metadata": {},
   "outputs": [
    {
     "name": "stdout",
     "output_type": "stream",
     "text": [
      "env: BUCKET_MODEL=belc-bigdata-models-dlk-qas\n",
      "env: FOLDER_MODEL=template-model\n",
      "env: ENV_DEPLOY=QAS\n",
      "env: MLFLOW_HOST=internal-alb-datalake-casetwo-qas-45252694.us-east-1.elb.amazonaws.com.\n"
     ]
    }
   ],
   "source": [
    "%env BUCKET_MODEL=belc-bigdata-models-dlk-qas\n",
    "%env FOLDER_MODEL=template-model\n",
    "%env ENV_DEPLOY=QAS\n",
    "%env MLFLOW_HOST=internal-alb-datalake-casetwo-qas-45252694.us-east-1.elb.amazonaws.com."
   ]
  },
  {
   "cell_type": "code",
   "execution_count": 7,
   "metadata": {},
   "outputs": [
    {
     "name": "stderr",
     "output_type": "stream",
     "text": [
      "/Users/manuel/opt/anaconda3/lib/python3.7/site-packages/requests/__init__.py:91: RequestsDependencyWarning: urllib3 (1.26.8) or chardet (3.0.4) doesn't match a supported version!\n",
      "  RequestsDependencyWarning)\n"
     ]
    }
   ],
   "source": [
    "import os\n",
    "import source.utils.mlflow as ml\n",
    "from datetime import datetime\n",
    "import source.utils.configvariables as uc"
   ]
  },
  {
   "cell_type": "code",
   "execution_count": 8,
   "metadata": {},
   "outputs": [],
   "source": [
    "import pandas as pd\n",
    "import numpy as np\n",
    "import matplotlib.pyplot as plt\n",
    "from sklearn.model_selection import GridSearchCV\n",
    "from sklearn.ensemble import RandomForestClassifier\n",
    "from sklearn.metrics import roc_auc_score, roc_curve"
   ]
  },
  {
   "cell_type": "code",
   "execution_count": 16,
   "metadata": {},
   "outputs": [],
   "source": [
    "from sklearn.pipeline import Pipeline\n",
    "from sklearn.compose import ColumnTransformer\n",
    "from sklearn.impute import SimpleImputer\n",
    "from sklearn.preprocessing import StandardScaler, OneHotEncoder"
   ]
  },
  {
   "cell_type": "markdown",
   "metadata": {},
   "source": [
    "# Configuracion MLFlow\n",
    "\n",
    "Seteamos algunas variable principales para iniciar nuestro proyecto"
   ]
  },
  {
   "cell_type": "code",
   "execution_count": null,
   "metadata": {},
   "outputs": [],
   "source": [
    "ml_flow_host = uc.env_ml_flow_host\n",
    "ml_flow_project = uc.env_ml_flow_project"
   ]
  },
  {
   "cell_type": "code",
   "execution_count": null,
   "metadata": {},
   "outputs": [],
   "source": [
    "Myflow = ml.MLFlowTracking(ml_flow_host)"
   ]
  },
  {
   "cell_type": "code",
   "execution_count": 12,
   "metadata": {},
   "outputs": [],
   "source": [
    "run_name = 'Propensity_Boosting'\n",
    "folder = 'propensity'\n",
    "seed = 12345"
   ]
  },
  {
   "cell_type": "markdown",
   "metadata": {},
   "source": [
    "## Iniciamos el experimento"
   ]
  },
  {
   "cell_type": "markdown",
   "metadata": {},
   "source": [
    "Iniciamos el experimiento en la herramienta mlflow"
   ]
  },
  {
   "cell_type": "code",
   "execution_count": null,
   "metadata": {},
   "outputs": [],
   "source": [
    "active_run = Myflow.start_experiment(ml_flow_project, run_name=run_name)\n",
    "active_run"
   ]
  },
  {
   "cell_type": "code",
   "execution_count": null,
   "metadata": {},
   "outputs": [],
   "source": [
    "dict_tags = {\"Enviroment\":uc.env_deploy,\n",
    "             \"Grupo\":\"Template\",\n",
    "             \"Proyecto\":\"Propensity\"}\n",
    "\n",
    "Myflow.model_logging_tags(dict_tags)"
   ]
  },
  {
   "cell_type": "code",
   "execution_count": null,
   "metadata": {},
   "outputs": [],
   "source": [
    "dict_params = {\"pipeline\":\"validation\",\n",
    "               \"country\":\"CORP\"}\n",
    "\n",
    "Myflow.model_logging_params(dict_params)"
   ]
  },
  {
   "cell_type": "code",
   "execution_count": null,
   "metadata": {},
   "outputs": [],
   "source": [
    "start_model = datetime.now()\n",
    "current_time = start_model.strftime(\"%H:%M:%S\")\n",
    "print(\"Current Time is :\", current_time)\n",
    "\n",
    "# registramos el inicio del train\n",
    "dict_params = {\"train_time1_start\":current_time}\n",
    "Myflow.model_logging_params(dict_params)"
   ]
  },
  {
   "cell_type": "markdown",
   "metadata": {},
   "source": [
    "### bases"
   ]
  },
  {
   "cell_type": "code",
   "execution_count": 13,
   "metadata": {},
   "outputs": [],
   "source": [
    "from sklearn.datasets import fetch_openml\n",
    "from sklearn.model_selection import train_test_split"
   ]
  },
  {
   "cell_type": "code",
   "execution_count": 50,
   "metadata": {},
   "outputs": [],
   "source": [
    "X, y = fetch_openml(\"titanic\", version=1, as_frame=True, return_X_y=True)\n",
    "y_train = y_train.astype(int)\n",
    "y_test = y_test.astype(int)\n",
    "X_train, X_test, y_train, y_test = train_test_split(X, y, test_size=0.2, random_state=seed)"
   ]
  },
  {
   "cell_type": "code",
   "execution_count": 51,
   "metadata": {},
   "outputs": [],
   "source": [
    "numeric_features = ['age', 'fare']\n",
    "numeric_transformer = Pipeline(steps=[\n",
    "    ('imputer', SimpleImputer(strategy='median')),\n",
    "    ('scaler', StandardScaler())])\n",
    "\n",
    "categorical_features = ['embarked', 'sex', 'pclass']\n",
    "categorical_transformer = Pipeline(steps=[\n",
    "    ('imputer', SimpleImputer(strategy='most_frequent')),\n",
    "    ('ohe', OneHotEncoder(handle_unknown='ignore'))])\n",
    "\n",
    "preprocessor = ColumnTransformer(transformers=[\n",
    "    ('num', numeric_transformer, numeric_features),\n",
    "    ('cat', categorical_transformer, categorical_features)])"
   ]
  },
  {
   "cell_type": "code",
   "execution_count": 52,
   "metadata": {},
   "outputs": [
    {
     "data": {
      "text/html": [
       "<style>div.sk-top-container {color: black;background-color: white;}div.sk-toggleable {background-color: white;}label.sk-toggleable__label {cursor: pointer;display: block;width: 100%;margin-bottom: 0;padding: 0.2em 0.3em;box-sizing: border-box;text-align: center;}div.sk-toggleable__content {max-height: 0;max-width: 0;overflow: hidden;text-align: left;background-color: #f0f8ff;}div.sk-toggleable__content pre {margin: 0.2em;color: black;border-radius: 0.25em;background-color: #f0f8ff;}input.sk-toggleable__control:checked~div.sk-toggleable__content {max-height: 200px;max-width: 100%;overflow: auto;}div.sk-estimator input.sk-toggleable__control:checked~label.sk-toggleable__label {background-color: #d4ebff;}div.sk-label input.sk-toggleable__control:checked~label.sk-toggleable__label {background-color: #d4ebff;}input.sk-hidden--visually {border: 0;clip: rect(1px 1px 1px 1px);clip: rect(1px, 1px, 1px, 1px);height: 1px;margin: -1px;overflow: hidden;padding: 0;position: absolute;width: 1px;}div.sk-estimator {font-family: monospace;background-color: #f0f8ff;margin: 0.25em 0.25em;border: 1px dotted black;border-radius: 0.25em;box-sizing: border-box;}div.sk-estimator:hover {background-color: #d4ebff;}div.sk-parallel-item::after {content: \"\";width: 100%;border-bottom: 1px solid gray;flex-grow: 1;}div.sk-label:hover label.sk-toggleable__label {background-color: #d4ebff;}div.sk-serial::before {content: \"\";position: absolute;border-left: 1px solid gray;box-sizing: border-box;top: 2em;bottom: 0;left: 50%;}div.sk-serial {display: flex;flex-direction: column;align-items: center;background-color: white;}div.sk-item {z-index: 1;}div.sk-parallel {display: flex;align-items: stretch;justify-content: center;background-color: white;}div.sk-parallel-item {display: flex;flex-direction: column;position: relative;background-color: white;}div.sk-parallel-item:first-child::after {align-self: flex-end;width: 50%;}div.sk-parallel-item:last-child::after {align-self: flex-start;width: 50%;}div.sk-parallel-item:only-child::after {width: 0;}div.sk-dashed-wrapped {border: 1px dashed gray;margin: 0.2em;box-sizing: border-box;padding-bottom: 0.1em;background-color: white;position: relative;}div.sk-label label {font-family: monospace;font-weight: bold;background-color: white;display: inline-block;line-height: 1.2em;}div.sk-label-container {position: relative;z-index: 2;text-align: center;}div.sk-container {display: inline-block;position: relative;}</style><div class=\"sk-top-container\"><div class=\"sk-container\"><div class=\"sk-item sk-dashed-wrapped\"><div class=\"sk-label-container\"><div class=\"sk-label sk-toggleable\"><input class=\"sk-toggleable__control sk-hidden--visually\" id=\"1f681462-f178-46f4-aba1-cc0726db68a9\" type=\"checkbox\" ><label class=\"sk-toggleable__label\" for=\"1f681462-f178-46f4-aba1-cc0726db68a9\">ColumnTransformer</label><div class=\"sk-toggleable__content\"><pre>ColumnTransformer(transformers=[('num',\n",
       "                                 Pipeline(steps=[('imputer',\n",
       "                                                  SimpleImputer(strategy='median')),\n",
       "                                                 ('scaler', StandardScaler())]),\n",
       "                                 ['age', 'fare']),\n",
       "                                ('cat',\n",
       "                                 Pipeline(steps=[('imputer',\n",
       "                                                  SimpleImputer(strategy='most_frequent')),\n",
       "                                                 ('ohe',\n",
       "                                                  OneHotEncoder(handle_unknown='ignore'))]),\n",
       "                                 ['embarked', 'sex', 'pclass'])])</pre></div></div></div><div class=\"sk-parallel\"><div class=\"sk-parallel-item\"><div class=\"sk-item\"><div class=\"sk-label-container\"><div class=\"sk-label sk-toggleable\"><input class=\"sk-toggleable__control sk-hidden--visually\" id=\"e447f2bd-6480-4549-9b6f-e4434d9a406a\" type=\"checkbox\" ><label class=\"sk-toggleable__label\" for=\"e447f2bd-6480-4549-9b6f-e4434d9a406a\">num</label><div class=\"sk-toggleable__content\"><pre>['age', 'fare']</pre></div></div></div><div class=\"sk-serial\"><div class=\"sk-item\"><div class=\"sk-serial\"><div class=\"sk-item\"><div class=\"sk-estimator sk-toggleable\"><input class=\"sk-toggleable__control sk-hidden--visually\" id=\"62cd47a5-e2d0-4133-a97e-3a52ff9e29ad\" type=\"checkbox\" ><label class=\"sk-toggleable__label\" for=\"62cd47a5-e2d0-4133-a97e-3a52ff9e29ad\">SimpleImputer</label><div class=\"sk-toggleable__content\"><pre>SimpleImputer(strategy='median')</pre></div></div></div><div class=\"sk-item\"><div class=\"sk-estimator sk-toggleable\"><input class=\"sk-toggleable__control sk-hidden--visually\" id=\"536a1206-5fd8-43a6-af67-9b3fc3351358\" type=\"checkbox\" ><label class=\"sk-toggleable__label\" for=\"536a1206-5fd8-43a6-af67-9b3fc3351358\">StandardScaler</label><div class=\"sk-toggleable__content\"><pre>StandardScaler()</pre></div></div></div></div></div></div></div></div><div class=\"sk-parallel-item\"><div class=\"sk-item\"><div class=\"sk-label-container\"><div class=\"sk-label sk-toggleable\"><input class=\"sk-toggleable__control sk-hidden--visually\" id=\"c298d63f-a620-42ce-9aa0-ab455c75195e\" type=\"checkbox\" ><label class=\"sk-toggleable__label\" for=\"c298d63f-a620-42ce-9aa0-ab455c75195e\">cat</label><div class=\"sk-toggleable__content\"><pre>['embarked', 'sex', 'pclass']</pre></div></div></div><div class=\"sk-serial\"><div class=\"sk-item\"><div class=\"sk-serial\"><div class=\"sk-item\"><div class=\"sk-estimator sk-toggleable\"><input class=\"sk-toggleable__control sk-hidden--visually\" id=\"73529e30-7e0c-474d-a542-fede9c8ef6a1\" type=\"checkbox\" ><label class=\"sk-toggleable__label\" for=\"73529e30-7e0c-474d-a542-fede9c8ef6a1\">SimpleImputer</label><div class=\"sk-toggleable__content\"><pre>SimpleImputer(strategy='most_frequent')</pre></div></div></div><div class=\"sk-item\"><div class=\"sk-estimator sk-toggleable\"><input class=\"sk-toggleable__control sk-hidden--visually\" id=\"e2a139a5-7bb7-4ccd-8907-d3c4ab5cef26\" type=\"checkbox\" ><label class=\"sk-toggleable__label\" for=\"e2a139a5-7bb7-4ccd-8907-d3c4ab5cef26\">OneHotEncoder</label><div class=\"sk-toggleable__content\"><pre>OneHotEncoder(handle_unknown='ignore')</pre></div></div></div></div></div></div></div></div></div></div></div></div>"
      ],
      "text/plain": [
       "ColumnTransformer(transformers=[('num',\n",
       "                                 Pipeline(steps=[('imputer',\n",
       "                                                  SimpleImputer(strategy='median')),\n",
       "                                                 ('scaler', StandardScaler())]),\n",
       "                                 ['age', 'fare']),\n",
       "                                ('cat',\n",
       "                                 Pipeline(steps=[('imputer',\n",
       "                                                  SimpleImputer(strategy='most_frequent')),\n",
       "                                                 ('ohe',\n",
       "                                                  OneHotEncoder(handle_unknown='ignore'))]),\n",
       "                                 ['embarked', 'sex', 'pclass'])])"
      ]
     },
     "execution_count": 52,
     "metadata": {},
     "output_type": "execute_result"
    }
   ],
   "source": [
    "from sklearn import set_config\n",
    "\n",
    "set_config(display='diagram')\n",
    "preprocessor"
   ]
  },
  {
   "cell_type": "code",
   "execution_count": 53,
   "metadata": {},
   "outputs": [],
   "source": [
    "preprocessor.fit(X_train)\n",
    "\n",
    "X_train = preprocessor.transform(X_train)\n",
    "X_test = preprocessor.transform(X_test)"
   ]
  },
  {
   "cell_type": "markdown",
   "metadata": {},
   "source": [
    "## modeling"
   ]
  },
  {
   "cell_type": "code",
   "execution_count": 61,
   "metadata": {},
   "outputs": [],
   "source": [
    "import xgboost as xgb\n",
    "from sklearn.metrics import roc_auc_score, f1_score, precision_recall_curve\n",
    "import matplotlib.pyplot as plt"
   ]
  },
  {
   "cell_type": "code",
   "execution_count": 55,
   "metadata": {},
   "outputs": [
    {
     "name": "stdout",
     "output_type": "stream",
     "text": [
      "[0]\ttrain-auc:0.83774\ttest-auc:0.85852\n",
      "Multiple eval metrics have been passed: 'test-auc' will be used for early stopping.\n",
      "\n",
      "Will train until test-auc hasn't improved in 20 rounds.\n",
      "[1]\ttrain-auc:0.84031\ttest-auc:0.86323\n",
      "[2]\ttrain-auc:0.84170\ttest-auc:0.86700\n",
      "[3]\ttrain-auc:0.84967\ttest-auc:0.87733\n",
      "[4]\ttrain-auc:0.85048\ttest-auc:0.87644\n",
      "[5]\ttrain-auc:0.84969\ttest-auc:0.87662\n",
      "[6]\ttrain-auc:0.85303\ttest-auc:0.87624\n",
      "[7]\ttrain-auc:0.85311\ttest-auc:0.87724\n",
      "[8]\ttrain-auc:0.85539\ttest-auc:0.89124\n",
      "[9]\ttrain-auc:0.85940\ttest-auc:0.89342\n",
      "[10]\ttrain-auc:0.86002\ttest-auc:0.89354\n",
      "[11]\ttrain-auc:0.86564\ttest-auc:0.89480\n",
      "[12]\ttrain-auc:0.86602\ttest-auc:0.89339\n",
      "[13]\ttrain-auc:0.86883\ttest-auc:0.88268\n",
      "[14]\ttrain-auc:0.87117\ttest-auc:0.88495\n",
      "[15]\ttrain-auc:0.87055\ttest-auc:0.88130\n",
      "[16]\ttrain-auc:0.87184\ttest-auc:0.88206\n",
      "[17]\ttrain-auc:0.87454\ttest-auc:0.88630\n",
      "[18]\ttrain-auc:0.87633\ttest-auc:0.88771\n",
      "[19]\ttrain-auc:0.87748\ttest-auc:0.88733\n",
      "[20]\ttrain-auc:0.87919\ttest-auc:0.88874\n",
      "[21]\ttrain-auc:0.88043\ttest-auc:0.88851\n",
      "[22]\ttrain-auc:0.88126\ttest-auc:0.88545\n",
      "[23]\ttrain-auc:0.88264\ttest-auc:0.88353\n",
      "[24]\ttrain-auc:0.88314\ttest-auc:0.88342\n",
      "[25]\ttrain-auc:0.88361\ttest-auc:0.88530\n",
      "[26]\ttrain-auc:0.88401\ttest-auc:0.88621\n",
      "[27]\ttrain-auc:0.88463\ttest-auc:0.88768\n",
      "[28]\ttrain-auc:0.88708\ttest-auc:0.88704\n",
      "[29]\ttrain-auc:0.88963\ttest-auc:0.88998\n",
      "[30]\ttrain-auc:0.89043\ttest-auc:0.89204\n",
      "[31]\ttrain-auc:0.89121\ttest-auc:0.89216\n",
      "Stopping. Best iteration:\n",
      "[11]\ttrain-auc:0.86564\ttest-auc:0.89480\n",
      "\n"
     ]
    }
   ],
   "source": [
    "dtrain =  xgb.DMatrix(data=X_train, label = y_train)\n",
    "dtest  = xgb.DMatrix(data=X_test,   label = y_test)\n",
    "\n",
    "watch_list  = [(dtrain,'train'),(dtest,'test')]\n",
    "params = {'eval_metric': 'auc', 'gamma': 0, 'max_depth': 3, 'min_child_weight': 10, 'objective': 'reg:logistic', 'seed': 2020}\n",
    "\n",
    "\n",
    "xgb_fit = xgb.train(params = params, dtrain = dtrain, \n",
    "                    num_boost_round = 1000, early_stopping_rounds = 20, \n",
    "                    evals = watch_list, verbose_eval=1)"
   ]
  },
  {
   "cell_type": "code",
   "execution_count": 56,
   "metadata": {},
   "outputs": [],
   "source": [
    "probs_train = xgb_fit.predict(dtrain, ntree_limit = xgb_fit.best_iteration)\n",
    "probs_val = xgb_fit.predict(dval, ntree_limit = xgb_fit.best_iteration)"
   ]
  },
  {
   "cell_type": "code",
   "execution_count": 65,
   "metadata": {},
   "outputs": [
    {
     "name": "stdout",
     "output_type": "stream",
     "text": [
      "auc_train: 0.860022 \tauc_val: 0.893538\n"
     ]
    }
   ],
   "source": [
    "auc_train = roc_auc_score(y_train, probs_train)\n",
    "auc_test = roc_auc_score(y_test, probs_val)\n",
    "\n",
    "print(f'auc_train: {auc_train:.6f} \\tauc_val: {auc_test:.6f}')"
   ]
  },
  {
   "cell_type": "markdown",
   "metadata": {},
   "source": [
    "## find the best threshold"
   ]
  },
  {
   "cell_type": "code",
   "execution_count": 59,
   "metadata": {},
   "outputs": [
    {
     "data": {
      "text/html": [
       "<div>\n",
       "<style scoped>\n",
       "    .dataframe tbody tr th:only-of-type {\n",
       "        vertical-align: middle;\n",
       "    }\n",
       "\n",
       "    .dataframe tbody tr th {\n",
       "        vertical-align: top;\n",
       "    }\n",
       "\n",
       "    .dataframe thead th {\n",
       "        text-align: right;\n",
       "    }\n",
       "</style>\n",
       "<table border=\"1\" class=\"dataframe\">\n",
       "  <thead>\n",
       "    <tr style=\"text-align: right;\">\n",
       "      <th></th>\n",
       "      <th>prec</th>\n",
       "      <th>recall</th>\n",
       "      <th>threshold</th>\n",
       "      <th>f1</th>\n",
       "    </tr>\n",
       "  </thead>\n",
       "  <tbody>\n",
       "    <tr>\n",
       "      <th>76</th>\n",
       "      <td>0.742268</td>\n",
       "      <td>0.753927</td>\n",
       "      <td>0.371558</td>\n",
       "      <td>0.748052</td>\n",
       "    </tr>\n",
       "    <tr>\n",
       "      <th>75</th>\n",
       "      <td>0.734694</td>\n",
       "      <td>0.753927</td>\n",
       "      <td>0.360667</td>\n",
       "      <td>0.744186</td>\n",
       "    </tr>\n",
       "    <tr>\n",
       "      <th>79</th>\n",
       "      <td>0.746702</td>\n",
       "      <td>0.740838</td>\n",
       "      <td>0.379146</td>\n",
       "      <td>0.743758</td>\n",
       "    </tr>\n",
       "    <tr>\n",
       "      <th>73</th>\n",
       "      <td>0.728643</td>\n",
       "      <td>0.759162</td>\n",
       "      <td>0.354296</td>\n",
       "      <td>0.743590</td>\n",
       "    </tr>\n",
       "    <tr>\n",
       "      <th>81</th>\n",
       "      <td>0.751337</td>\n",
       "      <td>0.735602</td>\n",
       "      <td>0.379479</td>\n",
       "      <td>0.743386</td>\n",
       "    </tr>\n",
       "    <tr>\n",
       "      <th>...</th>\n",
       "      <td>...</td>\n",
       "      <td>...</td>\n",
       "      <td>...</td>\n",
       "      <td>...</td>\n",
       "    </tr>\n",
       "    <tr>\n",
       "      <th>155</th>\n",
       "      <td>1.000000</td>\n",
       "      <td>0.120419</td>\n",
       "      <td>0.933602</td>\n",
       "      <td>0.214953</td>\n",
       "    </tr>\n",
       "    <tr>\n",
       "      <th>156</th>\n",
       "      <td>1.000000</td>\n",
       "      <td>0.115183</td>\n",
       "      <td>0.935257</td>\n",
       "      <td>0.206573</td>\n",
       "    </tr>\n",
       "    <tr>\n",
       "      <th>157</th>\n",
       "      <td>1.000000</td>\n",
       "      <td>0.062827</td>\n",
       "      <td>0.935999</td>\n",
       "      <td>0.118227</td>\n",
       "    </tr>\n",
       "    <tr>\n",
       "      <th>158</th>\n",
       "      <td>1.000000</td>\n",
       "      <td>0.057592</td>\n",
       "      <td>0.940053</td>\n",
       "      <td>0.108911</td>\n",
       "    </tr>\n",
       "    <tr>\n",
       "      <th>159</th>\n",
       "      <td>1.000000</td>\n",
       "      <td>0.036649</td>\n",
       "      <td>0.944976</td>\n",
       "      <td>0.070707</td>\n",
       "    </tr>\n",
       "  </tbody>\n",
       "</table>\n",
       "<p>160 rows × 4 columns</p>\n",
       "</div>"
      ],
      "text/plain": [
       "         prec    recall  threshold        f1\n",
       "76   0.742268  0.753927   0.371558  0.748052\n",
       "75   0.734694  0.753927   0.360667  0.744186\n",
       "79   0.746702  0.740838   0.379146  0.743758\n",
       "73   0.728643  0.759162   0.354296  0.743590\n",
       "81   0.751337  0.735602   0.379479  0.743386\n",
       "..        ...       ...        ...       ...\n",
       "155  1.000000  0.120419   0.933602  0.214953\n",
       "156  1.000000  0.115183   0.935257  0.206573\n",
       "157  1.000000  0.062827   0.935999  0.118227\n",
       "158  1.000000  0.057592   0.940053  0.108911\n",
       "159  1.000000  0.036649   0.944976  0.070707\n",
       "\n",
       "[160 rows x 4 columns]"
      ]
     },
     "execution_count": 59,
     "metadata": {},
     "output_type": "execute_result"
    }
   ],
   "source": [
    "y_train = y_train.astype(int)\n",
    "y_test = y_test.astype(int)\n",
    "\n",
    "prec, recall, threshold = precision_recall_curve(y_train, probs_train)\n",
    "prec_recall = pd.DataFrame({'prec': prec[:-1], 'recall': recall[:-1], 'threshold': threshold})\n",
    "prec_recall['f1'] = 2*prec_recall['prec']*prec_recall['recall'] / (prec_recall['prec'] + prec_recall['recall'])\n",
    "prec_recall = prec_recall.sort_values(by = 'f1', ascending = False)\n",
    "prec_recall"
   ]
  },
  {
   "cell_type": "code",
   "execution_count": 88,
   "metadata": {},
   "outputs": [
    {
     "data": {
      "image/png": "[encoded data removed]",
      "text/plain": [
       "<Figure size 432x288 with 1 Axes>"
      ]
     },
     "metadata": {
      "needs_background": "light"
     },
     "output_type": "display_data"
    }
   ],
   "source": [
    "y_train_pred = xgb_fit.predict(dtrain)\n",
    "auc = roc_auc_score(y_train, y_train_pred)\n",
    "\n",
    "precision, recall, thresholds = precision_recall_curve(y_train, y_train_pred)\n",
    "precision, recall = precision[:-1], recall[:-1]\n",
    "\n",
    "f1 = 2*precision*recall / (precision + recall)\n",
    "best_f1_index = f1.argmax()\n",
    "best_f1 = f1[best_f1_index]\n",
    "best_threshold = thresholds[best_f1_index]\n",
    "\n",
    "plt.rcParams.update({'font.size': 9})\n",
    "plt.plot(thresholds, recall, label= (\"Recall\"))\n",
    "plt.plot(thresholds, precision, label= (\"Precision\"))\n",
    "plt.title((f\"Train Precision and Recall (AUC = {auc:.4f}, F1 = {best_f1:.4f})\"))\n",
    "\n",
    "plt.plot(thresholds[best_f1_index], recall[best_f1_index], 'o', markersize=10,\n",
    "         label=f\"Mejor umbral: {best_threshold:.4f}\", fillstyle=\"none\", c='r', mew=2)\n",
    "plt.legend(loc='best', numpoints = 1)\n",
    "plt.show()"
   ]
  },
  {
   "cell_type": "code",
   "execution_count": 89,
   "metadata": {},
   "outputs": [
    {
     "data": {
      "image/png": "[encoded data removed]",
      "text/plain": [
       "<Figure size 432x288 with 1 Axes>"
      ]
     },
     "metadata": {
      "needs_background": "light"
     },
     "output_type": "display_data"
    }
   ],
   "source": [
    "y_test_pred = xgb_fit.predict(dtest)\n",
    "auc = roc_auc_score(y_test, y_test_pred)\n",
    "\n",
    "precision, recall, thresholds = precision_recall_curve(y_test, y_test_pred)\n",
    "precision, recall = precision[:-1], recall[:-1]\n",
    "\n",
    "plt.rcParams.update({'font.size': 9})\n",
    "plt.plot(thresholds, recall, label= (\"Recall\"))\n",
    "plt.plot(thresholds, precision, label= (\"Precision\"))\n",
    "plt.title((f\"Train Precision and Recall (AUC = {auc:.4f}, F1 = {best_f1:.4f})\"))\n",
    "\n",
    "plt.plot(umbrales[np.abs(thresholds - best_threshold).argmin()], recall[np.abs(umbrales - best_threshold).argmin()], 'o', markersize=10,\n",
    "         label=f\"Mejor umbral: {best_threshold:.4f}\", fillstyle=\"none\", c='r', mew=2)\n",
    "plt.legend(loc='best', numpoints = 1)\n",
    "plt.show()"
   ]
  },
  {
   "cell_type": "code",
   "execution_count": null,
   "metadata": {},
   "outputs": [],
   "source": [
    "end_model = datetime.now()\n",
    "current_time = end_model.strftime(\"%H:%M:%S\")\n",
    "\n",
    "# registramos el fin del train\n",
    "dict_params = {\"train_time2_end\":current_time}\n",
    "Myflow.model_logging_params(dict_params)\n",
    "\n",
    "dif_time = end_model-start_model\n",
    "# registramos el diferencia del train\n",
    "dict_params = {\"train_time3_duration\":dif_time}\n",
    "Myflow.model_logging_params(dict_params)"
   ]
  },
  {
   "cell_type": "code",
   "execution_count": null,
   "metadata": {},
   "outputs": [],
   "source": [
    "dict_metrics = {\"auc_train\":auc_train, \"score_test\":auc_test, \n",
    "                \"best_threshold\": best_threshold, \"best_f1\": best_f1}\n",
    "Myflow.model_logging_metrics(dict_metrics)"
   ]
  },
  {
   "cell_type": "code",
   "execution_count": null,
   "metadata": {},
   "outputs": [],
   "source": [
    "Myflow.end_experiment()"
   ]
  }
 ],
 "metadata": {
  "kernelspec": {
   "display_name": "Python 3",
   "language": "python",
   "name": "python3"
  },
  "language_info": {
   "codemirror_mode": {
    "name": "ipython",
    "version": 3
   },
   "file_extension": ".py",
   "mimetype": "text/x-python",
   "name": "python",
   "nbconvert_exporter": "python",
   "pygments_lexer": "ipython3",
   "version": "3.7.4"
  },
  "toc": {
   "base_numbering": 1,
   "nav_menu": {},
   "number_sections": true,
   "sideBar": true,
   "skip_h1_title": false,
   "title_cell": "Table of Contents",
   "title_sidebar": "Contents",
   "toc_cell": false,
   "toc_position": {
    "height": "calc(100% - 180px)",
    "left": "10px",
    "top": "150px",
    "width": "165px"
   },
   "toc_section_display": true,
   "toc_window_display": false
  },
  "varInspector": {
   "cols": {
    "lenName": 16,
    "lenType": 16,
    "lenVar": 40
   },
   "kernels_config": {
    "python": {
     "delete_cmd_postfix": "",
     "delete_cmd_prefix": "del ",
     "library": "var_list.py",
     "varRefreshCmd": "print(var_dic_list())"
    },
    "r": {
     "delete_cmd_postfix": ") ",
     "delete_cmd_prefix": "rm(",
     "library": "var_list.r",
     "varRefreshCmd": "cat(var_dic_list()) "
    }
   },
   "types_to_exclude": [
    "module",
    "function",
    "builtin_function_or_method",
    "instance",
    "_Feature"
   ],
   "window_display": false
  }
 },
 "nbformat": 4,
 "nbformat_minor": 4
}
