{
 "cells": [
  {
   "cell_type": "markdown",
   "metadata": {},
   "source": [
    "# Random Forest Classification\n",
    "\n",
    "Este es un template de como manejariamos un modelo de propensión con Random Forest"
   ]
  },
  {
   "cell_type": "markdown",
   "metadata": {},
   "source": [
    "Es importante setear antes de iniciar algunas variables de entorno\n",
    "\n",
    "#### Linux / MAC\n",
    "\n",
    "```{bash}\n",
    "export BUCKET_MODEL=belc-bigdata-models-dlk-qas\n",
    "export FOLDER_MODEL=template-model\n",
    "export ENV_DEPLOY=QAS\n",
    "export MLFLOW_HOST=internal-alb-datalake-casetwo-qas-45252694.us-east-1.elb.amazonaws.com\n",
    "```\n"
   ]
  },
  {
   "cell_type": "code",
   "execution_count": 1,
   "metadata": {},
   "outputs": [
    {
     "name": "stdout",
     "output_type": "stream",
     "text": [
      "env: BUCKET_MODEL=belc-bigdata-models-dlk-qas\n",
      "env: FOLDER_MODEL=template-model\n",
      "env: ENV_DEPLOY=QAS\n",
      "env: MLFLOW_HOST=internal-alb-datalake-casetwo-qas-45252694.us-east-1.elb.amazonaws.com\n"
     ]
    }
   ],
   "source": [
    "%env BUCKET_MODEL=belc-bigdata-models-dlk-qas\n",
    "%env FOLDER_MODEL=template-model\n",
    "%env ENV_DEPLOY=QAS\n",
    "%env MLFLOW_HOST=internal-alb-datalake-casetwo-qas-45252694.us-east-1.elb.amazonaws.com"
   ]
  },
  {
   "cell_type": "code",
   "execution_count": 2,
   "metadata": {},
   "outputs": [
    {
     "name": "stderr",
     "output_type": "stream",
     "text": [
      "/Users/manuel/opt/anaconda3/lib/python3.7/site-packages/requests/__init__.py:91: RequestsDependencyWarning: urllib3 (1.26.8) or chardet (3.0.4) doesn't match a supported version!\n",
      "  RequestsDependencyWarning)\n"
     ]
    }
   ],
   "source": [
    "import os\n",
    "import source.utils.mlflow as ml\n",
    "from datetime import datetime\n",
    "import source.utils.configvariables as uc"
   ]
  },
  {
   "cell_type": "code",
   "execution_count": 3,
   "metadata": {},
   "outputs": [],
   "source": [
    "import pandas as pd\n",
    "import numpy as np\n",
    "import matplotlib.pyplot as plt\n",
    "from sklearn.model_selection import GridSearchCV\n",
    "from sklearn.ensemble import RandomForestClassifier\n",
    "from sklearn.metrics import roc_auc_score, roc_curve"
   ]
  },
  {
   "cell_type": "markdown",
   "metadata": {},
   "source": [
    "# Configuracion MLFlow\n",
    "\n",
    "Seteamos algunas variable principales para iniciar nuestro proyecto"
   ]
  },
  {
   "cell_type": "code",
   "execution_count": 4,
   "metadata": {},
   "outputs": [],
   "source": [
    "ml_flow_host = uc.env_ml_flow_host\n",
    "ml_flow_project = uc.env_ml_flow_project"
   ]
  },
  {
   "cell_type": "code",
   "execution_count": 5,
   "metadata": {},
   "outputs": [],
   "source": [
    "Myflow = ml.MLFlowTracking(ml_flow_host)"
   ]
  },
  {
   "cell_type": "code",
   "execution_count": 6,
   "metadata": {},
   "outputs": [],
   "source": [
    "run_name = 'Propensity_RanfomForest'\n",
    "folder = 'propensity'\n",
    "target = 'Loan_Status'\n",
    "seed = 12345"
   ]
  },
  {
   "cell_type": "markdown",
   "metadata": {},
   "source": [
    "## Iniciamos el experimento"
   ]
  },
  {
   "cell_type": "markdown",
   "metadata": {},
   "source": [
    "Iniciamos el experimiento en la herramienta mlflow"
   ]
  },
  {
   "cell_type": "code",
   "execution_count": 7,
   "metadata": {},
   "outputs": [
    {
     "data": {
      "text/plain": [
       "<ActiveRun: >"
      ]
     },
     "execution_count": 7,
     "metadata": {},
     "output_type": "execute_result"
    }
   ],
   "source": [
    "active_run = Myflow.start_experiment(ml_flow_project, run_name=run_name)\n",
    "active_run"
   ]
  },
  {
   "cell_type": "code",
   "execution_count": 8,
   "metadata": {},
   "outputs": [],
   "source": [
    "dict_tags = {\"Enviroment\":uc.env_deploy,\n",
    "             \"Grupo\":\"Template\",\n",
    "             \"Proyecto\":\"Propensity\"}\n",
    "\n",
    "Myflow.model_logging_tags(dict_tags)"
   ]
  },
  {
   "cell_type": "code",
   "execution_count": 9,
   "metadata": {},
   "outputs": [],
   "source": [
    "dict_params = {\"pipeline\":\"validation\",\n",
    "               \"country\":\"CORP\"}\n",
    "\n",
    "Myflow.model_logging_params(dict_params)"
   ]
  },
  {
   "cell_type": "markdown",
   "metadata": {},
   "source": [
    "## Preparación de Datos"
   ]
  },
  {
   "cell_type": "code",
   "execution_count": 10,
   "metadata": {},
   "outputs": [],
   "source": [
    "file_name_data_train = \"data_test/train_preprocessed.csv\"\n",
    "file_name_data_test = \"data_test/test_preprocessed.csv\""
   ]
  },
  {
   "cell_type": "code",
   "execution_count": 11,
   "metadata": {},
   "outputs": [],
   "source": [
    "train = pd.read_csv(file_name_data_train)\n",
    "test = pd.read_csv(file_name_data_test)"
   ]
  },
  {
   "cell_type": "code",
   "execution_count": 12,
   "metadata": {},
   "outputs": [
    {
     "data": {
      "text/html": [
       "<div>\n",
       "<style scoped>\n",
       "    .dataframe tbody tr th:only-of-type {\n",
       "        vertical-align: middle;\n",
       "    }\n",
       "\n",
       "    .dataframe tbody tr th {\n",
       "        vertical-align: top;\n",
       "    }\n",
       "\n",
       "    .dataframe thead th {\n",
       "        text-align: right;\n",
       "    }\n",
       "</style>\n",
       "<table border=\"1\" class=\"dataframe\">\n",
       "  <thead>\n",
       "    <tr style=\"text-align: right;\">\n",
       "      <th></th>\n",
       "      <th>Dependents</th>\n",
       "      <th>ApplicantIncome</th>\n",
       "      <th>CoapplicantIncome</th>\n",
       "      <th>LoanAmount</th>\n",
       "      <th>Loan_Amount_Term</th>\n",
       "      <th>Credit_History</th>\n",
       "      <th>Gender_Male</th>\n",
       "      <th>Married_Yes</th>\n",
       "      <th>Education_Not Graduate</th>\n",
       "      <th>Self_Employed_Yes</th>\n",
       "      <th>Property_Area_Semiurban</th>\n",
       "      <th>Property_Area_Urban</th>\n",
       "      <th>TotalIncome</th>\n",
       "      <th>TotalIncomeByPerson</th>\n",
       "      <th>Cuota</th>\n",
       "      <th>%Cuota</th>\n",
       "      <th>Loan_Status</th>\n",
       "    </tr>\n",
       "  </thead>\n",
       "  <tbody>\n",
       "    <tr>\n",
       "      <th>0</th>\n",
       "      <td>0.0</td>\n",
       "      <td>0.066422</td>\n",
       "      <td>0.0</td>\n",
       "      <td>0.170767</td>\n",
       "      <td>0.72973</td>\n",
       "      <td>1.0</td>\n",
       "      <td>1.0</td>\n",
       "      <td>0.0</td>\n",
       "      <td>0.0</td>\n",
       "      <td>0.0</td>\n",
       "      <td>1.0</td>\n",
       "      <td>0.0</td>\n",
       "      <td>0.04797</td>\n",
       "      <td>0.064711</td>\n",
       "      <td>0.076574</td>\n",
       "      <td>0.078223</td>\n",
       "      <td>1</td>\n",
       "    </tr>\n",
       "  </tbody>\n",
       "</table>\n",
       "</div>"
      ],
      "text/plain": [
       "   Dependents  ApplicantIncome  CoapplicantIncome  LoanAmount  \\\n",
       "0         0.0         0.066422                0.0    0.170767   \n",
       "\n",
       "   Loan_Amount_Term  Credit_History  Gender_Male  Married_Yes  \\\n",
       "0           0.72973             1.0          1.0          0.0   \n",
       "\n",
       "   Education_Not Graduate  Self_Employed_Yes  Property_Area_Semiurban  \\\n",
       "0                     0.0                0.0                      1.0   \n",
       "\n",
       "   Property_Area_Urban  TotalIncome  TotalIncomeByPerson     Cuota    %Cuota  \\\n",
       "0                  0.0      0.04797             0.064711  0.076574  0.078223   \n",
       "\n",
       "   Loan_Status  \n",
       "0            1  "
      ]
     },
     "execution_count": 12,
     "metadata": {},
     "output_type": "execute_result"
    }
   ],
   "source": [
    "train.head(1)"
   ]
  },
  {
   "cell_type": "code",
   "execution_count": 13,
   "metadata": {},
   "outputs": [
    {
     "data": {
      "text/html": [
       "<div>\n",
       "<style scoped>\n",
       "    .dataframe tbody tr th:only-of-type {\n",
       "        vertical-align: middle;\n",
       "    }\n",
       "\n",
       "    .dataframe tbody tr th {\n",
       "        vertical-align: top;\n",
       "    }\n",
       "\n",
       "    .dataframe thead th {\n",
       "        text-align: right;\n",
       "    }\n",
       "</style>\n",
       "<table border=\"1\" class=\"dataframe\">\n",
       "  <thead>\n",
       "    <tr style=\"text-align: right;\">\n",
       "      <th></th>\n",
       "      <th>Dependents</th>\n",
       "      <th>ApplicantIncome</th>\n",
       "      <th>CoapplicantIncome</th>\n",
       "      <th>LoanAmount</th>\n",
       "      <th>Loan_Amount_Term</th>\n",
       "      <th>Credit_History</th>\n",
       "      <th>Gender_Male</th>\n",
       "      <th>Married_Yes</th>\n",
       "      <th>Education_Not Graduate</th>\n",
       "      <th>Self_Employed_Yes</th>\n",
       "      <th>Property_Area_Semiurban</th>\n",
       "      <th>Property_Area_Urban</th>\n",
       "      <th>TotalIncome</th>\n",
       "      <th>TotalIncomeByPerson</th>\n",
       "      <th>Cuota</th>\n",
       "      <th>%Cuota</th>\n",
       "      <th>Loan_Status</th>\n",
       "    </tr>\n",
       "  </thead>\n",
       "  <tbody>\n",
       "    <tr>\n",
       "      <th>0</th>\n",
       "      <td>0.333333</td>\n",
       "      <td>0.024735</td>\n",
       "      <td>0.0</td>\n",
       "      <td>0.075253</td>\n",
       "      <td>0.72973</td>\n",
       "      <td>1.0</td>\n",
       "      <td>1.0</td>\n",
       "      <td>1.0</td>\n",
       "      <td>0.0</td>\n",
       "      <td>0.0</td>\n",
       "      <td>0.0</td>\n",
       "      <td>0.0</td>\n",
       "      <td>0.010633</td>\n",
       "      <td>0.005578</td>\n",
       "      <td>0.033744</td>\n",
       "      <td>0.067586</td>\n",
       "      <td>1</td>\n",
       "    </tr>\n",
       "  </tbody>\n",
       "</table>\n",
       "</div>"
      ],
      "text/plain": [
       "   Dependents  ApplicantIncome  CoapplicantIncome  LoanAmount  \\\n",
       "0    0.333333         0.024735                0.0    0.075253   \n",
       "\n",
       "   Loan_Amount_Term  Credit_History  Gender_Male  Married_Yes  \\\n",
       "0           0.72973             1.0          1.0          1.0   \n",
       "\n",
       "   Education_Not Graduate  Self_Employed_Yes  Property_Area_Semiurban  \\\n",
       "0                     0.0                0.0                      0.0   \n",
       "\n",
       "   Property_Area_Urban  TotalIncome  TotalIncomeByPerson     Cuota    %Cuota  \\\n",
       "0                  0.0     0.010633             0.005578  0.033744  0.067586   \n",
       "\n",
       "   Loan_Status  \n",
       "0            1  "
      ]
     },
     "execution_count": 13,
     "metadata": {},
     "output_type": "execute_result"
    }
   ],
   "source": [
    "test.head(1)"
   ]
  },
  {
   "cell_type": "code",
   "execution_count": 14,
   "metadata": {},
   "outputs": [],
   "source": [
    "def plot_roc_curve(y, y_proba, label = '', path=None):\n",
    "    '''\n",
    "    plot roc curve for target and probabilities\n",
    "    \n",
    "    params:\n",
    "    y: original target\n",
    "    y_proba: model probabilities\n",
    "    label: model label\n",
    "    path: path to log on MLFlow\n",
    "    '''\n",
    "    \n",
    "    auc_roc = roc_auc_score(y, y_proba)\n",
    "    fpr, tpr, thresholds = roc_curve(y, y_proba)\n",
    "    \n",
    "    plt.figure(figsize=(8,6))\n",
    "    plt.rcParams.update({'font.size': 12})\n",
    "    plt.plot(fpr, fpr, c = 'red')\n",
    "    plt.plot(fpr, tpr, label= (f\"Curva ROC {label} (AUC = {auc_roc:.4f})\"))\n",
    "    plt.xlabel(\"FPR\")\n",
    "    plt.ylabel(\"TPR\")\n",
    "    plt.title(f\"Curva ROC {label}\")\n",
    "    plt.legend(loc=4, numpoints=1)\n",
    "    \n",
    "    plt.show()\n",
    "    \n",
    "    #save to MLFlow\n",
    "    if path:\n",
    "        plt.savefig(path)"
   ]
  },
  {
   "cell_type": "code",
   "execution_count": 15,
   "metadata": {},
   "outputs": [],
   "source": [
    "def get_feature_importances(model, columns):\n",
    "    '''\n",
    "    get a dataframe with feature importances for the model\n",
    "    \n",
    "    params:\n",
    "    model: trained model\n",
    "    columns: column names used for the model\n",
    "    '''\n",
    "    \n",
    "    importances = pd.DataFrame({'columna': columns, 'importance': model.feature_importances_})\n",
    "    importances = importances.sort_values(by = 'importance', ascending = False)\n",
    "    return importances"
   ]
  },
  {
   "cell_type": "code",
   "execution_count": 16,
   "metadata": {},
   "outputs": [],
   "source": [
    "def get_best_params(model, param_grid, metric, X_train, y_train):\n",
    "    '''\n",
    "    train with cross validation \n",
    "    \n",
    "    params:\n",
    "    model, param_grid, metric: params for the grid search object\n",
    "    X_train, y_train: dataset for model fitting\n",
    "    '''\n",
    "    \n",
    "    gs = GridSearchCV(estimator = model, param_grid = param_grid, scoring = metric)\n",
    "    gs.fit(X_train, y_train)\n",
    "    \n",
    "    gs_report = {}\n",
    "    \n",
    "    gs_report['results'] = pd.DataFrame(gs.cv_results_)\n",
    "    gs_report['best_params'] = gs.best_params_\n",
    "    gs_report['best_model'] = gs.best_estimator_\n",
    "    \n",
    "    return gs_report"
   ]
  },
  {
   "cell_type": "markdown",
   "metadata": {},
   "source": [
    "### Trabajamos con el modelo"
   ]
  },
  {
   "cell_type": "code",
   "execution_count": 17,
   "metadata": {},
   "outputs": [
    {
     "name": "stdout",
     "output_type": "stream",
     "text": [
      "Current Time is : 15:01:41\n"
     ]
    }
   ],
   "source": [
    "start_model = datetime.now()\n",
    "current_time = start_model.strftime(\"%H:%M:%S\")\n",
    "print(\"Current Time is :\", current_time)\n",
    "\n",
    "# registramos el inicio del train\n",
    "dict_params = {\"train_time1_start\":current_time}\n",
    "Myflow.model_logging_params(dict_params)"
   ]
  },
  {
   "cell_type": "markdown",
   "metadata": {},
   "source": [
    "#### Training"
   ]
  },
  {
   "cell_type": "code",
   "execution_count": 18,
   "metadata": {},
   "outputs": [],
   "source": [
    "X_train = train.drop(target, axis = 1)\n",
    "y_train = train[target]\n",
    "\n",
    "X_test = test.drop(target, axis = 1)\n",
    "y_test = test[target]"
   ]
  },
  {
   "cell_type": "code",
   "execution_count": 19,
   "metadata": {},
   "outputs": [],
   "source": [
    "params = {'criterion': ['gini', 'entropy'],\n",
    "          'max_depth': [5, 10],\n",
    "          'min_samples_split': [25, 50],\n",
    "          'n_estimators': [25, 50],\n",
    "          'random_state': [seed]}"
   ]
  },
  {
   "cell_type": "code",
   "execution_count": 20,
   "metadata": {},
   "outputs": [],
   "source": [
    "report = get_best_params(RandomForestClassifier(), params, 'roc_auc', X_train, y_train)\n",
    "best_model = report['best_model']\n",
    "best_params = report['best_params']\n",
    "results = report['results']"
   ]
  },
  {
   "cell_type": "code",
   "execution_count": 21,
   "metadata": {},
   "outputs": [
    {
     "data": {
      "text/html": [
       "<div>\n",
       "<style scoped>\n",
       "    .dataframe tbody tr th:only-of-type {\n",
       "        vertical-align: middle;\n",
       "    }\n",
       "\n",
       "    .dataframe tbody tr th {\n",
       "        vertical-align: top;\n",
       "    }\n",
       "\n",
       "    .dataframe thead th {\n",
       "        text-align: right;\n",
       "    }\n",
       "</style>\n",
       "<table border=\"1\" class=\"dataframe\">\n",
       "  <thead>\n",
       "    <tr style=\"text-align: right;\">\n",
       "      <th></th>\n",
       "      <th>mean_fit_time</th>\n",
       "      <th>std_fit_time</th>\n",
       "      <th>mean_score_time</th>\n",
       "      <th>std_score_time</th>\n",
       "      <th>param_criterion</th>\n",
       "      <th>param_max_depth</th>\n",
       "      <th>param_min_samples_split</th>\n",
       "      <th>param_n_estimators</th>\n",
       "      <th>param_random_state</th>\n",
       "      <th>params</th>\n",
       "      <th>split0_test_score</th>\n",
       "      <th>split1_test_score</th>\n",
       "      <th>split2_test_score</th>\n",
       "      <th>split3_test_score</th>\n",
       "      <th>split4_test_score</th>\n",
       "      <th>mean_test_score</th>\n",
       "      <th>std_test_score</th>\n",
       "      <th>rank_test_score</th>\n",
       "    </tr>\n",
       "  </thead>\n",
       "  <tbody>\n",
       "    <tr>\n",
       "      <th>0</th>\n",
       "      <td>0.033440</td>\n",
       "      <td>0.003651</td>\n",
       "      <td>0.004508</td>\n",
       "      <td>0.000482</td>\n",
       "      <td>gini</td>\n",
       "      <td>5</td>\n",
       "      <td>25</td>\n",
       "      <td>25</td>\n",
       "      <td>12345</td>\n",
       "      <td>{'criterion': 'gini', 'max_depth': 5, 'min_sam...</td>\n",
       "      <td>0.724858</td>\n",
       "      <td>0.784304</td>\n",
       "      <td>0.784304</td>\n",
       "      <td>0.773712</td>\n",
       "      <td>0.705392</td>\n",
       "      <td>0.754514</td>\n",
       "      <td>0.032973</td>\n",
       "      <td>6</td>\n",
       "    </tr>\n",
       "    <tr>\n",
       "      <th>1</th>\n",
       "      <td>0.056978</td>\n",
       "      <td>0.001639</td>\n",
       "      <td>0.005798</td>\n",
       "      <td>0.000673</td>\n",
       "      <td>gini</td>\n",
       "      <td>5</td>\n",
       "      <td>25</td>\n",
       "      <td>50</td>\n",
       "      <td>12345</td>\n",
       "      <td>{'criterion': 'gini', 'max_depth': 5, 'min_sam...</td>\n",
       "      <td>0.731025</td>\n",
       "      <td>0.776601</td>\n",
       "      <td>0.786230</td>\n",
       "      <td>0.771786</td>\n",
       "      <td>0.719608</td>\n",
       "      <td>0.757050</td>\n",
       "      <td>0.026571</td>\n",
       "      <td>5</td>\n",
       "    </tr>\n",
       "    <tr>\n",
       "      <th>2</th>\n",
       "      <td>0.029576</td>\n",
       "      <td>0.000492</td>\n",
       "      <td>0.003959</td>\n",
       "      <td>0.000079</td>\n",
       "      <td>gini</td>\n",
       "      <td>5</td>\n",
       "      <td>50</td>\n",
       "      <td>25</td>\n",
       "      <td>12345</td>\n",
       "      <td>{'criterion': 'gini', 'max_depth': 5, 'min_sam...</td>\n",
       "      <td>0.715133</td>\n",
       "      <td>0.773712</td>\n",
       "      <td>0.789119</td>\n",
       "      <td>0.787193</td>\n",
       "      <td>0.682843</td>\n",
       "      <td>0.749600</td>\n",
       "      <td>0.042897</td>\n",
       "      <td>13</td>\n",
       "    </tr>\n",
       "    <tr>\n",
       "      <th>3</th>\n",
       "      <td>0.055812</td>\n",
       "      <td>0.002441</td>\n",
       "      <td>0.005400</td>\n",
       "      <td>0.000118</td>\n",
       "      <td>gini</td>\n",
       "      <td>5</td>\n",
       "      <td>50</td>\n",
       "      <td>50</td>\n",
       "      <td>12345</td>\n",
       "      <td>{'criterion': 'gini', 'max_depth': 5, 'min_sam...</td>\n",
       "      <td>0.716082</td>\n",
       "      <td>0.749639</td>\n",
       "      <td>0.810785</td>\n",
       "      <td>0.789119</td>\n",
       "      <td>0.700000</td>\n",
       "      <td>0.753125</td>\n",
       "      <td>0.042016</td>\n",
       "      <td>7</td>\n",
       "    </tr>\n",
       "    <tr>\n",
       "      <th>4</th>\n",
       "      <td>0.029558</td>\n",
       "      <td>0.000140</td>\n",
       "      <td>0.003807</td>\n",
       "      <td>0.000031</td>\n",
       "      <td>gini</td>\n",
       "      <td>10</td>\n",
       "      <td>25</td>\n",
       "      <td>25</td>\n",
       "      <td>12345</td>\n",
       "      <td>{'criterion': 'gini', 'max_depth': 10, 'min_sa...</td>\n",
       "      <td>0.728178</td>\n",
       "      <td>0.769860</td>\n",
       "      <td>0.809822</td>\n",
       "      <td>0.772268</td>\n",
       "      <td>0.723039</td>\n",
       "      <td>0.760634</td>\n",
       "      <td>0.031958</td>\n",
       "      <td>3</td>\n",
       "    </tr>\n",
       "    <tr>\n",
       "      <th>5</th>\n",
       "      <td>0.057935</td>\n",
       "      <td>0.000878</td>\n",
       "      <td>0.005399</td>\n",
       "      <td>0.000111</td>\n",
       "      <td>gini</td>\n",
       "      <td>10</td>\n",
       "      <td>25</td>\n",
       "      <td>50</td>\n",
       "      <td>12345</td>\n",
       "      <td>{'criterion': 'gini', 'max_depth': 10, 'min_sa...</td>\n",
       "      <td>0.732922</td>\n",
       "      <td>0.764083</td>\n",
       "      <td>0.792971</td>\n",
       "      <td>0.772749</td>\n",
       "      <td>0.724510</td>\n",
       "      <td>0.757447</td>\n",
       "      <td>0.025403</td>\n",
       "      <td>4</td>\n",
       "    </tr>\n",
       "    <tr>\n",
       "      <th>6</th>\n",
       "      <td>0.028866</td>\n",
       "      <td>0.000362</td>\n",
       "      <td>0.003844</td>\n",
       "      <td>0.000086</td>\n",
       "      <td>gini</td>\n",
       "      <td>10</td>\n",
       "      <td>50</td>\n",
       "      <td>25</td>\n",
       "      <td>12345</td>\n",
       "      <td>{'criterion': 'gini', 'max_depth': 10, 'min_sa...</td>\n",
       "      <td>0.722486</td>\n",
       "      <td>0.769860</td>\n",
       "      <td>0.799230</td>\n",
       "      <td>0.794896</td>\n",
       "      <td>0.735294</td>\n",
       "      <td>0.764353</td>\n",
       "      <td>0.030909</td>\n",
       "      <td>1</td>\n",
       "    </tr>\n",
       "    <tr>\n",
       "      <th>7</th>\n",
       "      <td>0.056706</td>\n",
       "      <td>0.001052</td>\n",
       "      <td>0.005637</td>\n",
       "      <td>0.000287</td>\n",
       "      <td>gini</td>\n",
       "      <td>10</td>\n",
       "      <td>50</td>\n",
       "      <td>50</td>\n",
       "      <td>12345</td>\n",
       "      <td>{'criterion': 'gini', 'max_depth': 10, 'min_sa...</td>\n",
       "      <td>0.726755</td>\n",
       "      <td>0.757824</td>\n",
       "      <td>0.805489</td>\n",
       "      <td>0.788637</td>\n",
       "      <td>0.728922</td>\n",
       "      <td>0.761525</td>\n",
       "      <td>0.031475</td>\n",
       "      <td>2</td>\n",
       "    </tr>\n",
       "    <tr>\n",
       "      <th>8</th>\n",
       "      <td>0.029783</td>\n",
       "      <td>0.000530</td>\n",
       "      <td>0.003936</td>\n",
       "      <td>0.000212</td>\n",
       "      <td>entropy</td>\n",
       "      <td>5</td>\n",
       "      <td>25</td>\n",
       "      <td>25</td>\n",
       "      <td>12345</td>\n",
       "      <td>{'criterion': 'entropy', 'max_depth': 5, 'min_...</td>\n",
       "      <td>0.725095</td>\n",
       "      <td>0.741454</td>\n",
       "      <td>0.791045</td>\n",
       "      <td>0.778527</td>\n",
       "      <td>0.718627</td>\n",
       "      <td>0.750950</td>\n",
       "      <td>0.028884</td>\n",
       "      <td>10</td>\n",
       "    </tr>\n",
       "    <tr>\n",
       "      <th>9</th>\n",
       "      <td>0.059997</td>\n",
       "      <td>0.004048</td>\n",
       "      <td>0.005794</td>\n",
       "      <td>0.000473</td>\n",
       "      <td>entropy</td>\n",
       "      <td>5</td>\n",
       "      <td>25</td>\n",
       "      <td>50</td>\n",
       "      <td>12345</td>\n",
       "      <td>{'criterion': 'entropy', 'max_depth': 5, 'min_...</td>\n",
       "      <td>0.715370</td>\n",
       "      <td>0.765527</td>\n",
       "      <td>0.777564</td>\n",
       "      <td>0.777082</td>\n",
       "      <td>0.717157</td>\n",
       "      <td>0.750540</td>\n",
       "      <td>0.028322</td>\n",
       "      <td>11</td>\n",
       "    </tr>\n",
       "    <tr>\n",
       "      <th>10</th>\n",
       "      <td>0.029054</td>\n",
       "      <td>0.000519</td>\n",
       "      <td>0.004008</td>\n",
       "      <td>0.000331</td>\n",
       "      <td>entropy</td>\n",
       "      <td>5</td>\n",
       "      <td>50</td>\n",
       "      <td>25</td>\n",
       "      <td>12345</td>\n",
       "      <td>{'criterion': 'entropy', 'max_depth': 5, 'min_...</td>\n",
       "      <td>0.695920</td>\n",
       "      <td>0.752528</td>\n",
       "      <td>0.773953</td>\n",
       "      <td>0.793452</td>\n",
       "      <td>0.675980</td>\n",
       "      <td>0.738367</td>\n",
       "      <td>0.045155</td>\n",
       "      <td>16</td>\n",
       "    </tr>\n",
       "    <tr>\n",
       "      <th>11</th>\n",
       "      <td>0.060273</td>\n",
       "      <td>0.004657</td>\n",
       "      <td>0.005618</td>\n",
       "      <td>0.000312</td>\n",
       "      <td>entropy</td>\n",
       "      <td>5</td>\n",
       "      <td>50</td>\n",
       "      <td>50</td>\n",
       "      <td>12345</td>\n",
       "      <td>{'criterion': 'entropy', 'max_depth': 5, 'min_...</td>\n",
       "      <td>0.708254</td>\n",
       "      <td>0.741454</td>\n",
       "      <td>0.779490</td>\n",
       "      <td>0.793934</td>\n",
       "      <td>0.680392</td>\n",
       "      <td>0.740705</td>\n",
       "      <td>0.042494</td>\n",
       "      <td>15</td>\n",
       "    </tr>\n",
       "    <tr>\n",
       "      <th>12</th>\n",
       "      <td>0.031296</td>\n",
       "      <td>0.000287</td>\n",
       "      <td>0.003774</td>\n",
       "      <td>0.000015</td>\n",
       "      <td>entropy</td>\n",
       "      <td>10</td>\n",
       "      <td>25</td>\n",
       "      <td>25</td>\n",
       "      <td>12345</td>\n",
       "      <td>{'criterion': 'entropy', 'max_depth': 10, 'min...</td>\n",
       "      <td>0.713947</td>\n",
       "      <td>0.714011</td>\n",
       "      <td>0.794415</td>\n",
       "      <td>0.752046</td>\n",
       "      <td>0.749020</td>\n",
       "      <td>0.744688</td>\n",
       "      <td>0.029772</td>\n",
       "      <td>14</td>\n",
       "    </tr>\n",
       "    <tr>\n",
       "      <th>13</th>\n",
       "      <td>0.062591</td>\n",
       "      <td>0.001706</td>\n",
       "      <td>0.005553</td>\n",
       "      <td>0.000271</td>\n",
       "      <td>entropy</td>\n",
       "      <td>10</td>\n",
       "      <td>25</td>\n",
       "      <td>50</td>\n",
       "      <td>12345</td>\n",
       "      <td>{'criterion': 'entropy', 'max_depth': 10, 'min...</td>\n",
       "      <td>0.728178</td>\n",
       "      <td>0.716899</td>\n",
       "      <td>0.786712</td>\n",
       "      <td>0.781416</td>\n",
       "      <td>0.751471</td>\n",
       "      <td>0.752935</td>\n",
       "      <td>0.027805</td>\n",
       "      <td>8</td>\n",
       "    </tr>\n",
       "    <tr>\n",
       "      <th>14</th>\n",
       "      <td>0.030690</td>\n",
       "      <td>0.000647</td>\n",
       "      <td>0.003822</td>\n",
       "      <td>0.000109</td>\n",
       "      <td>entropy</td>\n",
       "      <td>10</td>\n",
       "      <td>50</td>\n",
       "      <td>25</td>\n",
       "      <td>12345</td>\n",
       "      <td>{'criterion': 'entropy', 'max_depth': 10, 'min...</td>\n",
       "      <td>0.690939</td>\n",
       "      <td>0.756861</td>\n",
       "      <td>0.793452</td>\n",
       "      <td>0.786712</td>\n",
       "      <td>0.723039</td>\n",
       "      <td>0.750201</td>\n",
       "      <td>0.038724</td>\n",
       "      <td>12</td>\n",
       "    </tr>\n",
       "    <tr>\n",
       "      <th>15</th>\n",
       "      <td>0.058328</td>\n",
       "      <td>0.000678</td>\n",
       "      <td>0.005423</td>\n",
       "      <td>0.000304</td>\n",
       "      <td>entropy</td>\n",
       "      <td>10</td>\n",
       "      <td>50</td>\n",
       "      <td>50</td>\n",
       "      <td>12345</td>\n",
       "      <td>{'criterion': 'entropy', 'max_depth': 10, 'min...</td>\n",
       "      <td>0.711575</td>\n",
       "      <td>0.748676</td>\n",
       "      <td>0.796822</td>\n",
       "      <td>0.788637</td>\n",
       "      <td>0.716667</td>\n",
       "      <td>0.752475</td>\n",
       "      <td>0.035338</td>\n",
       "      <td>9</td>\n",
       "    </tr>\n",
       "  </tbody>\n",
       "</table>\n",
       "</div>"
      ],
      "text/plain": [
       "    mean_fit_time  std_fit_time  mean_score_time  std_score_time  \\\n",
       "0        0.033440      0.003651         0.004508        0.000482   \n",
       "1        0.056978      0.001639         0.005798        0.000673   \n",
       "2        0.029576      0.000492         0.003959        0.000079   \n",
       "3        0.055812      0.002441         0.005400        0.000118   \n",
       "4        0.029558      0.000140         0.003807        0.000031   \n",
       "5        0.057935      0.000878         0.005399        0.000111   \n",
       "6        0.028866      0.000362         0.003844        0.000086   \n",
       "7        0.056706      0.001052         0.005637        0.000287   \n",
       "8        0.029783      0.000530         0.003936        0.000212   \n",
       "9        0.059997      0.004048         0.005794        0.000473   \n",
       "10       0.029054      0.000519         0.004008        0.000331   \n",
       "11       0.060273      0.004657         0.005618        0.000312   \n",
       "12       0.031296      0.000287         0.003774        0.000015   \n",
       "13       0.062591      0.001706         0.005553        0.000271   \n",
       "14       0.030690      0.000647         0.003822        0.000109   \n",
       "15       0.058328      0.000678         0.005423        0.000304   \n",
       "\n",
       "   param_criterion param_max_depth param_min_samples_split param_n_estimators  \\\n",
       "0             gini               5                      25                 25   \n",
       "1             gini               5                      25                 50   \n",
       "2             gini               5                      50                 25   \n",
       "3             gini               5                      50                 50   \n",
       "4             gini              10                      25                 25   \n",
       "5             gini              10                      25                 50   \n",
       "6             gini              10                      50                 25   \n",
       "7             gini              10                      50                 50   \n",
       "8          entropy               5                      25                 25   \n",
       "9          entropy               5                      25                 50   \n",
       "10         entropy               5                      50                 25   \n",
       "11         entropy               5                      50                 50   \n",
       "12         entropy              10                      25                 25   \n",
       "13         entropy              10                      25                 50   \n",
       "14         entropy              10                      50                 25   \n",
       "15         entropy              10                      50                 50   \n",
       "\n",
       "   param_random_state                                             params  \\\n",
       "0               12345  {'criterion': 'gini', 'max_depth': 5, 'min_sam...   \n",
       "1               12345  {'criterion': 'gini', 'max_depth': 5, 'min_sam...   \n",
       "2               12345  {'criterion': 'gini', 'max_depth': 5, 'min_sam...   \n",
       "3               12345  {'criterion': 'gini', 'max_depth': 5, 'min_sam...   \n",
       "4               12345  {'criterion': 'gini', 'max_depth': 10, 'min_sa...   \n",
       "5               12345  {'criterion': 'gini', 'max_depth': 10, 'min_sa...   \n",
       "6               12345  {'criterion': 'gini', 'max_depth': 10, 'min_sa...   \n",
       "7               12345  {'criterion': 'gini', 'max_depth': 10, 'min_sa...   \n",
       "8               12345  {'criterion': 'entropy', 'max_depth': 5, 'min_...   \n",
       "9               12345  {'criterion': 'entropy', 'max_depth': 5, 'min_...   \n",
       "10              12345  {'criterion': 'entropy', 'max_depth': 5, 'min_...   \n",
       "11              12345  {'criterion': 'entropy', 'max_depth': 5, 'min_...   \n",
       "12              12345  {'criterion': 'entropy', 'max_depth': 10, 'min...   \n",
       "13              12345  {'criterion': 'entropy', 'max_depth': 10, 'min...   \n",
       "14              12345  {'criterion': 'entropy', 'max_depth': 10, 'min...   \n",
       "15              12345  {'criterion': 'entropy', 'max_depth': 10, 'min...   \n",
       "\n",
       "    split0_test_score  split1_test_score  split2_test_score  \\\n",
       "0            0.724858           0.784304           0.784304   \n",
       "1            0.731025           0.776601           0.786230   \n",
       "2            0.715133           0.773712           0.789119   \n",
       "3            0.716082           0.749639           0.810785   \n",
       "4            0.728178           0.769860           0.809822   \n",
       "5            0.732922           0.764083           0.792971   \n",
       "6            0.722486           0.769860           0.799230   \n",
       "7            0.726755           0.757824           0.805489   \n",
       "8            0.725095           0.741454           0.791045   \n",
       "9            0.715370           0.765527           0.777564   \n",
       "10           0.695920           0.752528           0.773953   \n",
       "11           0.708254           0.741454           0.779490   \n",
       "12           0.713947           0.714011           0.794415   \n",
       "13           0.728178           0.716899           0.786712   \n",
       "14           0.690939           0.756861           0.793452   \n",
       "15           0.711575           0.748676           0.796822   \n",
       "\n",
       "    split3_test_score  split4_test_score  mean_test_score  std_test_score  \\\n",
       "0            0.773712           0.705392         0.754514        0.032973   \n",
       "1            0.771786           0.719608         0.757050        0.026571   \n",
       "2            0.787193           0.682843         0.749600        0.042897   \n",
       "3            0.789119           0.700000         0.753125        0.042016   \n",
       "4            0.772268           0.723039         0.760634        0.031958   \n",
       "5            0.772749           0.724510         0.757447        0.025403   \n",
       "6            0.794896           0.735294         0.764353        0.030909   \n",
       "7            0.788637           0.728922         0.761525        0.031475   \n",
       "8            0.778527           0.718627         0.750950        0.028884   \n",
       "9            0.777082           0.717157         0.750540        0.028322   \n",
       "10           0.793452           0.675980         0.738367        0.045155   \n",
       "11           0.793934           0.680392         0.740705        0.042494   \n",
       "12           0.752046           0.749020         0.744688        0.029772   \n",
       "13           0.781416           0.751471         0.752935        0.027805   \n",
       "14           0.786712           0.723039         0.750201        0.038724   \n",
       "15           0.788637           0.716667         0.752475        0.035338   \n",
       "\n",
       "    rank_test_score  \n",
       "0                 6  \n",
       "1                 5  \n",
       "2                13  \n",
       "3                 7  \n",
       "4                 3  \n",
       "5                 4  \n",
       "6                 1  \n",
       "7                 2  \n",
       "8                10  \n",
       "9                11  \n",
       "10               16  \n",
       "11               15  \n",
       "12               14  \n",
       "13                8  \n",
       "14               12  \n",
       "15                9  "
      ]
     },
     "execution_count": 21,
     "metadata": {},
     "output_type": "execute_result"
    }
   ],
   "source": [
    "results"
   ]
  },
  {
   "cell_type": "code",
   "execution_count": 22,
   "metadata": {},
   "outputs": [
    {
     "data": {
      "image/png": "[encoded data removed]",
      "text/plain": [
       "<Figure size 576x432 with 1 Axes>"
      ]
     },
     "metadata": {
      "needs_background": "light"
     },
     "output_type": "display_data"
    },
    {
     "data": {
      "text/plain": [
       "<Figure size 432x288 with 0 Axes>"
      ]
     },
     "metadata": {},
     "output_type": "display_data"
    },
    {
     "data": {
      "image/png": "[encoded data removed]",
      "text/plain": [
       "<Figure size 576x432 with 1 Axes>"
      ]
     },
     "metadata": {
      "needs_background": "light"
     },
     "output_type": "display_data"
    },
    {
     "data": {
      "text/plain": [
       "<Figure size 432x288 with 0 Axes>"
      ]
     },
     "metadata": {},
     "output_type": "display_data"
    }
   ],
   "source": [
    "y_train_pred = best_model.predict_proba(X_train)[:,1]\n",
    "y_test_pred = best_model.predict_proba(X_test)[:,1]\n",
    "\n",
    "auc_train = roc_auc_score(y_train, y_train_pred) \n",
    "auc_test = roc_auc_score(y_test, y_test_pred) \n",
    "\n",
    "plot_roc_curve(y_train, y_train_pred, 'Random Forest', \"train.png\")\n",
    "plot_roc_curve(y_test, y_test_pred, 'Random Forest', \"test.png\")"
   ]
  },
  {
   "cell_type": "code",
   "execution_count": 23,
   "metadata": {},
   "outputs": [],
   "source": [
    "end_model = datetime.now()\n",
    "current_time = end_model.strftime(\"%H:%M:%S\")\n",
    "\n",
    "# registramos el fin del train\n",
    "dict_params = {\"train_time2_end\":current_time}\n",
    "Myflow.model_logging_params(dict_params)\n",
    "\n",
    "dif_time = end_model-start_model\n",
    "# registramos el diferencia del train\n",
    "dict_params = {\"train_time3_duration\":dif_time}\n",
    "Myflow.model_logging_params(dict_params)"
   ]
  },
  {
   "cell_type": "code",
   "execution_count": 24,
   "metadata": {},
   "outputs": [],
   "source": [
    "dict_metrics = {\"auc_train\":auc_train, \"auc_test\":auc_test}\n",
    "Myflow.model_logging_metrics(dict_metrics)"
   ]
  },
  {
   "cell_type": "markdown",
   "metadata": {},
   "source": [
    "### Exportar data"
   ]
  },
  {
   "cell_type": "code",
   "execution_count": null,
   "metadata": {
    "scrolled": false
   },
   "outputs": [],
   "source": [
    "# Myflow.model_logging_artifact(\"train.png\", \"results\")\n",
    "# Myflow.model_logging_artifact(\"test.png\", \"results\")"
   ]
  },
  {
   "cell_type": "code",
   "execution_count": null,
   "metadata": {},
   "outputs": [],
   "source": [
    "# results.to_csv(\"resultado.csv\")\n",
    "# Myflow.model_logging_artifact(\"resultado.csv\", \"data\")"
   ]
  },
  {
   "cell_type": "markdown",
   "metadata": {},
   "source": [
    "# Para descargar información del experimiento hacia el local"
   ]
  },
  {
   "cell_type": "code",
   "execution_count": 27,
   "metadata": {},
   "outputs": [],
   "source": [
    "# Myflow.download_artifacts(\"results\",\"images\")"
   ]
  },
  {
   "cell_type": "markdown",
   "metadata": {},
   "source": [
    "## Terminando el experimento"
   ]
  },
  {
   "cell_type": "code",
   "execution_count": 28,
   "metadata": {},
   "outputs": [],
   "source": [
    "Myflow.end_experiment()"
   ]
  }
 ],
 "metadata": {
  "kernelspec": {
   "display_name": "Python 3",
   "language": "python",
   "name": "python3"
  },
  "language_info": {
   "codemirror_mode": {
    "name": "ipython",
    "version": 3
   },
   "file_extension": ".py",
   "mimetype": "text/x-python",
   "name": "python",
   "nbconvert_exporter": "python",
   "pygments_lexer": "ipython3",
   "version": "3.7.4"
  }
 },
 "nbformat": 4,
 "nbformat_minor": 2
}
