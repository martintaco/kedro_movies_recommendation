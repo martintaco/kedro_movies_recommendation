{
  "nbformat": 4,
  "nbformat_minor": 0,
  "metadata": {
    "anaconda-cloud": {},
    "colab": {
      "name": "03_Pandas.ipynb",
      "provenance": [],
      "collapsed_sections": []
    },
    "kernelspec": {
      "display_name": "Python 3",
      "language": "python",
      "name": "python3"
    },
    "language_info": {
      "codemirror_mode": {
        "name": "ipython",
        "version": 3
      },
      "file_extension": ".py",
      "mimetype": "text/x-python",
      "name": "python",
      "nbconvert_exporter": "python",
      "pygments_lexer": "ipython3",
      "version": "3.6.4"
    }
  },
  "cells": [
    {
      "cell_type": "markdown",
      "metadata": {
        "colab_type": "text",
        "id": "hMcpTWETmzfE"
      },
      "source": [
        "![alt text](https://pandas.pydata.org/docs/_static/pandas.svg)\n",
        "\n",
        "# Libreria Pandas"
      ]
    },
    {
      "cell_type": "markdown",
      "metadata": {
        "id": "DYCAWakEVO5a",
        "colab_type": "text"
      },
      "source": [
        "Pandas es una herramienta de análisis y manipulación de datos de código abierto rápida, potente, flexible y fácil de usar,\n",
        "construido sobre el lenguaje de programación Python.\n",
        "\n",
        "https://pandas.pydata.org/\n",
        "\n",
        "Para instalar Pandas:\n",
        "````\n",
        "pip install pandas\n",
        "````"
      ]
    },
    {
      "cell_type": "markdown",
      "metadata": {
        "id": "uD70KETGVO5b",
        "colab_type": "text"
      },
      "source": [
        "----"
      ]
    },
    {
      "cell_type": "markdown",
      "metadata": {
        "colab_type": "text",
        "id": "wXx0ejYrmzfG"
      },
      "source": [
        "# Tabla de contenidos\n",
        "\n",
        "* [1. Pandas](#1.-Pandas)\n",
        "* [2. Series](#2.-Series)\n",
        "* [3. Dataframe](#3.-Dataframe)\n",
        "* [4. Operaciones sobre Dataframe](#4.-Operaciones-sobre-Dataframe)\n",
        "* [5. Interoperabilidad con Numpy](#5.-Interoperabilidad-con-Numpy)"
      ]
    },
    {
      "cell_type": "markdown",
      "metadata": {
        "id": "v_sQ5HPmVO5c",
        "colab_type": "text"
      },
      "source": [
        "---"
      ]
    },
    {
      "cell_type": "markdown",
      "metadata": {
        "colab_type": "text",
        "id": "sL47DqzsmzfH"
      },
      "source": [
        "### 1. Pandas"
      ]
    },
    {
      "cell_type": "markdown",
      "metadata": {
        "colab_type": "text",
        "id": "-hTXLQv5mzfI"
      },
      "source": [
        "Pandas es una librería construida sobre Numpy que ofrece estructuras de datos de alto nivel que facilitan el análisis de datos desde Python.\n",
        "\n",
        "Se van a estudiar dos estructuras de datos:\n",
        "* Series.\n",
        "* DataFrame.\n",
        "\n",
        "Antes de trabajar con estas estructuras se importan las librerías necesarias:"
      ]
    },
    {
      "cell_type": "code",
      "metadata": {
        "colab_type": "code",
        "id": "iDLZv3nvmzfI",
        "colab": {}
      },
      "source": [
        "import numpy as npy\n",
        "import pandas as pd\n",
        "from pandas import *"
      ],
      "execution_count": 2,
      "outputs": []
    },
    {
      "cell_type": "markdown",
      "metadata": {
        "colab_type": "text",
        "id": "SaxWkSghmzfN"
      },
      "source": [
        "### 2. Series"
      ]
    },
    {
      "cell_type": "markdown",
      "metadata": {
        "colab_type": "text",
        "id": "jLZ7bKEwmzfO"
      },
      "source": [
        "Una serie es un objeto como un array que esta formado por un array de datos y un array de etiquetas denominado índice.\n",
        "El array de datos puede ser de 3 tipos:\n",
        "\n",
        "__ndarray__\n",
        "\n",
        "Si el array de datos en un ndarray, entonces el índice debe ser de la misma longitud que el array de datos. \n"
      ]
    },
    {
      "cell_type": "code",
      "metadata": {
        "colab_type": "code",
        "id": "VdMSgV-VmzfP",
        "colab": {}
      },
      "source": [
        "s = Series([1,2,3,4,5], index=['a', 'b', 'c', 'd', 'e'])"
      ],
      "execution_count": 8,
      "outputs": []
    },
    {
      "cell_type": "code",
      "metadata": {
        "colab_type": "code",
        "id": "MSWxydKymzfS",
        "colab": {
          "base_uri": "https://localhost:8080/",
          "height": 121
        },
        "outputId": "b09b3650-c19f-4b10-d72c-3e919c302961"
      },
      "source": [
        "s"
      ],
      "execution_count": 9,
      "outputs": [
        {
          "output_type": "execute_result",
          "data": {
            "text/plain": [
              "a    1\n",
              "b    2\n",
              "c    3\n",
              "d    4\n",
              "e    5\n",
              "dtype: int64"
            ]
          },
          "metadata": {
            "tags": []
          },
          "execution_count": 9
        }
      ]
    },
    {
      "cell_type": "code",
      "metadata": {
        "colab_type": "code",
        "id": "fchwcGVimzfX",
        "colab": {
          "base_uri": "https://localhost:8080/",
          "height": 35
        },
        "outputId": "1f428a92-c260-438e-8bbb-475105bcd929"
      },
      "source": [
        "s.index"
      ],
      "execution_count": 11,
      "outputs": [
        {
          "output_type": "execute_result",
          "data": {
            "text/plain": [
              "Index(['a', 'b', 'c', 'd', 'e'], dtype='object')"
            ]
          },
          "metadata": {
            "tags": []
          },
          "execution_count": 11
        }
      ]
    },
    {
      "cell_type": "markdown",
      "metadata": {
        "colab_type": "text",
        "id": "rfCfzFAMmzfa"
      },
      "source": [
        "   Si ningún índice es pasado, entonces se crea uno formado por valores que van desde [0,…,len(data)-1]"
      ]
    },
    {
      "cell_type": "code",
      "metadata": {
        "colab_type": "code",
        "id": "s5e7Npxxmzfb",
        "colab": {
          "base_uri": "https://localhost:8080/",
          "height": 121
        },
        "outputId": "42359079-255b-4149-a800-4eb8074cdc75"
      },
      "source": [
        "Series([1,2,3,4,5])"
      ],
      "execution_count": 10,
      "outputs": [
        {
          "output_type": "execute_result",
          "data": {
            "text/plain": [
              "0    1\n",
              "1    2\n",
              "2    3\n",
              "3    4\n",
              "4    5\n",
              "dtype: int64"
            ]
          },
          "metadata": {
            "tags": []
          },
          "execution_count": 10
        }
      ]
    },
    {
      "cell_type": "markdown",
      "metadata": {
        "colab_type": "text",
        "id": "DPoYoLI1mzfe"
      },
      "source": [
        "__Diccionario__\n",
        "\n",
        "Si se pasa un índice entonces los valores del diccionario son asociados a los valores del índice."
      ]
    },
    {
      "cell_type": "code",
      "metadata": {
        "colab_type": "code",
        "id": "F2GXsfjFmzff",
        "colab": {}
      },
      "source": [
        "d = {'a' : 0., 'b' : 1., 'c' : 2.}"
      ],
      "execution_count": 12,
      "outputs": []
    },
    {
      "cell_type": "code",
      "metadata": {
        "colab_type": "code",
        "id": "8ozmPuEimzfj",
        "colab": {
          "base_uri": "https://localhost:8080/",
          "height": 104
        },
        "outputId": "194dc30d-0477-4185-ffea-522a73853821"
      },
      "source": [
        "Series(d, index=['b', 'c', 'd', 'a'])"
      ],
      "execution_count": 13,
      "outputs": [
        {
          "output_type": "execute_result",
          "data": {
            "text/plain": [
              "b    1.0\n",
              "c    2.0\n",
              "d    NaN\n",
              "a    0.0\n",
              "dtype: float64"
            ]
          },
          "metadata": {
            "tags": []
          },
          "execution_count": 13
        }
      ]
    },
    {
      "cell_type": "markdown",
      "metadata": {
        "colab_type": "text",
        "id": "LYClabS4mzfm"
      },
      "source": [
        "Si no se proporciona un índice, entonces se construye el índice a partir de las claves ordenadas del diccionario."
      ]
    },
    {
      "cell_type": "code",
      "metadata": {
        "colab_type": "code",
        "id": "6HUEzBrnmzfn",
        "colab": {}
      },
      "source": [
        "d = {'a' : 0., 'b' : 1., 'c' : 2.}"
      ],
      "execution_count": null,
      "outputs": []
    },
    {
      "cell_type": "code",
      "metadata": {
        "colab_type": "code",
        "id": "RDtVJm3Zmzft",
        "colab": {}
      },
      "source": [
        "Series(d)"
      ],
      "execution_count": null,
      "outputs": []
    },
    {
      "cell_type": "markdown",
      "metadata": {
        "colab_type": "text",
        "id": "j4GnPKkDmzfw"
      },
      "source": [
        "__Valor escalar__\n",
        "\n",
        "En este caso se debe proporcionar un índice, y el valor será repetido tantas veces como la longitude del índice."
      ]
    },
    {
      "cell_type": "code",
      "metadata": {
        "colab_type": "code",
        "id": "AtlLuDoGmzfx",
        "colab": {}
      },
      "source": [
        "Series(5., index=['a', 'b', 'c', 'd', 'e'])"
      ],
      "execution_count": null,
      "outputs": []
    },
    {
      "cell_type": "markdown",
      "metadata": {
        "colab_type": "text",
        "id": "nbexwS7Hmzf1"
      },
      "source": [
        "Las series actúan de forma similar a ndarray, siendo un argumento válido de funciones de Numpy."
      ]
    },
    {
      "cell_type": "code",
      "metadata": {
        "colab_type": "code",
        "id": "aqoDY3mxmzf1",
        "colab": {}
      },
      "source": [
        "s = Series([1,2,3,4,5], index=['a', 'b', 'c', 'd', 'e'])"
      ],
      "execution_count": null,
      "outputs": []
    },
    {
      "cell_type": "code",
      "metadata": {
        "colab_type": "code",
        "id": "xbOfFn8Qmzf5",
        "colab": {}
      },
      "source": [
        "s[0]"
      ],
      "execution_count": null,
      "outputs": []
    },
    {
      "cell_type": "code",
      "metadata": {
        "colab_type": "code",
        "id": "gR0PApEbmzf8",
        "colab": {}
      },
      "source": [
        "s[:3]"
      ],
      "execution_count": null,
      "outputs": []
    },
    {
      "cell_type": "code",
      "metadata": {
        "colab_type": "code",
        "id": "qIJ-vNfmYDJj",
        "colab": {}
      },
      "source": [
        "s.median()"
      ],
      "execution_count": null,
      "outputs": []
    },
    {
      "cell_type": "code",
      "metadata": {
        "colab_type": "code",
        "id": "qsMg4RH2mzf_",
        "colab": {}
      },
      "source": [
        "s[s > s.median()]"
      ],
      "execution_count": null,
      "outputs": []
    },
    {
      "cell_type": "code",
      "metadata": {
        "colab_type": "code",
        "id": "yDFcMmSwmzgB",
        "colab": {}
      },
      "source": [
        "s[[4, 3, 1]]"
      ],
      "execution_count": null,
      "outputs": []
    },
    {
      "cell_type": "code",
      "metadata": {
        "colab_type": "code",
        "id": "qNxccBlwmzgF",
        "colab": {}
      },
      "source": [
        "np.exp(s)"
      ],
      "execution_count": null,
      "outputs": []
    },
    {
      "cell_type": "markdown",
      "metadata": {
        "colab_type": "text",
        "id": "cFjxwAhomzgH"
      },
      "source": [
        "Las series actúan como un diccionario de tamaño fijo en el que se pueden gestionar los valores a través de los índices."
      ]
    },
    {
      "cell_type": "code",
      "metadata": {
        "colab_type": "code",
        "id": "S8-txCHXmzgH",
        "colab": {}
      },
      "source": [
        "s = Series([1,2,3,4,5], index=['a', 'b', 'c', 'd', 'e'])"
      ],
      "execution_count": null,
      "outputs": []
    },
    {
      "cell_type": "code",
      "metadata": {
        "colab_type": "code",
        "id": "SIrLqKVSmzgK",
        "colab": {}
      },
      "source": [
        "s['a']"
      ],
      "execution_count": null,
      "outputs": []
    },
    {
      "cell_type": "code",
      "metadata": {
        "colab_type": "code",
        "id": "AR3ZN6X4mzgN",
        "colab": {}
      },
      "source": [
        "s['e'] = 12."
      ],
      "execution_count": null,
      "outputs": []
    },
    {
      "cell_type": "code",
      "metadata": {
        "colab_type": "code",
        "id": "gNfDBVbtmzgP",
        "colab": {}
      },
      "source": [
        "s"
      ],
      "execution_count": null,
      "outputs": []
    },
    {
      "cell_type": "code",
      "metadata": {
        "colab_type": "code",
        "id": "qvc0f13smzgR",
        "colab": {}
      },
      "source": [
        "'e' in s"
      ],
      "execution_count": null,
      "outputs": []
    },
    {
      "cell_type": "code",
      "metadata": {
        "colab_type": "code",
        "id": "AYPecLx9mzgU",
        "colab": {}
      },
      "source": [
        "'f' in s"
      ],
      "execution_count": null,
      "outputs": []
    },
    {
      "cell_type": "markdown",
      "metadata": {
        "colab_type": "text",
        "id": "8lO_p2fDmzgW"
      },
      "source": [
        "Sobre las series se pueden realizar operaciones vectoriales. "
      ]
    },
    {
      "cell_type": "code",
      "metadata": {
        "colab_type": "code",
        "id": "wiyRUijWmzgW",
        "colab": {}
      },
      "source": [
        "s = Series([1,2,3,4,5], index=['a', 'b', 'c', 'd', 'e'])"
      ],
      "execution_count": null,
      "outputs": []
    },
    {
      "cell_type": "code",
      "metadata": {
        "colab_type": "code",
        "id": "xEBCOUgpmzga",
        "colab": {}
      },
      "source": [
        "s + s"
      ],
      "execution_count": null,
      "outputs": []
    },
    {
      "cell_type": "code",
      "metadata": {
        "colab_type": "code",
        "id": "sap3isrfmzge",
        "colab": {}
      },
      "source": [
        "s * 2"
      ],
      "execution_count": null,
      "outputs": []
    },
    {
      "cell_type": "markdown",
      "metadata": {
        "colab_type": "text",
        "id": "2JiXo_C4mzgg"
      },
      "source": [
        "La principal diferencia entre series y ndarray es que las operaciones entre series alinean automáticamente los datos basados en las etiquetas, de forma que pueden realizarse cálculos sin tener en cuenta si las series sobre las que se operan tienen las mismas etiquetas."
      ]
    },
    {
      "cell_type": "code",
      "metadata": {
        "colab_type": "code",
        "id": "kJln6RT5mzgg",
        "colab": {}
      },
      "source": [
        "s = Series([1,2,3,4,5], index=['a', 'b', 'c', 'd', 'e'])"
      ],
      "execution_count": null,
      "outputs": []
    },
    {
      "cell_type": "code",
      "metadata": {
        "colab_type": "code",
        "id": "sCzXYN1Dmzgi",
        "colab": {}
      },
      "source": [
        "s[1:] + s[:-1]"
      ],
      "execution_count": null,
      "outputs": []
    },
    {
      "cell_type": "markdown",
      "metadata": {
        "colab_type": "text",
        "id": "x719frxKmzgl"
      },
      "source": [
        "Observar que el resultado de una operación entre series no alineadas será la unión de los índices. Si una etiqueta no se encuentra en una de las series, entonces se le asocia el valor nulo.\n",
        "\n",
        "Los datos y el índice de una serie tienen un atributo name que puede asociarle un nombre."
      ]
    },
    {
      "cell_type": "code",
      "metadata": {
        "colab_type": "code",
        "id": "ePXm5NR2mzgl",
        "colab": {}
      },
      "source": [
        "s = Series([1,2,3,4,5], index=['a', 'b', 'c', 'd', 'e'])"
      ],
      "execution_count": null,
      "outputs": []
    },
    {
      "cell_type": "code",
      "metadata": {
        "colab_type": "code",
        "id": "A2W4Evtpmzgn",
        "colab": {}
      },
      "source": [
        "s.name=\"datos\""
      ],
      "execution_count": null,
      "outputs": []
    },
    {
      "cell_type": "code",
      "metadata": {
        "colab_type": "code",
        "id": "ScNa1Vz2mzgq",
        "colab": {}
      },
      "source": [
        "s.index.name=\"indice\""
      ],
      "execution_count": null,
      "outputs": []
    },
    {
      "cell_type": "code",
      "metadata": {
        "colab_type": "code",
        "id": "Bi69eXTSmzgs",
        "colab": {}
      },
      "source": [
        "s"
      ],
      "execution_count": null,
      "outputs": []
    },
    {
      "cell_type": "markdown",
      "metadata": {
        "colab_type": "text",
        "id": "WWnTtYUhmzgv"
      },
      "source": [
        "### 3. Dataframe"
      ]
    },
    {
      "cell_type": "markdown",
      "metadata": {
        "colab_type": "text",
        "id": "5He23lTCmzgv"
      },
      "source": [
        "Es una estructura que contiene una colección ordenada de columnas cada una de las cuales puede tener valores de diferentes tipos. \n",
        "\n",
        "Un dataframe está formado por datos ,y opcionalmente un índice(etiquetas de las filas) y un conjunto de columnas(etiquetas de las columnas). En caso de no existir un índice, entonces se genera a partir de los datos.\n",
        "\n",
        "Los datos de un dataframe pueden proceder de:\n",
        "\n",
        "__Diccionario de ndarrays.__ \n",
        "\n",
        "Los arrays deben ser de la misma longitud. En caso de existir un índice, éste debe ser de la misma longitud que los arrays, y en caso de no existir entonces se genera como índice la secuencia de números 0…longitud(array)-1\n"
      ]
    },
    {
      "cell_type": "code",
      "metadata": {
        "colab_type": "code",
        "id": "vZmLOcXCmzgw",
        "colab": {}
      },
      "source": [
        "d = {'one' : [1., 2., 3., 4.], 'two' : [4., 3., 2., 1.]}"
      ],
      "execution_count": null,
      "outputs": []
    },
    {
      "cell_type": "code",
      "metadata": {
        "colab_type": "code",
        "id": "tGPxpFG_mzgz",
        "colab": {}
      },
      "source": [
        "DataFrame(d)"
      ],
      "execution_count": null,
      "outputs": []
    },
    {
      "cell_type": "code",
      "metadata": {
        "colab_type": "code",
        "id": "j5Pn1rUwmzg5",
        "colab": {}
      },
      "source": [
        "DataFrame(d, index=['a', 'b', 'c', 'd'])"
      ],
      "execution_count": null,
      "outputs": []
    },
    {
      "cell_type": "markdown",
      "metadata": {
        "colab_type": "text",
        "id": "5AHQz0tqmzg9"
      },
      "source": [
        "__Lista de diccionarios__"
      ]
    },
    {
      "cell_type": "code",
      "metadata": {
        "colab_type": "code",
        "id": "tfMct7a6mzg9",
        "colab": {}
      },
      "source": [
        "data2 = [{'a': 1, 'b': 2}, {'a': 5, 'b': 10, 'c': 20}]"
      ],
      "execution_count": null,
      "outputs": []
    },
    {
      "cell_type": "code",
      "metadata": {
        "colab_type": "code",
        "id": "pVUPs6AsmzhA",
        "colab": {}
      },
      "source": [
        "DataFrame(data2)"
      ],
      "execution_count": null,
      "outputs": []
    },
    {
      "cell_type": "code",
      "metadata": {
        "colab_type": "code",
        "id": "5SZo9NoImzhE",
        "colab": {}
      },
      "source": [
        "DataFrame(data2, index=['first', 'second'])"
      ],
      "execution_count": null,
      "outputs": []
    },
    {
      "cell_type": "code",
      "metadata": {
        "colab_type": "code",
        "id": "NB659SWcmzhH",
        "colab": {}
      },
      "source": [
        "DataFrame(data2, columns=['a', 'b'])"
      ],
      "execution_count": null,
      "outputs": []
    },
    {
      "cell_type": "markdown",
      "metadata": {
        "colab_type": "text",
        "id": "I3RmPWiwmzhJ"
      },
      "source": [
        "__Diccionario de tuplas__"
      ]
    },
    {
      "cell_type": "code",
      "metadata": {
        "colab_type": "code",
        "id": "Q7WGTjU5mzhJ",
        "colab": {}
      },
      "source": [
        "DataFrame({('a', 'b'): {('A', 'B'): 1, ('A', 'C'): 2},\n",
        "           ('a', 'a'): {('A', 'C'): 3, ('A', 'B'): 4},\n",
        "           ('a', 'c'): {('A', 'B'): 5, ('A', 'C'): 6},\n",
        "           ('b', 'a'): {('A', 'C'): 7, ('A', 'B'): 8},\n",
        "           ('b', 'b'): {('A', 'D'): 9, ('A', 'B'): 10}})"
      ],
      "execution_count": null,
      "outputs": []
    },
    {
      "cell_type": "markdown",
      "metadata": {
        "colab_type": "text",
        "id": "qkPQtjBFmzhN"
      },
      "source": [
        "__Diccionario de series__. \n",
        "\n",
        "El índice que resulta es la union de los índices de las series. En caso de existir diccionarios anidados,entonces primero se convierten en diccionarios. Además si no se pasan columnas, se toman como tales la lista ordenada de las claves de los diccionarios."
      ]
    },
    {
      "cell_type": "code",
      "metadata": {
        "colab_type": "code",
        "id": "3z7a4qo6mzhN",
        "colab": {}
      },
      "source": [
        " d = {'one' : Series([1., 2., 3.], index=['a', 'b', 'c']), 'two' : Series([1., 2., 3., 4.], index=['a', 'b', 'c', 'd'])}"
      ],
      "execution_count": 16,
      "outputs": []
    },
    {
      "cell_type": "code",
      "metadata": {
        "colab_type": "code",
        "id": "zAKDHRFmmzhR",
        "colab": {}
      },
      "source": [
        "df = DataFrame(d)"
      ],
      "execution_count": 17,
      "outputs": []
    },
    {
      "cell_type": "code",
      "metadata": {
        "colab_type": "code",
        "id": "VTzEWhcrmzhU",
        "colab": {}
      },
      "source": [
        "df"
      ],
      "execution_count": null,
      "outputs": []
    },
    {
      "cell_type": "code",
      "metadata": {
        "colab_type": "code",
        "id": "JpH7O6e2mzhb",
        "colab": {}
      },
      "source": [
        "DataFrame(d, index=['d', 'b', 'a'])"
      ],
      "execution_count": null,
      "outputs": []
    },
    {
      "cell_type": "code",
      "metadata": {
        "colab_type": "code",
        "id": "u8kp_Y3Vmzhl",
        "colab": {}
      },
      "source": [
        "DataFrame(d, index=['d', 'b', 'a'], columns=['two', 'three'])"
      ],
      "execution_count": null,
      "outputs": []
    },
    {
      "cell_type": "markdown",
      "metadata": {
        "colab_type": "text",
        "id": "tmKKSHXEmzho"
      },
      "source": [
        "Las etiquetas de las columnas y de las filas pueden ser accedidas a través de los atributos indice y columnas. \n",
        "\n",
        "Observar que cuando un conjunto particular de columnas se pasa como argumento con el diccionario, entonces las columans sobreescriben a las claves del diccionario."
      ]
    },
    {
      "cell_type": "code",
      "metadata": {
        "colab_type": "code",
        "id": "PjFs510Mmzhp",
        "colab": {}
      },
      "source": [
        "df.index"
      ],
      "execution_count": null,
      "outputs": []
    },
    {
      "cell_type": "code",
      "metadata": {
        "colab_type": "code",
        "id": "vK8UiQrjmzhv",
        "colab": {}
      },
      "source": [
        "df.columns"
      ],
      "execution_count": null,
      "outputs": []
    },
    {
      "cell_type": "code",
      "metadata": {
        "colab_type": "code",
        "id": "lwtv6e3ZZwmS",
        "colab": {}
      },
      "source": [
        "df.columns = ['one', 'two']\n",
        "df"
      ],
      "execution_count": null,
      "outputs": []
    },
    {
      "cell_type": "markdown",
      "metadata": {
        "colab_type": "text",
        "id": "bkwrBKjBmzhz"
      },
      "source": [
        "__Array estructurado__"
      ]
    },
    {
      "cell_type": "code",
      "metadata": {
        "colab_type": "code",
        "id": "I622n_56mzhz",
        "colab": {}
      },
      "source": [
        "data = np.zeros((2,),dtype=[('A', 'i4'),('B', 'f4'),('C', 'a10')])"
      ],
      "execution_count": null,
      "outputs": []
    },
    {
      "cell_type": "code",
      "metadata": {
        "colab_type": "code",
        "id": "dGseihbfmzh3",
        "colab": {}
      },
      "source": [
        "data[:] = [(1,2.,'Hello'),(2,3.,\"World\")]"
      ],
      "execution_count": null,
      "outputs": []
    },
    {
      "cell_type": "code",
      "metadata": {
        "colab_type": "code",
        "id": "yAz3GVJemzh7",
        "colab": {}
      },
      "source": [
        "DataFrame(data)"
      ],
      "execution_count": null,
      "outputs": []
    },
    {
      "cell_type": "code",
      "metadata": {
        "colab_type": "code",
        "id": "t6EXZmHgmziB",
        "colab": {}
      },
      "source": [
        "DataFrame(data, index=['first', 'second'])"
      ],
      "execution_count": null,
      "outputs": []
    },
    {
      "cell_type": "code",
      "metadata": {
        "colab_type": "code",
        "id": "C4V37qcUmziF",
        "colab": {}
      },
      "source": [
        "DataFrame(data, columns=['C', 'A', 'B'])"
      ],
      "execution_count": null,
      "outputs": []
    },
    {
      "cell_type": "markdown",
      "metadata": {
        "colab_type": "text",
        "id": "VlbG1WLXmziJ"
      },
      "source": [
        "Existen otras formas alternativas de construir un dataframe:\n",
        "* DataFrame.from_dict\n",
        "* DataFrame.from_records\n",
        "* DataFrame.from_items"
      ]
    },
    {
      "cell_type": "markdown",
      "metadata": {
        "colab_type": "text",
        "id": "jkdGVO6CmziK"
      },
      "source": [
        "### 4. Operaciones sobre Dataframe"
      ]
    },
    {
      "cell_type": "markdown",
      "metadata": {
        "colab_type": "text",
        "id": "j2rXJ5P_mziK"
      },
      "source": [
        "__Manipulación de un dataframe__\n",
        "\n",
        "Un dataframe es como un diccionario de series indexado, por lo que se pueden usar las mismas operaciones usadas con los diccionarios."
      ]
    },
    {
      "cell_type": "code",
      "metadata": {
        "colab_type": "code",
        "id": "Y6gnulhAmziK",
        "colab": {
          "base_uri": "https://localhost:8080/",
          "height": 104
        },
        "outputId": "b71cb658-c09f-49b6-806b-9cc4587ed480"
      },
      "source": [
        "df['one']"
      ],
      "execution_count": 20,
      "outputs": [
        {
          "output_type": "execute_result",
          "data": {
            "text/plain": [
              "a    1.0\n",
              "b    2.0\n",
              "c    3.0\n",
              "d    NaN\n",
              "Name: one, dtype: float64"
            ]
          },
          "metadata": {
            "tags": []
          },
          "execution_count": 20
        }
      ]
    },
    {
      "cell_type": "code",
      "metadata": {
        "colab_type": "code",
        "id": "kUJpE8k3mziN",
        "colab": {}
      },
      "source": [
        "df['three'] = df['one'] * df['two']\n",
        "df"
      ],
      "execution_count": null,
      "outputs": []
    },
    {
      "cell_type": "code",
      "metadata": {
        "colab_type": "code",
        "id": "NP62hnUsmziP",
        "colab": {}
      },
      "source": [
        "df['flag'] = df['one'] > 2"
      ],
      "execution_count": 22,
      "outputs": []
    },
    {
      "cell_type": "code",
      "metadata": {
        "colab_type": "code",
        "id": "eJSMEfebmziS",
        "colab": {}
      },
      "source": [
        "df"
      ],
      "execution_count": null,
      "outputs": []
    },
    {
      "cell_type": "markdown",
      "metadata": {
        "colab_type": "text",
        "id": "aGMhM5_JmziW"
      },
      "source": [
        "Se pueden borrar columnas"
      ]
    },
    {
      "cell_type": "code",
      "metadata": {
        "colab_type": "code",
        "id": "G5nh2ZnFmziX",
        "colab": {}
      },
      "source": [
        "del df['two']"
      ],
      "execution_count": null,
      "outputs": []
    },
    {
      "cell_type": "code",
      "metadata": {
        "colab_type": "code",
        "id": "t6KRyGRbmzia",
        "colab": {}
      },
      "source": [
        "three = df.pop('three')"
      ],
      "execution_count": null,
      "outputs": []
    },
    {
      "cell_type": "code",
      "metadata": {
        "colab_type": "code",
        "id": "0Z1Bsawsmzib",
        "colab": {}
      },
      "source": [
        "df"
      ],
      "execution_count": null,
      "outputs": []
    },
    {
      "cell_type": "markdown",
      "metadata": {
        "colab_type": "text",
        "id": "YMtIAwK-mzid"
      },
      "source": [
        "Cuando se inserta un valor escalar, entonces se propaga  a toda la columna."
      ]
    },
    {
      "cell_type": "code",
      "metadata": {
        "colab_type": "code",
        "id": "K9mJMVeImzid",
        "colab": {}
      },
      "source": [
        "df['foo'] = 'bar'"
      ],
      "execution_count": null,
      "outputs": []
    },
    {
      "cell_type": "code",
      "metadata": {
        "colab_type": "code",
        "id": "BdQVlWYymzif",
        "colab": {}
      },
      "source": [
        "df"
      ],
      "execution_count": null,
      "outputs": []
    },
    {
      "cell_type": "markdown",
      "metadata": {
        "colab_type": "text",
        "id": "SRx9yp19mzih"
      },
      "source": [
        "Cuando se inserta una serie que no tiene el mismo índice, entonces se crea el índice para el dataframe."
      ]
    },
    {
      "cell_type": "code",
      "metadata": {
        "colab_type": "code",
        "id": "QJIY9EDymzih",
        "colab": {}
      },
      "source": [
        "df['one_trunc'] = df['one'][:2]"
      ],
      "execution_count": null,
      "outputs": []
    },
    {
      "cell_type": "code",
      "metadata": {
        "colab_type": "code",
        "id": "hWOnnewwmzii",
        "colab": {}
      },
      "source": [
        "df"
      ],
      "execution_count": null,
      "outputs": []
    },
    {
      "cell_type": "markdown",
      "metadata": {
        "colab_type": "text",
        "id": "7f0w-VDTmzij"
      },
      "source": [
        "Las columnas por defecto se insertan al final, sin embargo se puede elegir el lugar de inserción usando la función insert"
      ]
    },
    {
      "cell_type": "code",
      "metadata": {
        "colab_type": "code",
        "id": "k1fnSGiOmzik",
        "colab": {}
      },
      "source": [
        "df.insert(1, 'bar', df['one'])"
      ],
      "execution_count": null,
      "outputs": []
    },
    {
      "cell_type": "code",
      "metadata": {
        "colab_type": "code",
        "id": "tr-FGj0cmzil",
        "colab": {}
      },
      "source": [
        "df"
      ],
      "execution_count": null,
      "outputs": []
    },
    {
      "cell_type": "markdown",
      "metadata": {
        "colab_type": "text",
        "id": "a7JTR6HImzim"
      },
      "source": [
        "__Indexación/Selección__\n",
        "\n",
        "Se puede seleccionar por columnas"
      ]
    },
    {
      "cell_type": "code",
      "metadata": {
        "colab_type": "code",
        "id": "vTCep0Kamzim",
        "colab": {}
      },
      "source": [
        "df['one']"
      ],
      "execution_count": null,
      "outputs": []
    },
    {
      "cell_type": "markdown",
      "metadata": {
        "colab_type": "text",
        "id": "HBajvmxVmziq"
      },
      "source": [
        "Se puede seleccionar por etiqueta"
      ]
    },
    {
      "cell_type": "code",
      "metadata": {
        "colab_type": "code",
        "id": "gyx20IoMmziq",
        "colab": {}
      },
      "source": [
        "df.loc['b']"
      ],
      "execution_count": null,
      "outputs": []
    },
    {
      "cell_type": "markdown",
      "metadata": {
        "colab_type": "text",
        "id": "3ZmmgP-3mzis"
      },
      "source": [
        "Selección de fila por entero."
      ]
    },
    {
      "cell_type": "code",
      "metadata": {
        "colab_type": "code",
        "id": "NfveLpXnmzis",
        "colab": {}
      },
      "source": [
        "df.iloc[2]"
      ],
      "execution_count": null,
      "outputs": []
    },
    {
      "cell_type": "markdown",
      "metadata": {
        "colab_type": "text",
        "id": "Mopt926rmziu"
      },
      "source": [
        "Selección por rangos"
      ]
    },
    {
      "cell_type": "code",
      "metadata": {
        "colab_type": "code",
        "id": "gm1GeFA4mziu",
        "colab": {}
      },
      "source": [
        "df[5:10]"
      ],
      "execution_count": null,
      "outputs": []
    },
    {
      "cell_type": "markdown",
      "metadata": {
        "colab_type": "text",
        "id": "RcsEjSusmziw"
      },
      "source": [
        "__Alineamiento y aritmética__\n",
        "\n",
        "Cuando se alinea un dataframe se realiza sobre las columnas y el índice, de manera que se hace la unión de las etiquetas de las columnas y de las filas."
      ]
    },
    {
      "cell_type": "code",
      "metadata": {
        "colab_type": "code",
        "id": "L3qeKBAEmziw",
        "colab": {}
      },
      "source": [
        "randn = npy.random.randn"
      ],
      "execution_count": null,
      "outputs": []
    },
    {
      "cell_type": "code",
      "metadata": {
        "colab_type": "code",
        "id": "MBzMlxklmziy",
        "colab": {}
      },
      "source": [
        "df = DataFrame(randn(10, 4), columns=['A', 'B', 'C', 'D'])"
      ],
      "execution_count": null,
      "outputs": []
    },
    {
      "cell_type": "code",
      "metadata": {
        "colab_type": "code",
        "id": "hpUqk0fFmziz",
        "colab": {}
      },
      "source": [
        "df2 = DataFrame(randn(7, 3), columns=['A', 'B', 'C'])"
      ],
      "execution_count": null,
      "outputs": []
    },
    {
      "cell_type": "code",
      "metadata": {
        "colab_type": "code",
        "id": "oVuG01xOmzi0",
        "colab": {}
      },
      "source": [
        "df + df2"
      ],
      "execution_count": null,
      "outputs": []
    },
    {
      "cell_type": "markdown",
      "metadata": {
        "colab_type": "text",
        "id": "GEIHOXvJmzi2"
      },
      "source": [
        "Cuando se operan con dataframe y series, se alinea el índice de las series sobre las columnas del dataframe."
      ]
    },
    {
      "cell_type": "code",
      "metadata": {
        "colab_type": "code",
        "id": "psIPqgKJmzi2",
        "colab": {}
      },
      "source": [
        "df - df.iloc[0]"
      ],
      "execution_count": null,
      "outputs": []
    },
    {
      "cell_type": "markdown",
      "metadata": {
        "colab_type": "text",
        "id": "Xp8aQDo_mzi4"
      },
      "source": [
        "Se pueden hacer operaciones con escalares."
      ]
    },
    {
      "cell_type": "code",
      "metadata": {
        "colab_type": "code",
        "id": "0Qf_9gItmzi4",
        "colab": {}
      },
      "source": [
        "df * 5 + 2"
      ],
      "execution_count": null,
      "outputs": []
    },
    {
      "cell_type": "markdown",
      "metadata": {
        "colab_type": "text",
        "id": "2hHnyybSmzi6"
      },
      "source": [
        "Se pueden hacer operaciones lógicas."
      ]
    },
    {
      "cell_type": "code",
      "metadata": {
        "colab_type": "code",
        "id": "W7cMnxrEmzi6",
        "colab": {}
      },
      "source": [
        "df1 = DataFrame({'a' : [1, 0, 1], 'b' : [0, 1, 1] }, dtype=bool)"
      ],
      "execution_count": null,
      "outputs": []
    },
    {
      "cell_type": "code",
      "metadata": {
        "colab_type": "code",
        "id": "jmZP5bADmzi9",
        "colab": {}
      },
      "source": [
        "df2 = DataFrame({'a' : [0, 1, 1], 'b' : [1, 1, 0] }, dtype=bool)"
      ],
      "execution_count": null,
      "outputs": []
    },
    {
      "cell_type": "code",
      "metadata": {
        "colab_type": "code",
        "id": "xMIDVl3zmzi-",
        "colab": {}
      },
      "source": [
        "df1 & df2"
      ],
      "execution_count": null,
      "outputs": []
    },
    {
      "cell_type": "markdown",
      "metadata": {
        "colab_type": "text",
        "id": "ooPA8JztmzjA"
      },
      "source": [
        "__Transposición.__\n",
        "\n",
        "Para transponer se utilizar el atributo T."
      ]
    },
    {
      "cell_type": "code",
      "metadata": {
        "colab_type": "code",
        "id": "o723Juh3mzjB",
        "colab": {}
      },
      "source": [
        "df[:5].T"
      ],
      "execution_count": null,
      "outputs": []
    },
    {
      "cell_type": "markdown",
      "metadata": {
        "colab_type": "text",
        "id": "-1BfsO9VmzjC"
      },
      "source": [
        "__Visualización__\n",
        "\n",
        "Hay varias formas de visualizar la información de un dataframe:\n",
        "\n",
        "* Todos los datos a partir del nombre del dataframe."
      ]
    },
    {
      "cell_type": "code",
      "metadata": {
        "colab_type": "code",
        "id": "fyfGR10ImzjD",
        "colab": {}
      },
      "source": [
        "df"
      ],
      "execution_count": null,
      "outputs": []
    },
    {
      "cell_type": "markdown",
      "metadata": {
        "colab_type": "text",
        "id": "p_rqVlh5mzjE"
      },
      "source": [
        "* Un resumen de la información contenido, usando el método info()"
      ]
    },
    {
      "cell_type": "code",
      "metadata": {
        "colab_type": "code",
        "id": "zxqdcaVmmzjE",
        "colab": {}
      },
      "source": [
        "df.info()"
      ],
      "execution_count": null,
      "outputs": []
    },
    {
      "cell_type": "markdown",
      "metadata": {
        "colab_type": "text",
        "id": "jvGxKWxSmzjG"
      },
      "source": [
        "* Como una cadena usando el método to_string()"
      ]
    },
    {
      "cell_type": "code",
      "metadata": {
        "colab_type": "code",
        "id": "CEmalIVgmzjG",
        "colab": {}
      },
      "source": [
        "print(df.to_string())"
      ],
      "execution_count": null,
      "outputs": []
    },
    {
      "cell_type": "markdown",
      "metadata": {
        "colab_type": "text",
        "id": "T7KtCYzomzjH"
      },
      "source": [
        "Se puede configurar el número de columnas con display.width()"
      ]
    },
    {
      "cell_type": "markdown",
      "metadata": {
        "colab_type": "text",
        "id": "em5916XcmzjH"
      },
      "source": [
        "### 5. Interoperabilidad con Numpy"
      ]
    },
    {
      "cell_type": "markdown",
      "metadata": {
        "colab_type": "text",
        "id": "trEgllLmmzjI"
      },
      "source": [
        "Siempre que los datos incluidos en un dataframe entonces pueden ser usados con funciones de Numpy."
      ]
    },
    {
      "cell_type": "code",
      "metadata": {
        "colab_type": "code",
        "id": "g8QL1TOAmzjI",
        "colab": {}
      },
      "source": [
        "npy.exp(df)"
      ],
      "execution_count": null,
      "outputs": []
    },
    {
      "cell_type": "code",
      "metadata": {
        "colab_type": "code",
        "id": "9v7a-_38mzjJ",
        "colab": {}
      },
      "source": [
        " 1 / df"
      ],
      "execution_count": null,
      "outputs": []
    },
    {
      "cell_type": "markdown",
      "metadata": {
        "colab_type": "text",
        "id": "iayZfomgmzjL"
      },
      "source": [
        "Con el método dot() se pueden realizar multiplicaciones."
      ]
    },
    {
      "cell_type": "code",
      "metadata": {
        "colab_type": "code",
        "id": "4K4ewSyzmzjL",
        "colab": {}
      },
      "source": [
        "df.T.dot(df)"
      ],
      "execution_count": null,
      "outputs": []
    },
    {
      "cell_type": "markdown",
      "metadata": {
        "colab_type": "text",
        "id": "HjXPJrfUmzjO"
      },
      "source": [
        "Por ultimo indicar que las columnas de un dataframe pueden ser accedidas como si fueran atributos al estilo de Python."
      ]
    },
    {
      "cell_type": "code",
      "metadata": {
        "colab_type": "code",
        "id": "6pCqa90gmzjO",
        "colab": {}
      },
      "source": [
        "df.A"
      ],
      "execution_count": null,
      "outputs": []
    },
    {
      "cell_type": "markdown",
      "metadata": {
        "colab_type": "text",
        "id": "Bi7o9jYyD66G"
      },
      "source": [
        "### 6. Dataframe Read"
      ]
    },
    {
      "cell_type": "markdown",
      "metadata": {
        "colab_type": "text",
        "id": "G1edZJ7qEdKS"
      },
      "source": [
        "**read_csv**\n",
        "\n",
        "Para trabajar con archivos del tipo CSV, aplicaremos la funcion __read_csv__ y a continuación la ubicación del archivo.\n",
        "\n",
        "\n"
      ]
    },
    {
      "cell_type": "code",
      "metadata": {
        "colab_type": "code",
        "id": "KfWaxlThD7OT",
        "colab": {}
      },
      "source": [
        "df_housing = pd.read_csv('sample_data/california_housing_test.csv')\n",
        "df_housing.head(18)"
      ],
      "execution_count": null,
      "outputs": []
    },
    {
      "cell_type": "markdown",
      "metadata": {
        "colab_type": "text",
        "id": "-96UDxanFXn2"
      },
      "source": [
        "**read_json**\n",
        "\n",
        "Para trabajar con archivos del tipo JSON, aplicaremos la funcion __read_json__ y a continuación la ubicación del archivo.\n",
        "\n",
        "Para esto ubicaremos una url donde se encuentra la data del avance del __covid19__, que se encuentra en json actualizada al cierre del dia.\n"
      ]
    },
    {
      "cell_type": "code",
      "metadata": {
        "colab_type": "code",
        "id": "HjNRXZA9D8Il",
        "colab": {}
      },
      "source": [
        "df_covid19 = pd.read_json('https://pomber.github.io/covid19/timeseries.json')\n",
        "df_covid19.head()"
      ],
      "execution_count": null,
      "outputs": []
    },
    {
      "cell_type": "markdown",
      "metadata": {
        "colab_type": "text",
        "id": "mbo6lDjGD8QW"
      },
      "source": [
        "**Data tipo JSON**\n",
        "\n",
        "__json_normalize__, es una funcion de panda que permite convertir una data del tipo JSON en una simple tabla, para esto escogeremos sola la data de una columna."
      ]
    },
    {
      "cell_type": "code",
      "metadata": {
        "colab_type": "code",
        "id": "cF55PnI4D8Xt",
        "colab": {}
      },
      "source": [
        "# json_normalize  infiere de una colleccion json la convierte en un dataframe\n",
        "df_peru = pd.json_normalize(df_covid19['Peru']) \n",
        "df_peru.head()"
      ],
      "execution_count": null,
      "outputs": []
    },
    {
      "cell_type": "markdown",
      "metadata": {
        "colab_type": "text",
        "id": "0KA4k2gwYN4y"
      },
      "source": [
        "**Orden**\n",
        "\n",
        "Para darle orden al dataframe, para esto utilizaremos la función __sort_values__"
      ]
    },
    {
      "cell_type": "code",
      "metadata": {
        "colab_type": "code",
        "id": "39lLEfWWYLgy",
        "colab": {}
      },
      "source": [
        "df_peru.sort_values(['date'] , ascending = [False]).head()"
      ],
      "execution_count": null,
      "outputs": []
    },
    {
      "cell_type": "markdown",
      "metadata": {
        "colab_type": "text",
        "id": "ieWQNjSPYlFy"
      },
      "source": [
        "sin embargo veremos que, el tipo dato __date__ no lo esta ordenando correctamente,  veamos con __dtype__ que tipo de datos tenemos"
      ]
    },
    {
      "cell_type": "code",
      "metadata": {
        "colab_type": "code",
        "id": "cu-w19GMThln",
        "colab": {}
      },
      "source": [
        "df_peru.dtypes"
      ],
      "execution_count": null,
      "outputs": []
    },
    {
      "cell_type": "markdown",
      "metadata": {
        "colab_type": "text",
        "id": "Xy2_PUKPTMbL"
      },
      "source": [
        "La columna __date__  es del tipo object para cambiarla a un tipo datetime aplicamos un casteo para el tipo de dato, infiriendo el tipo de formato\n"
      ]
    },
    {
      "cell_type": "code",
      "metadata": {
        "colab_type": "code",
        "id": "PXPD4KhKTFdj",
        "colab": {}
      },
      "source": [
        "df_peru['date'] =  pd.to_datetime(df_peru['date'] , infer_datetime_format=True)\n",
        "\n",
        "# ordenamos nuevamente\n",
        "df_peru.sort_values(['date'] , ascending = [False]).head()"
      ],
      "execution_count": null,
      "outputs": []
    },
    {
      "cell_type": "code",
      "metadata": {
        "colab_type": "code",
        "id": "gPdZeh-0UK8Z",
        "colab": {}
      },
      "source": [
        "df_peru['country']='Peru'\n",
        "df_peru.head()"
      ],
      "execution_count": null,
      "outputs": []
    },
    {
      "cell_type": "code",
      "metadata": {
        "colab_type": "code",
        "id": "vT1qC0XkIqXe",
        "colab": {}
      },
      "source": [
        "df_peru.count()"
      ],
      "execution_count": null,
      "outputs": []
    },
    {
      "cell_type": "code",
      "metadata": {
        "colab_type": "code",
        "id": "r3bdzzDFawp3",
        "colab": {}
      },
      "source": [
        "df_peru.shape"
      ],
      "execution_count": null,
      "outputs": []
    },
    {
      "cell_type": "markdown",
      "metadata": {
        "colab_type": "text",
        "id": "y68-NDyVD8fC"
      },
      "source": [
        "**Latam**\n",
        "\n",
        "Escogeremos algunos paises de latino america, y los agregaremos en un nuevo Dataframe, utilizando la función **append**\n",
        "\n",
        "\n",
        "Para crear un dataframe vacio lo podemos hacer de las siguientes formas\n",
        "```\n",
        "# Creando un Dataframe desde Cero\n",
        "df_latam = pd.DataFrame({object:None, int:None, int:None, object:None}, columns = ['date','confirmed','deaths','recovered', 'country'])\n",
        "\n",
        "# Copiando un dataframe anterior seleccionando ninguna columna\n",
        "df_latam = df_peru.copy(deep=False)[0:0]\n",
        "\n",
        "```\n",
        "\n"
      ]
    },
    {
      "cell_type": "code",
      "metadata": {
        "colab_type": "code",
        "id": "bRETIA4lD8lM",
        "colab": {}
      },
      "source": [
        "import datetime as dt\n",
        "\n",
        "country_latam = ['Argentina','Bolivia', 'Brazil', 'Chile', 'Colombia', 'Costa Rica', 'Ecuador',  'Guatemala', 'Mexico', 'Panama', 'Peru', 'Venezuela']\n",
        "\n",
        "df_latam = pd.DataFrame({dt.datetime:None, int:None, int:None, object:None}, \n",
        "                        columns = ['date','confirmed','deaths','recovered', 'country'])\n",
        "\n",
        "for country in country_latam[0:]:\n",
        "  df_country = pd.json_normalize(df_covid19[str(country)])\n",
        "  df_country['country'] = country\n",
        "  df_latam = df_latam.append(df_country, ignore_index = False)\n",
        "\n",
        "df_latam['date'] =  pd.to_datetime(df_latam['date'] , infer_datetime_format=True)\n",
        "\n",
        "df_latam.head()"
      ],
      "execution_count": null,
      "outputs": []
    },
    {
      "cell_type": "code",
      "metadata": {
        "colab_type": "code",
        "id": "BgU9NrlfXKqF",
        "colab": {}
      },
      "source": [
        "max(df_latam['date'])"
      ],
      "execution_count": null,
      "outputs": []
    },
    {
      "cell_type": "code",
      "metadata": {
        "colab_type": "code",
        "id": "MkELF4uBNa_I",
        "colab": {}
      },
      "source": [
        "df_latam[ df_latam['date']==  max(df_latam['date']) ].sort_values(['confirmed', 'deaths'] , ascending = [False, False])"
      ],
      "execution_count": null,
      "outputs": []
    },
    {
      "cell_type": "code",
      "metadata": {
        "colab_type": "code",
        "id": "IFw4ir93zGER",
        "colab": {}
      },
      "source": [
        "df_latam.groupby(['country']).agg({'confirmed':'max', 'deaths':'max', 'recovered':'max'}).plot( \n",
        "    kind='bar',  \n",
        "    title='Country', \n",
        "    figsize=(10,5))"
      ],
      "execution_count": null,
      "outputs": []
    },
    {
      "cell_type": "code",
      "metadata": {
        "colab_type": "code",
        "id": "h1mFdpTqdYpT",
        "colab": {}
      },
      "source": [
        "import matplotlib.pyplot as plt\n",
        "from matplotlib.pyplot import figure\n",
        "\n",
        "figure(num=None, figsize=(10, 10), dpi=80, facecolor='w', edgecolor='k')\n",
        "plt.xticks(rotation=45)\n",
        "\n",
        "for country in country_latam:\n",
        "  plt.plot(df_latam[df_latam['country']==  country ]['date'], \n",
        "           df_latam[df_latam['country']==  country ]['recovered'], \n",
        "           label=country) \n",
        "  \n",
        "\n",
        "plt.legend()\n",
        "plt.show()\n"
      ],
      "execution_count": null,
      "outputs": []
    },
    {
      "cell_type": "markdown",
      "metadata": {
        "colab_type": "text",
        "id": "o47RonWJntJ2"
      },
      "source": [
        "### Ejercicios\n"
      ]
    },
    {
      "cell_type": "markdown",
      "metadata": {
        "colab_type": "text",
        "id": "u1Zi3E3dn6UV"
      },
      "source": [
        "*1. Los 10 Paises (sobre la base total de paises) con mas casos confirmados con Coronavirus, y 10 con menos casos confirmados (2 datasets). "
      ]
    },
    {
      "cell_type": "code",
      "metadata": {
        "colab_type": "code",
        "id": "gxLOKoEynrap",
        "colab": {
          "base_uri": "https://localhost:8080/",
          "height": 355
        },
        "outputId": "7f023794-6f5e-429a-c52c-fa28dd757d07"
      },
      "source": [
        "import datetime as dt\n",
        "\n",
        "country_world = ['Afghanistan',\t'Albania',\t'Algeria',\t'Andorra',\t'Angola',\t'Antigua and Barbuda',\t'Argentina',\t'Armenia',\t'Australia',\t'Austria',\t'Azerbaijan',\t'Bahamas',\t'Bahrain',\t'Bangladesh',\t'Barbados',\t'Belarus',\t'Belgium',\t'Belize',\t'Benin',\t'Bhutan',\t'Bolivia',\t'Bosnia and Herzegovina',\t'Botswana',\t'Brazil',\t'Brunei',\t'Bulgaria',\t'Burkina Faso',\t'Burma',\t'Burundi',\t'Cabo Verde',\t'Cambodia',\t'Cameroon',\t'Canada',\t'Central African Republic',\t'Chad',\t'Chile',\t'China',\t'Colombia',\t'Comoros',\t'Congo (Brazzaville)',\t'Congo (Kinshasa)',\t'Senegal',\t'Serbia',\t'Seychelles',\t'Sierra Leone',\t'Singapore',\t'Slovakia',\t'Slovenia',\t'Somalia',\t'South Africa',\t'South Sudan',\t'Spain',\t'Sri Lanka',\t'Sudan',\t'Suriname',\t'Sweden',\t'Switzerland',\t'Syria',\t'Taiwan*',\t'Tajikistan',\t'Tanzania',\t'Thailand',\t'Timor-Leste',\t'Togo',\t'Trinidad and Tobago',\t'Tunisia',\t'Turkey',\t'US',\t'Uganda',\t'Ukraine',\t'United Arab Emirates',\t'United Kingdom',\t'Uruguay',\t'Uzbekistan',\t'Venezuela',\t'Vietnam',\t'West Bank and Gaza',\t'Western Sahara',\t'Yemen',\t'Zambia',\t'Zimbabwe']\n",
        "\n",
        "df_world = pd.DataFrame({dt.datetime:None, int:None, int:None, object:None}, \n",
        "                        columns = ['date','confirmed','deaths','recovered', 'country'])\n",
        "\n",
        "for country in country_world[0:]:\n",
        "  df_country = pd.json_normalize(df_covid19[str(country)])\n",
        "  df_country['country'] = country\n",
        "  df_world = df_world.append(df_country, ignore_index = True)\n",
        "\n",
        "df_world['date'] =  pd.to_datetime(df_world['date'] , infer_datetime_format=True)\n",
        "\n",
        "df_mayor=df_world[ df_world['date']==  max(df_world['date']) ].sort_values(['confirmed'] , ascending = [False]).groupby('date').head(10)\n",
        "\n",
        "df_mayor[['date','confirmed','country']]\n"
      ],
      "execution_count": 13,
      "outputs": [
        {
          "output_type": "execute_result",
          "data": {
            "text/html": [
              "<div>\n",
              "<style scoped>\n",
              "    .dataframe tbody tr th:only-of-type {\n",
              "        vertical-align: middle;\n",
              "    }\n",
              "\n",
              "    .dataframe tbody tr th {\n",
              "        vertical-align: top;\n",
              "    }\n",
              "\n",
              "    .dataframe thead th {\n",
              "        text-align: right;\n",
              "    }\n",
              "</style>\n",
              "<table border=\"1\" class=\"dataframe\">\n",
              "  <thead>\n",
              "    <tr style=\"text-align: right;\">\n",
              "      <th></th>\n",
              "      <th>date</th>\n",
              "      <th>confirmed</th>\n",
              "      <th>country</th>\n",
              "    </tr>\n",
              "  </thead>\n",
              "  <tbody>\n",
              "    <tr>\n",
              "      <th>15367</th>\n",
              "      <td>2020-09-03</td>\n",
              "      <td>6150016</td>\n",
              "      <td>US</td>\n",
              "    </tr>\n",
              "    <tr>\n",
              "      <th>5423</th>\n",
              "      <td>2020-09-03</td>\n",
              "      <td>4041638</td>\n",
              "      <td>Brazil</td>\n",
              "    </tr>\n",
              "    <tr>\n",
              "      <th>8587</th>\n",
              "      <td>2020-09-03</td>\n",
              "      <td>641574</td>\n",
              "      <td>Colombia</td>\n",
              "    </tr>\n",
              "    <tr>\n",
              "      <th>11299</th>\n",
              "      <td>2020-09-03</td>\n",
              "      <td>633015</td>\n",
              "      <td>South Africa</td>\n",
              "    </tr>\n",
              "    <tr>\n",
              "      <th>11751</th>\n",
              "      <td>2020-09-03</td>\n",
              "      <td>488513</td>\n",
              "      <td>Spain</td>\n",
              "    </tr>\n",
              "    <tr>\n",
              "      <th>1581</th>\n",
              "      <td>2020-09-03</td>\n",
              "      <td>451198</td>\n",
              "      <td>Argentina</td>\n",
              "    </tr>\n",
              "    <tr>\n",
              "      <th>8135</th>\n",
              "      <td>2020-09-03</td>\n",
              "      <td>416501</td>\n",
              "      <td>Chile</td>\n",
              "    </tr>\n",
              "    <tr>\n",
              "      <th>16271</th>\n",
              "      <td>2020-09-03</td>\n",
              "      <td>342708</td>\n",
              "      <td>United Kingdom</td>\n",
              "    </tr>\n",
              "    <tr>\n",
              "      <th>3163</th>\n",
              "      <td>2020-09-03</td>\n",
              "      <td>319686</td>\n",
              "      <td>Bangladesh</td>\n",
              "    </tr>\n",
              "    <tr>\n",
              "      <th>15141</th>\n",
              "      <td>2020-09-03</td>\n",
              "      <td>274943</td>\n",
              "      <td>Turkey</td>\n",
              "    </tr>\n",
              "  </tbody>\n",
              "</table>\n",
              "</div>"
            ],
            "text/plain": [
              "            date confirmed         country\n",
              "15367 2020-09-03   6150016              US\n",
              "5423  2020-09-03   4041638          Brazil\n",
              "8587  2020-09-03    641574        Colombia\n",
              "11299 2020-09-03    633015    South Africa\n",
              "11751 2020-09-03    488513           Spain\n",
              "1581  2020-09-03    451198       Argentina\n",
              "8135  2020-09-03    416501           Chile\n",
              "16271 2020-09-03    342708  United Kingdom\n",
              "3163  2020-09-03    319686      Bangladesh\n",
              "15141 2020-09-03    274943          Turkey"
            ]
          },
          "metadata": {
            "tags": []
          },
          "execution_count": 13
        }
      ]
    },
    {
      "cell_type": "code",
      "metadata": {
        "id": "LSjrMFW5dx1H",
        "colab_type": "code",
        "colab": {
          "base_uri": "https://localhost:8080/",
          "height": 355
        },
        "outputId": "546e5dff-2f45-437f-8877-1546e351e6f2"
      },
      "source": [
        "df_menor=df_world[ df_world['date']==  max(df_world['date']) ].sort_values(['confirmed'] , ascending = [True]).groupby('date').head(10)\n",
        "\n",
        "df_menor[['date','confirmed','country']]"
      ],
      "execution_count": 14,
      "outputs": [
        {
          "output_type": "execute_result",
          "data": {
            "text/html": [
              "<div>\n",
              "<style scoped>\n",
              "    .dataframe tbody tr th:only-of-type {\n",
              "        vertical-align: middle;\n",
              "    }\n",
              "\n",
              "    .dataframe tbody tr th {\n",
              "        vertical-align: top;\n",
              "    }\n",
              "\n",
              "    .dataframe thead th {\n",
              "        text-align: right;\n",
              "    }\n",
              "</style>\n",
              "<table border=\"1\" class=\"dataframe\">\n",
              "  <thead>\n",
              "    <tr style=\"text-align: right;\">\n",
              "      <th></th>\n",
              "      <th>date</th>\n",
              "      <th>confirmed</th>\n",
              "      <th>country</th>\n",
              "    </tr>\n",
              "  </thead>\n",
              "  <tbody>\n",
              "    <tr>\n",
              "      <th>17627</th>\n",
              "      <td>2020-09-03</td>\n",
              "      <td>10</td>\n",
              "      <td>Western Sahara</td>\n",
              "    </tr>\n",
              "    <tr>\n",
              "      <th>14237</th>\n",
              "      <td>2020-09-03</td>\n",
              "      <td>27</td>\n",
              "      <td>Timor-Leste</td>\n",
              "    </tr>\n",
              "    <tr>\n",
              "      <th>1355</th>\n",
              "      <td>2020-09-03</td>\n",
              "      <td>95</td>\n",
              "      <td>Antigua and Barbuda</td>\n",
              "    </tr>\n",
              "    <tr>\n",
              "      <th>9943</th>\n",
              "      <td>2020-09-03</td>\n",
              "      <td>136</td>\n",
              "      <td>Seychelles</td>\n",
              "    </tr>\n",
              "    <tr>\n",
              "      <th>5649</th>\n",
              "      <td>2020-09-03</td>\n",
              "      <td>145</td>\n",
              "      <td>Brunei</td>\n",
              "    </tr>\n",
              "    <tr>\n",
              "      <th>3389</th>\n",
              "      <td>2020-09-03</td>\n",
              "      <td>177</td>\n",
              "      <td>Barbados</td>\n",
              "    </tr>\n",
              "    <tr>\n",
              "      <th>4519</th>\n",
              "      <td>2020-09-03</td>\n",
              "      <td>227</td>\n",
              "      <td>Bhutan</td>\n",
              "    </tr>\n",
              "    <tr>\n",
              "      <th>7005</th>\n",
              "      <td>2020-09-03</td>\n",
              "      <td>274</td>\n",
              "      <td>Cambodia</td>\n",
              "    </tr>\n",
              "    <tr>\n",
              "      <th>6553</th>\n",
              "      <td>2020-09-03</td>\n",
              "      <td>448</td>\n",
              "      <td>Burundi</td>\n",
              "    </tr>\n",
              "    <tr>\n",
              "      <th>8813</th>\n",
              "      <td>2020-09-03</td>\n",
              "      <td>448</td>\n",
              "      <td>Comoros</td>\n",
              "    </tr>\n",
              "  </tbody>\n",
              "</table>\n",
              "</div>"
            ],
            "text/plain": [
              "            date confirmed              country\n",
              "17627 2020-09-03        10       Western Sahara\n",
              "14237 2020-09-03        27          Timor-Leste\n",
              "1355  2020-09-03        95  Antigua and Barbuda\n",
              "9943  2020-09-03       136           Seychelles\n",
              "5649  2020-09-03       145               Brunei\n",
              "3389  2020-09-03       177             Barbados\n",
              "4519  2020-09-03       227               Bhutan\n",
              "7005  2020-09-03       274             Cambodia\n",
              "6553  2020-09-03       448              Burundi\n",
              "8813  2020-09-03       448              Comoros"
            ]
          },
          "metadata": {
            "tags": []
          },
          "execution_count": 14
        }
      ]
    },
    {
      "cell_type": "markdown",
      "metadata": {
        "colab_type": "text",
        "id": "_0u_XY1ypXsn"
      },
      "source": [
        "*2. Para el caso de Peru, listar la variación versus el dia anterior, en los ultimos 40 dias."
      ]
    },
    {
      "cell_type": "code",
      "metadata": {
        "colab_type": "code",
        "id": "tMRO7k3g1dlb",
        "colab": {
          "base_uri": "https://localhost:8080/",
          "height": 1000
        },
        "outputId": "b75c7373-e686-4e06-872f-07a6ea7945ae"
      },
      "source": [
        "df_peru = pd.json_normalize(df_covid19['Peru']) \n",
        "\n",
        "df_peru['date'] =  pd.to_datetime(df_peru['date'] , infer_datetime_format=True)\n",
        "\n",
        "df_final=df_peru.sort_values(['date'] , ascending = [False]).head(40)\n",
        "df_dif = df_final['confirmed'] - df_final['confirmed'].shift(-1) \n",
        "df_final.insert(4,\"variacion\",df_dif,True)\n",
        "\n",
        "df_final[['date','confirmed','variacion']]"
      ],
      "execution_count": 19,
      "outputs": [
        {
          "output_type": "execute_result",
          "data": {
            "text/html": [
              "<div>\n",
              "<style scoped>\n",
              "    .dataframe tbody tr th:only-of-type {\n",
              "        vertical-align: middle;\n",
              "    }\n",
              "\n",
              "    .dataframe tbody tr th {\n",
              "        vertical-align: top;\n",
              "    }\n",
              "\n",
              "    .dataframe thead th {\n",
              "        text-align: right;\n",
              "    }\n",
              "</style>\n",
              "<table border=\"1\" class=\"dataframe\">\n",
              "  <thead>\n",
              "    <tr style=\"text-align: right;\">\n",
              "      <th></th>\n",
              "      <th>date</th>\n",
              "      <th>confirmed</th>\n",
              "      <th>variacion</th>\n",
              "    </tr>\n",
              "  </thead>\n",
              "  <tbody>\n",
              "    <tr>\n",
              "      <th>225</th>\n",
              "      <td>2020-09-03</td>\n",
              "      <td>657129</td>\n",
              "      <td>0.0</td>\n",
              "    </tr>\n",
              "    <tr>\n",
              "      <th>224</th>\n",
              "      <td>2020-09-02</td>\n",
              "      <td>657129</td>\n",
              "      <td>5092.0</td>\n",
              "    </tr>\n",
              "    <tr>\n",
              "      <th>223</th>\n",
              "      <td>2020-09-01</td>\n",
              "      <td>652037</td>\n",
              "      <td>4871.0</td>\n",
              "    </tr>\n",
              "    <tr>\n",
              "      <th>222</th>\n",
              "      <td>2020-08-31</td>\n",
              "      <td>647166</td>\n",
              "      <td>7731.0</td>\n",
              "    </tr>\n",
              "    <tr>\n",
              "      <th>221</th>\n",
              "      <td>2020-08-30</td>\n",
              "      <td>639435</td>\n",
              "      <td>9474.0</td>\n",
              "    </tr>\n",
              "    <tr>\n",
              "      <th>220</th>\n",
              "      <td>2020-08-29</td>\n",
              "      <td>629961</td>\n",
              "      <td>7964.0</td>\n",
              "    </tr>\n",
              "    <tr>\n",
              "      <th>219</th>\n",
              "      <td>2020-08-28</td>\n",
              "      <td>621997</td>\n",
              "      <td>8619.0</td>\n",
              "    </tr>\n",
              "    <tr>\n",
              "      <th>218</th>\n",
              "      <td>2020-08-27</td>\n",
              "      <td>613378</td>\n",
              "      <td>5996.0</td>\n",
              "    </tr>\n",
              "    <tr>\n",
              "      <th>217</th>\n",
              "      <td>2020-08-26</td>\n",
              "      <td>607382</td>\n",
              "      <td>6944.0</td>\n",
              "    </tr>\n",
              "    <tr>\n",
              "      <th>216</th>\n",
              "      <td>2020-08-25</td>\n",
              "      <td>600438</td>\n",
              "      <td>6112.0</td>\n",
              "    </tr>\n",
              "    <tr>\n",
              "      <th>215</th>\n",
              "      <td>2020-08-24</td>\n",
              "      <td>594326</td>\n",
              "      <td>9090.0</td>\n",
              "    </tr>\n",
              "    <tr>\n",
              "      <th>214</th>\n",
              "      <td>2020-08-23</td>\n",
              "      <td>585236</td>\n",
              "      <td>9169.0</td>\n",
              "    </tr>\n",
              "    <tr>\n",
              "      <th>213</th>\n",
              "      <td>2020-08-22</td>\n",
              "      <td>576067</td>\n",
              "      <td>9008.0</td>\n",
              "    </tr>\n",
              "    <tr>\n",
              "      <th>212</th>\n",
              "      <td>2020-08-21</td>\n",
              "      <td>567059</td>\n",
              "      <td>8639.0</td>\n",
              "    </tr>\n",
              "    <tr>\n",
              "      <th>211</th>\n",
              "      <td>2020-08-20</td>\n",
              "      <td>558420</td>\n",
              "      <td>9099.0</td>\n",
              "    </tr>\n",
              "    <tr>\n",
              "      <th>210</th>\n",
              "      <td>2020-08-19</td>\n",
              "      <td>549321</td>\n",
              "      <td>7828.0</td>\n",
              "    </tr>\n",
              "    <tr>\n",
              "      <th>209</th>\n",
              "      <td>2020-08-18</td>\n",
              "      <td>541493</td>\n",
              "      <td>5547.0</td>\n",
              "    </tr>\n",
              "    <tr>\n",
              "      <th>208</th>\n",
              "      <td>2020-08-17</td>\n",
              "      <td>535946</td>\n",
              "      <td>10143.0</td>\n",
              "    </tr>\n",
              "    <tr>\n",
              "      <th>207</th>\n",
              "      <td>2020-08-16</td>\n",
              "      <td>525803</td>\n",
              "      <td>9507.0</td>\n",
              "    </tr>\n",
              "    <tr>\n",
              "      <th>206</th>\n",
              "      <td>2020-08-15</td>\n",
              "      <td>516296</td>\n",
              "      <td>0.0</td>\n",
              "    </tr>\n",
              "    <tr>\n",
              "      <th>205</th>\n",
              "      <td>2020-08-14</td>\n",
              "      <td>516296</td>\n",
              "      <td>17741.0</td>\n",
              "    </tr>\n",
              "    <tr>\n",
              "      <th>204</th>\n",
              "      <td>2020-08-13</td>\n",
              "      <td>498555</td>\n",
              "      <td>8875.0</td>\n",
              "    </tr>\n",
              "    <tr>\n",
              "      <th>203</th>\n",
              "      <td>2020-08-12</td>\n",
              "      <td>489680</td>\n",
              "      <td>0.0</td>\n",
              "    </tr>\n",
              "    <tr>\n",
              "      <th>202</th>\n",
              "      <td>2020-08-11</td>\n",
              "      <td>489680</td>\n",
              "      <td>6547.0</td>\n",
              "    </tr>\n",
              "    <tr>\n",
              "      <th>201</th>\n",
              "      <td>2020-08-10</td>\n",
              "      <td>483133</td>\n",
              "      <td>5109.0</td>\n",
              "    </tr>\n",
              "    <tr>\n",
              "      <th>200</th>\n",
              "      <td>2020-08-09</td>\n",
              "      <td>478024</td>\n",
              "      <td>14149.0</td>\n",
              "    </tr>\n",
              "    <tr>\n",
              "      <th>199</th>\n",
              "      <td>2020-08-08</td>\n",
              "      <td>463875</td>\n",
              "      <td>0.0</td>\n",
              "    </tr>\n",
              "    <tr>\n",
              "      <th>198</th>\n",
              "      <td>2020-08-07</td>\n",
              "      <td>463875</td>\n",
              "      <td>8466.0</td>\n",
              "    </tr>\n",
              "    <tr>\n",
              "      <th>197</th>\n",
              "      <td>2020-08-06</td>\n",
              "      <td>455409</td>\n",
              "      <td>7785.0</td>\n",
              "    </tr>\n",
              "    <tr>\n",
              "      <th>196</th>\n",
              "      <td>2020-08-05</td>\n",
              "      <td>447624</td>\n",
              "      <td>7734.0</td>\n",
              "    </tr>\n",
              "    <tr>\n",
              "      <th>195</th>\n",
              "      <td>2020-08-04</td>\n",
              "      <td>439890</td>\n",
              "      <td>6790.0</td>\n",
              "    </tr>\n",
              "    <tr>\n",
              "      <th>194</th>\n",
              "      <td>2020-08-03</td>\n",
              "      <td>433100</td>\n",
              "      <td>4250.0</td>\n",
              "    </tr>\n",
              "    <tr>\n",
              "      <th>193</th>\n",
              "      <td>2020-08-02</td>\n",
              "      <td>428850</td>\n",
              "      <td>21358.0</td>\n",
              "    </tr>\n",
              "    <tr>\n",
              "      <th>192</th>\n",
              "      <td>2020-08-01</td>\n",
              "      <td>407492</td>\n",
              "      <td>0.0</td>\n",
              "    </tr>\n",
              "    <tr>\n",
              "      <th>191</th>\n",
              "      <td>2020-07-31</td>\n",
              "      <td>407492</td>\n",
              "      <td>6809.0</td>\n",
              "    </tr>\n",
              "    <tr>\n",
              "      <th>190</th>\n",
              "      <td>2020-07-30</td>\n",
              "      <td>400683</td>\n",
              "      <td>0.0</td>\n",
              "    </tr>\n",
              "    <tr>\n",
              "      <th>189</th>\n",
              "      <td>2020-07-29</td>\n",
              "      <td>400683</td>\n",
              "      <td>5678.0</td>\n",
              "    </tr>\n",
              "    <tr>\n",
              "      <th>188</th>\n",
              "      <td>2020-07-28</td>\n",
              "      <td>395005</td>\n",
              "      <td>5288.0</td>\n",
              "    </tr>\n",
              "    <tr>\n",
              "      <th>187</th>\n",
              "      <td>2020-07-27</td>\n",
              "      <td>389717</td>\n",
              "      <td>13756.0</td>\n",
              "    </tr>\n",
              "    <tr>\n",
              "      <th>186</th>\n",
              "      <td>2020-07-26</td>\n",
              "      <td>375961</td>\n",
              "      <td>NaN</td>\n",
              "    </tr>\n",
              "  </tbody>\n",
              "</table>\n",
              "</div>"
            ],
            "text/plain": [
              "          date  confirmed  variacion\n",
              "225 2020-09-03     657129        0.0\n",
              "224 2020-09-02     657129     5092.0\n",
              "223 2020-09-01     652037     4871.0\n",
              "222 2020-08-31     647166     7731.0\n",
              "221 2020-08-30     639435     9474.0\n",
              "220 2020-08-29     629961     7964.0\n",
              "219 2020-08-28     621997     8619.0\n",
              "218 2020-08-27     613378     5996.0\n",
              "217 2020-08-26     607382     6944.0\n",
              "216 2020-08-25     600438     6112.0\n",
              "215 2020-08-24     594326     9090.0\n",
              "214 2020-08-23     585236     9169.0\n",
              "213 2020-08-22     576067     9008.0\n",
              "212 2020-08-21     567059     8639.0\n",
              "211 2020-08-20     558420     9099.0\n",
              "210 2020-08-19     549321     7828.0\n",
              "209 2020-08-18     541493     5547.0\n",
              "208 2020-08-17     535946    10143.0\n",
              "207 2020-08-16     525803     9507.0\n",
              "206 2020-08-15     516296        0.0\n",
              "205 2020-08-14     516296    17741.0\n",
              "204 2020-08-13     498555     8875.0\n",
              "203 2020-08-12     489680        0.0\n",
              "202 2020-08-11     489680     6547.0\n",
              "201 2020-08-10     483133     5109.0\n",
              "200 2020-08-09     478024    14149.0\n",
              "199 2020-08-08     463875        0.0\n",
              "198 2020-08-07     463875     8466.0\n",
              "197 2020-08-06     455409     7785.0\n",
              "196 2020-08-05     447624     7734.0\n",
              "195 2020-08-04     439890     6790.0\n",
              "194 2020-08-03     433100     4250.0\n",
              "193 2020-08-02     428850    21358.0\n",
              "192 2020-08-01     407492        0.0\n",
              "191 2020-07-31     407492     6809.0\n",
              "190 2020-07-30     400683        0.0\n",
              "189 2020-07-29     400683     5678.0\n",
              "188 2020-07-28     395005     5288.0\n",
              "187 2020-07-27     389717    13756.0\n",
              "186 2020-07-26     375961        NaN"
            ]
          },
          "metadata": {
            "tags": []
          },
          "execution_count": 19
        }
      ]
    },
    {
      "cell_type": "markdown",
      "metadata": {
        "colab_type": "text",
        "id": "gwtMY_qkrIxJ"
      },
      "source": [
        "*3. Para el caso de Brasil, en que dia se registro el mayor numero de muertes\n"
      ]
    },
    {
      "cell_type": "code",
      "metadata": {
        "colab_type": "code",
        "id": "bMAoPfoP2T63",
        "colab": {
          "base_uri": "https://localhost:8080/",
          "height": 79
        },
        "outputId": "e4092ec1-ff17-456d-c504-d633e2fe9093"
      },
      "source": [
        "df_brazil = pd.json_normalize(df_covid19['Brazil']) \n",
        "\n",
        "df_brazil['date'] =  pd.to_datetime(df_brazil['date'] , infer_datetime_format=True)\n",
        "df_final=df_brazil.sort_values(['deaths'] , ascending = [False]).head(1)\n",
        "\n",
        "df_final[['date','deaths']]"
      ],
      "execution_count": 20,
      "outputs": [
        {
          "output_type": "execute_result",
          "data": {
            "text/html": [
              "<div>\n",
              "<style scoped>\n",
              "    .dataframe tbody tr th:only-of-type {\n",
              "        vertical-align: middle;\n",
              "    }\n",
              "\n",
              "    .dataframe tbody tr th {\n",
              "        vertical-align: top;\n",
              "    }\n",
              "\n",
              "    .dataframe thead th {\n",
              "        text-align: right;\n",
              "    }\n",
              "</style>\n",
              "<table border=\"1\" class=\"dataframe\">\n",
              "  <thead>\n",
              "    <tr style=\"text-align: right;\">\n",
              "      <th></th>\n",
              "      <th>date</th>\n",
              "      <th>deaths</th>\n",
              "    </tr>\n",
              "  </thead>\n",
              "  <tbody>\n",
              "    <tr>\n",
              "      <th>225</th>\n",
              "      <td>2020-09-03</td>\n",
              "      <td>124614</td>\n",
              "    </tr>\n",
              "  </tbody>\n",
              "</table>\n",
              "</div>"
            ],
            "text/plain": [
              "          date  deaths\n",
              "225 2020-09-03  124614"
            ]
          },
          "metadata": {
            "tags": []
          },
          "execution_count": 20
        }
      ]
    },
    {
      "cell_type": "markdown",
      "metadata": {
        "colab_type": "text",
        "id": "7UWCKQm816sd"
      },
      "source": [
        "*4. Para el caso de Mexico, cual es el promedio de recuperados en la ultima semana"
      ]
    },
    {
      "cell_type": "code",
      "metadata": {
        "colab_type": "code",
        "id": "UVeOLiyh16Y9",
        "colab": {
          "base_uri": "https://localhost:8080/",
          "height": 263
        },
        "outputId": "7160225c-0c56-4c18-de0c-2f1ee96fffcb"
      },
      "source": [
        "df_mexico = pd.json_normalize(df_covid19['Mexico']) \n",
        "\n",
        "df_mexico['date'] =  pd.to_datetime(df_mexico['date'] , infer_datetime_format=True)\n",
        "df_final=df_mexico.sort_values(['confirmed'] , ascending = [False]).head(7)\n",
        "\n",
        "df_prom = df_final[\"recovered\"].mean()\n",
        "\n",
        "df_final.insert(4,\"promedio\",df_prom,True)\n",
        "\n",
        "df_final[['date','recovered','promedio']]"
      ],
      "execution_count": 23,
      "outputs": [
        {
          "output_type": "execute_result",
          "data": {
            "text/html": [
              "<div>\n",
              "<style scoped>\n",
              "    .dataframe tbody tr th:only-of-type {\n",
              "        vertical-align: middle;\n",
              "    }\n",
              "\n",
              "    .dataframe tbody tr th {\n",
              "        vertical-align: top;\n",
              "    }\n",
              "\n",
              "    .dataframe thead th {\n",
              "        text-align: right;\n",
              "    }\n",
              "</style>\n",
              "<table border=\"1\" class=\"dataframe\">\n",
              "  <thead>\n",
              "    <tr style=\"text-align: right;\">\n",
              "      <th></th>\n",
              "      <th>date</th>\n",
              "      <th>recovered</th>\n",
              "      <th>promedio</th>\n",
              "    </tr>\n",
              "  </thead>\n",
              "  <tbody>\n",
              "    <tr>\n",
              "      <th>225</th>\n",
              "      <td>2020-09-03</td>\n",
              "      <td>510626</td>\n",
              "      <td>495269.714286</td>\n",
              "    </tr>\n",
              "    <tr>\n",
              "      <th>224</th>\n",
              "      <td>2020-09-02</td>\n",
              "      <td>504541</td>\n",
              "      <td>495269.714286</td>\n",
              "    </tr>\n",
              "    <tr>\n",
              "      <th>223</th>\n",
              "      <td>2020-09-01</td>\n",
              "      <td>501722</td>\n",
              "      <td>495269.714286</td>\n",
              "    </tr>\n",
              "    <tr>\n",
              "      <th>222</th>\n",
              "      <td>2020-08-31</td>\n",
              "      <td>496222</td>\n",
              "      <td>495269.714286</td>\n",
              "    </tr>\n",
              "    <tr>\n",
              "      <th>221</th>\n",
              "      <td>2020-08-30</td>\n",
              "      <td>489724</td>\n",
              "      <td>495269.714286</td>\n",
              "    </tr>\n",
              "    <tr>\n",
              "      <th>220</th>\n",
              "      <td>2020-08-29</td>\n",
              "      <td>484283</td>\n",
              "      <td>495269.714286</td>\n",
              "    </tr>\n",
              "    <tr>\n",
              "      <th>219</th>\n",
              "      <td>2020-08-28</td>\n",
              "      <td>479770</td>\n",
              "      <td>495269.714286</td>\n",
              "    </tr>\n",
              "  </tbody>\n",
              "</table>\n",
              "</div>"
            ],
            "text/plain": [
              "          date  recovered       promedio\n",
              "225 2020-09-03     510626  495269.714286\n",
              "224 2020-09-02     504541  495269.714286\n",
              "223 2020-09-01     501722  495269.714286\n",
              "222 2020-08-31     496222  495269.714286\n",
              "221 2020-08-30     489724  495269.714286\n",
              "220 2020-08-29     484283  495269.714286\n",
              "219 2020-08-28     479770  495269.714286"
            ]
          },
          "metadata": {
            "tags": []
          },
          "execution_count": 23
        }
      ]
    },
    {
      "cell_type": "markdown",
      "metadata": {
        "colab_type": "text",
        "id": "g2l3euSg48Kt"
      },
      "source": [
        "*5. Cuales son 5 actores del genero __comedia__, con mejor __promedio__ de __rating__ en las peliculas. considere la siguiente set de datos:  https://www.imdb.com/interfaces/  \n",
        "El tipo de archivo gz es comprimido, el tipo de archivo  tsv es texto plano separado por tabuladores.\n"
      ]
    },
    {
      "cell_type": "code",
      "metadata": {
        "colab_type": "code",
        "id": "7VDYWqSA46bB",
        "colab": {}
      },
      "source": [
        "df_housing = pd.read_csv('https://datasets.imdbws.com/title.ratings.tsv.gz',sep='|')\n",
        "df_housing.head(18)"
      ],
      "execution_count": null,
      "outputs": []
    },
    {
      "cell_type": "markdown",
      "metadata": {
        "colab_type": "text",
        "id": "Ai5Bp7BZmzjQ"
      },
      "source": [
        "# Referencias"
      ]
    },
    {
      "cell_type": "markdown",
      "metadata": {
        "colab_type": "text",
        "id": "lkcyTvm9mzjQ"
      },
      "source": [
        "http://pandas.pydata.org/pandas-docs/stable/index.html "
      ]
    }
  ]
}