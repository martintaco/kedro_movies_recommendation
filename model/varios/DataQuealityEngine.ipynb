{
 "cells": [
  {
   "cell_type": "code",
   "execution_count": null,
   "metadata": {},
   "outputs": [],
   "source": [
    "# pip install jupyterthemes"
   ]
  },
  {
   "cell_type": "code",
   "execution_count": null,
   "metadata": {},
   "outputs": [],
   "source": [
    "# pip install --upgrade jupyterthemes"
   ]
  },
  {
   "cell_type": "code",
   "execution_count": 1,
   "metadata": {},
   "outputs": [],
   "source": [
    "from jupyterthemes import jtplot\n",
    "\n",
    "jtplot.style(theme='monokai', context='notebook', ticks=True, grid=False)"
   ]
  },
  {
   "cell_type": "code",
   "execution_count": 2,
   "metadata": {},
   "outputs": [],
   "source": [
    "import pandas_redshift as pr\n",
    "import difflib\n",
    "import pandas as pd\n",
    "import numpy as np\n",
    "import pyodbc\n",
    "\n",
    "import pandas.io.sql as sqlio\n",
    "import psycopg2\n",
    "import json\n",
    "\n",
    "import datetime\n",
    "\n",
    "import seaborn as sns\n",
    "from scipy import stats\n",
    "\n",
    "import matplotlib.pyplot as plt"
   ]
  },
  {
   "cell_type": "markdown",
   "metadata": {},
   "source": [
    "var_dbname = 'analitico'\n",
    "var_host = '10.12.2.26'#10.12.2.26 | 10.12.6.95\n",
    "var_port ='5439'\n",
    "var_user ='javierdiaz'\n",
    "var_password = 'Belcorp2020'"
   ]
  },
  {
   "cell_type": "code",
   "execution_count": 3,
   "metadata": {},
   "outputs": [],
   "source": [
    "var_dbname = 'analitico'   #QA\n",
    "var_host = '10.12.9.172'\n",
    "var_port ='5439'\n",
    "var_user ='javierdiaz'\n",
    "var_password = 'Belcorp2020'"
   ]
  },
  {
   "cell_type": "markdown",
   "metadata": {},
   "source": [
    "### Función Obtener Tabla"
   ]
  },
  {
   "cell_type": "code",
   "execution_count": 14,
   "metadata": {},
   "outputs": [],
   "source": [
    "def dataset(s,t):\n",
    "    \n",
    "    connRS=psycopg2.connect(\n",
    "                        dbname= var_dbname, \n",
    "                        host= var_host, \n",
    "                        port= var_port, \n",
    "                        user= var_user,\n",
    "                        password=var_password\n",
    "    )\n",
    "    \n",
    "    if(connRS):\n",
    "        print(\"Conexión exitosa\")\n",
    "        query_parameters = \"\"\"\n",
    "\n",
    "        select TOP 1000 *\n",
    "        from {}.{};\n",
    "\n",
    "        \"\"\".format(s,t)\n",
    "        print(\"Trajo la data\")\n",
    "        ds =  pd.read_sql(query_parameters, connRS)\n",
    "        return ds\n",
    "        \n",
    "        connRS.close()\n",
    "    else:\n",
    "        print(\"falló\")"
   ]
  },
  {
   "cell_type": "code",
   "execution_count": 15,
   "metadata": {},
   "outputs": [],
   "source": [
    "# dataset('dom_customer','iku_ecat_result')"
   ]
  },
  {
   "cell_type": "markdown",
   "metadata": {},
   "source": [
    "### Función outliers"
   ]
  },
  {
   "cell_type": "code",
   "execution_count": 16,
   "metadata": {},
   "outputs": [],
   "source": [
    "def find_outlier(df_in, col_name):\n",
    "    str(col_name)\n",
    "    q1 = df_in[col_name].quantile(0.25)\n",
    "    q3 = df_in[col_name].quantile(0.75)\n",
    "    iqr = q3-q1 #Interquartile range\n",
    "    fence_low  = q1-1.5*iqr\n",
    "    fence_high = q3+1.5*iqr\n",
    "    df_out = df_in.loc[(df_in[col_name] < fence_low) | (df_in[col_name] > fence_high)]\n",
    "    porc = 1- (df_out[col_name].count() / df_in[col_name].count())\n",
    "    return porc"
   ]
  },
  {
   "cell_type": "markdown",
   "metadata": {},
   "source": [
    "### Función Email valido / flag"
   ]
  },
  {
   "cell_type": "code",
   "execution_count": 17,
   "metadata": {},
   "outputs": [],
   "source": [
    "import re\n",
    "\n",
    "def fnc_email_valido(e):\n",
    "    regex = '^\\w+([\\.-]?\\w+)*@\\w+([\\.-]?\\w+)*(\\.\\w{2,3})+$'\n",
    "    \n",
    "    if(re.search(regex,e)):\n",
    "        return 0\n",
    "    else:\n",
    "        return 1"
   ]
  },
  {
   "cell_type": "code",
   "execution_count": 18,
   "metadata": {},
   "outputs": [
    {
     "data": {
      "text/plain": [
       "0"
      ]
     },
     "execution_count": 18,
     "metadata": {},
     "output_type": "execute_result"
    }
   ],
   "source": [
    "fnc_email_valido('javier5abril@gmail.com')"
   ]
  },
  {
   "cell_type": "code",
   "execution_count": 36,
   "metadata": {},
   "outputs": [],
   "source": [
    "def fnc_completitud(esquema,data,columna):\n",
    "    #obtengo la data de la tabla\n",
    "    ds = dataset(esquema,data)\n",
    "    \n",
    "    #setear\n",
    "    name_flag = str(columna)+'_completitud'\n",
    "    ds[name_flag] = ds[columna].apply(lambda x : fnc_email_valido(x))\n",
    "    \n",
    "    #retorno la data final, completitud + fecha + tabla\n",
    "    return ds\n"
   ]
  },
  {
   "cell_type": "code",
   "execution_count": 37,
   "metadata": {},
   "outputs": [
    {
     "name": "stdout",
     "output_type": "stream",
     "text": [
      "Conexión exitosa\n",
      "Trajo la data\n"
     ]
    }
   ],
   "source": [
    "output = fnc_completitud('fnc_customer','iku_cdc_profile','email')"
   ]
  },
  {
   "cell_type": "code",
   "execution_count": 38,
   "metadata": {},
   "outputs": [
    {
     "data": {
      "text/html": [
       "<div>\n",
       "<style scoped>\n",
       "    .dataframe tbody tr th:only-of-type {\n",
       "        vertical-align: middle;\n",
       "    }\n",
       "\n",
       "    .dataframe tbody tr th {\n",
       "        vertical-align: top;\n",
       "    }\n",
       "\n",
       "    .dataframe thead th {\n",
       "        text-align: right;\n",
       "    }\n",
       "</style>\n",
       "<table border=\"1\" class=\"dataframe\">\n",
       "  <thead>\n",
       "    <tr style=\"text-align: right;\">\n",
       "      <th></th>\n",
       "      <th>uid</th>\n",
       "      <th>email</th>\n",
       "      <th>created_register</th>\n",
       "      <th>marketing_campaignidregister</th>\n",
       "      <th>flag_branding</th>\n",
       "      <th>date_branding</th>\n",
       "      <th>date_ecatalog</th>\n",
       "      <th>flag_ecatalog</th>\n",
       "      <th>flag_commerce</th>\n",
       "      <th>date_commerce</th>\n",
       "      <th>...</th>\n",
       "      <th>country</th>\n",
       "      <th>firstname</th>\n",
       "      <th>gender</th>\n",
       "      <th>lastname</th>\n",
       "      <th>phones_number</th>\n",
       "      <th>flag_status</th>\n",
       "      <th>desc_flag_status</th>\n",
       "      <th>created</th>\n",
       "      <th>updated</th>\n",
       "      <th>email_completitud</th>\n",
       "    </tr>\n",
       "  </thead>\n",
       "  <tbody>\n",
       "    <tr>\n",
       "      <th>0</th>\n",
       "      <td>80509da49af0477f8cb82289b203fbac</td>\n",
       "      <td>fannyintriago1991@gmail.com</td>\n",
       "      <td>2019-08-02 00:18:22.898</td>\n",
       "      <td></td>\n",
       "      <td>False</td>\n",
       "      <td>NaT</td>\n",
       "      <td>NaT</td>\n",
       "      <td>False</td>\n",
       "      <td>False</td>\n",
       "      <td>None</td>\n",
       "      <td>...</td>\n",
       "      <td>EC</td>\n",
       "      <td>FANNY</td>\n",
       "      <td>f</td>\n",
       "      <td>INTRIAGO</td>\n",
       "      <td></td>\n",
       "      <td>1.0</td>\n",
       "      <td>record not updated</td>\n",
       "      <td>2020-01-23 19:15:03.832963</td>\n",
       "      <td>NaT</td>\n",
       "      <td>0</td>\n",
       "    </tr>\n",
       "    <tr>\n",
       "      <th>1</th>\n",
       "      <td>07cb43af47a541659c8fc4848cab1d32</td>\n",
       "      <td>victor-1712-otero@outlook.com</td>\n",
       "      <td>2019-08-02 01:16:19.778</td>\n",
       "      <td>201911</td>\n",
       "      <td>False</td>\n",
       "      <td>NaT</td>\n",
       "      <td>2019-09-04 11:43:26.592</td>\n",
       "      <td>True</td>\n",
       "      <td>False</td>\n",
       "      <td>None</td>\n",
       "      <td>...</td>\n",
       "      <td>EC</td>\n",
       "      <td>Victor</td>\n",
       "      <td>m</td>\n",
       "      <td>Otero</td>\n",
       "      <td>+59309999999999</td>\n",
       "      <td>1.0</td>\n",
       "      <td>record not updated</td>\n",
       "      <td>2020-01-23 19:15:03.832963</td>\n",
       "      <td>NaT</td>\n",
       "      <td>0</td>\n",
       "    </tr>\n",
       "    <tr>\n",
       "      <th>2</th>\n",
       "      <td>a083de3b62fa4c079e95aee3dca61665</td>\n",
       "      <td>emely_merino@hotmail.com</td>\n",
       "      <td>2019-08-02 00:57:48.397</td>\n",
       "      <td></td>\n",
       "      <td>False</td>\n",
       "      <td>NaT</td>\n",
       "      <td>2019-06-02 00:00:00.000</td>\n",
       "      <td>True</td>\n",
       "      <td>False</td>\n",
       "      <td>None</td>\n",
       "      <td>...</td>\n",
       "      <td>EC</td>\n",
       "      <td>EMELY</td>\n",
       "      <td>f</td>\n",
       "      <td>MERINO</td>\n",
       "      <td></td>\n",
       "      <td>1.0</td>\n",
       "      <td>record not updated</td>\n",
       "      <td>2020-01-23 19:15:03.832963</td>\n",
       "      <td>NaT</td>\n",
       "      <td>0</td>\n",
       "    </tr>\n",
       "    <tr>\n",
       "      <th>3</th>\n",
       "      <td>4901aeeda22a466c896d8cae135a5703</td>\n",
       "      <td>Annettehernandez925@yahoo.com</td>\n",
       "      <td>2019-08-01 23:56:30.824</td>\n",
       "      <td>202002</td>\n",
       "      <td>False</td>\n",
       "      <td>NaT</td>\n",
       "      <td>2020-01-26 22:53:33.283</td>\n",
       "      <td>True</td>\n",
       "      <td>False</td>\n",
       "      <td>None</td>\n",
       "      <td>...</td>\n",
       "      <td>PR</td>\n",
       "      <td>ANNETTE</td>\n",
       "      <td>f</td>\n",
       "      <td>HERNANDEZ</td>\n",
       "      <td>+17872352594</td>\n",
       "      <td>1.0</td>\n",
       "      <td>record not updated</td>\n",
       "      <td>2020-01-27 20:50:11.228914</td>\n",
       "      <td>NaT</td>\n",
       "      <td>0</td>\n",
       "    </tr>\n",
       "    <tr>\n",
       "      <th>4</th>\n",
       "      <td>4cad550b15574c5ba3bdfc6649c1b865</td>\n",
       "      <td>julialexandra1994@gmail.com</td>\n",
       "      <td>2019-11-27 02:33:41.693</td>\n",
       "      <td></td>\n",
       "      <td>False</td>\n",
       "      <td>NaT</td>\n",
       "      <td>2019-11-27 02:33:41.386</td>\n",
       "      <td>True</td>\n",
       "      <td>False</td>\n",
       "      <td>None</td>\n",
       "      <td>...</td>\n",
       "      <td>EC</td>\n",
       "      <td>Julia</td>\n",
       "      <td>None</td>\n",
       "      <td>Peu00f1afiel</td>\n",
       "      <td>+5930969922464</td>\n",
       "      <td>1.0</td>\n",
       "      <td>record not updated</td>\n",
       "      <td>2020-01-23 19:15:03.832963</td>\n",
       "      <td>NaT</td>\n",
       "      <td>0</td>\n",
       "    </tr>\n",
       "  </tbody>\n",
       "</table>\n",
       "<p>5 rows × 28 columns</p>\n",
       "</div>"
      ],
      "text/plain": [
       "                                uid                          email  \\\n",
       "0  80509da49af0477f8cb82289b203fbac    fannyintriago1991@gmail.com   \n",
       "1  07cb43af47a541659c8fc4848cab1d32  victor-1712-otero@outlook.com   \n",
       "2  a083de3b62fa4c079e95aee3dca61665       emely_merino@hotmail.com   \n",
       "3  4901aeeda22a466c896d8cae135a5703  Annettehernandez925@yahoo.com   \n",
       "4  4cad550b15574c5ba3bdfc6649c1b865    julialexandra1994@gmail.com   \n",
       "\n",
       "         created_register marketing_campaignidregister  flag_branding  \\\n",
       "0 2019-08-02 00:18:22.898                                       False   \n",
       "1 2019-08-02 01:16:19.778                       201911          False   \n",
       "2 2019-08-02 00:57:48.397                                       False   \n",
       "3 2019-08-01 23:56:30.824                       202002          False   \n",
       "4 2019-11-27 02:33:41.693                                       False   \n",
       "\n",
       "  date_branding           date_ecatalog  flag_ecatalog  flag_commerce  \\\n",
       "0           NaT                     NaT          False          False   \n",
       "1           NaT 2019-09-04 11:43:26.592           True          False   \n",
       "2           NaT 2019-06-02 00:00:00.000           True          False   \n",
       "3           NaT 2020-01-26 22:53:33.283           True          False   \n",
       "4           NaT 2019-11-27 02:33:41.386           True          False   \n",
       "\n",
       "  date_commerce  ...  country  firstname gender      lastname  \\\n",
       "0          None  ...       EC     FANNY       f     INTRIAGO    \n",
       "1          None  ...       EC     Victor      m         Otero   \n",
       "2          None  ...       EC     EMELY       f       MERINO    \n",
       "3          None  ...       PR    ANNETTE      f     HERNANDEZ   \n",
       "4          None  ...       EC      Julia   None  Peu00f1afiel   \n",
       "\n",
       "     phones_number flag_status    desc_flag_status                    created  \\\n",
       "0                          1.0  record not updated 2020-01-23 19:15:03.832963   \n",
       "1  +59309999999999         1.0  record not updated 2020-01-23 19:15:03.832963   \n",
       "2                          1.0  record not updated 2020-01-23 19:15:03.832963   \n",
       "3     +17872352594         1.0  record not updated 2020-01-27 20:50:11.228914   \n",
       "4   +5930969922464         1.0  record not updated 2020-01-23 19:15:03.832963   \n",
       "\n",
       "  updated email_completitud  \n",
       "0     NaT                 0  \n",
       "1     NaT                 0  \n",
       "2     NaT                 0  \n",
       "3     NaT                 0  \n",
       "4     NaT                 0  \n",
       "\n",
       "[5 rows x 28 columns]"
      ]
     },
     "execution_count": 38,
     "metadata": {},
     "output_type": "execute_result"
    }
   ],
   "source": [
    "output.head()"
   ]
  },
  {
   "cell_type": "code",
   "execution_count": null,
   "metadata": {},
   "outputs": [],
   "source": [
    "fnc_completitud('dom_customer','iku_ecat_result','email')\n",
    "\n",
    "fnc_cobertura('dom_customer','iku_ecat_result','email')\n",
    "fnc_densidad('dom_customer','iku_ecat_result','email')\n",
    "fnc_densidad('dom_customer','iku_ecat_result','email')\n"
   ]
  },
  {
   "cell_type": "code",
   "execution_count": null,
   "metadata": {},
   "outputs": [],
   "source": [
    "output = metrica('dom_customer','iku_ecat_result')\n",
    "\n",
    "for i in output.select_dtypes(include=['int','float']).columns.values:\n",
    "    #print(i)\n",
    "    print(i , \" : \", find_outlier(output, i))"
   ]
  },
  {
   "cell_type": "code",
   "execution_count": null,
   "metadata": {},
   "outputs": [],
   "source": [
    "output.dtypes\n",
    "\n",
    "#output.select_dtypes(include=['int','float'])"
   ]
  },
  {
   "cell_type": "code",
   "execution_count": null,
   "metadata": {},
   "outputs": [],
   "source": [
    "output = metrica('dom_customer','iku_ecat_result')"
   ]
  },
  {
   "cell_type": "code",
   "execution_count": null,
   "metadata": {},
   "outputs": [],
   "source": [
    "find_outlier(output,\"tot_amount_usd\")"
   ]
  },
  {
   "cell_type": "code",
   "execution_count": null,
   "metadata": {},
   "outputs": [],
   "source": [
    "equema\n",
    "tabla\n",
    "\n",
    "\n",
    "\n",
    "connRS=psycopg2.connect(dbname= var_dbname, \n",
    "                        host= var_host, \n",
    "                        port= var_port, \n",
    "                        user= var_user,\n",
    "                        password=var_password )\n",
    "\n",
    "if(connRS):\n",
    "    print(\"Conexión exitosa\")\n",
    "    query_parameters = \"\"\"\n",
    "    \n",
    "    select codpais,aniocampana,count(*) as total_redshift\n",
    "    from $s.$s\n",
    "    where aniocampana >= '202001'\n",
    "    group by 1,2\n",
    "    order by 1,2\n",
    "    \n",
    "    \"\"\", schema\n",
    "\n",
    "    datalake =  pd.read_sql(query_parameters, connRS)\n",
    "\n",
    "    connRS.commit()\n",
    "    connRS.close()\n",
    "else:\n",
    "    print(\"falló\")\n",
    "\n"
   ]
  },
  {
   "cell_type": "code",
   "execution_count": null,
   "metadata": {},
   "outputs": [],
   "source": [
    "datalake.dtypes\n",
    "datalake = datalake.dropna(how=\"all\")"
   ]
  },
  {
   "cell_type": "code",
   "execution_count": null,
   "metadata": {},
   "outputs": [],
   "source": [
    "datalake[\"aniocampana\"] = datalake[\"aniocampana\"].astype(int)\n",
    "datalake.dtypes"
   ]
  },
  {
   "cell_type": "code",
   "execution_count": null,
   "metadata": {},
   "outputs": [],
   "source": [
    "datalake[datalake[\"codpais\"] == 'BO']"
   ]
  },
  {
   "cell_type": "code",
   "execution_count": null,
   "metadata": {},
   "outputs": [],
   "source": [
    "Hola = 'Hola'\n",
    "caracteres = \"\"\"Select top 10 * from (%s)\"\"\", Hola\n",
    "\n",
    "print(caracteres)"
   ]
  },
  {
   "cell_type": "code",
   "execution_count": null,
   "metadata": {},
   "outputs": [],
   "source": [
    "def metrica(s,t):\n",
    "    \n",
    "    connRS=psycopg2.connect(\n",
    "                        dbname= var_dbname, \n",
    "                        host= var_host, \n",
    "                        port= var_port, \n",
    "                        user= var_user,\n",
    "                        password=var_password\n",
    "    )\n",
    "    \n",
    "    if(connRS):\n",
    "        print(\"Conexión exitosa\")\n",
    "        query_parameters = \"\"\"\n",
    "\n",
    "        select TOP 5000 *\n",
    "        from {}.{} where aniocampana = '202004';\n",
    "\n",
    "        \"\"\".format(s,t)\n",
    "        \n",
    "        ds =  pd.read_sql(query_parameters, connRS)\n",
    "        return ds\n",
    "        \n",
    "        connRS.close()\n",
    "    else:\n",
    "        print(\"falló\")"
   ]
  },
  {
   "cell_type": "code",
   "execution_count": null,
   "metadata": {},
   "outputs": [],
   "source": [
    "output = metrica('dom_customer','iku_ecat_result')"
   ]
  },
  {
   "cell_type": "code",
   "execution_count": null,
   "metadata": {},
   "outputs": [],
   "source": [
    "def find_outlier(df_in, col_name):\n",
    "    str(col_name)\n",
    "    q1 = df_in[col_name].quantile(0.25)\n",
    "    q3 = df_in[col_name].quantile(0.75)\n",
    "    iqr = q3-q1 #Interquartile range\n",
    "    fence_low  = q1-1.5*iqr\n",
    "    fence_high = q3+1.5*iqr\n",
    "    df_out = df_in.loc[(df_in[col_name] < fence_low) | (df_in[col_name] > fence_high)]\n",
    "    porc = 1- (df_out[col_name].count() / df_in[col_name].count())\n",
    "    return porc\n",
    "\n",
    "find_outlier(output,\"tot_amount_usd\")"
   ]
  },
  {
   "cell_type": "code",
   "execution_count": null,
   "metadata": {},
   "outputs": [],
   "source": [
    "def find_outlier(df_in, col_name):\n",
    "    str(col_name)\n",
    "    q1 = df_in[col_name].quantile(0.25)\n",
    "    q3 = df_in[col_name].quantile(0.75)\n",
    "    iqr = q3-q1 #Interquartile range\n",
    "    fence_low  = q1-1.5*iqr\n",
    "    fence_high = q3+1.5*iqr\n",
    "    df_out = df_in.loc[(df_in[col_name] < fence_low) | (df_in[col_name] > fence_high)]\n",
    "    porc = 1- (df_out[col_name].count() / df_in[col_name].count())\n",
    "    return df_out\n",
    "\n",
    "find_outlier(output,\"tot_amount_usd\")"
   ]
  },
  {
   "cell_type": "code",
   "execution_count": null,
   "metadata": {},
   "outputs": [],
   "source": [
    "output[\"precio\"].count()"
   ]
  },
  {
   "cell_type": "code",
   "execution_count": null,
   "metadata": {},
   "outputs": [],
   "source": [
    "pip install validate_email "
   ]
  },
  {
   "cell_type": "code",
   "execution_count": null,
   "metadata": {},
   "outputs": [],
   "source": [
    "pip install py3DNS"
   ]
  },
  {
   "cell_type": "code",
   "execution_count": null,
   "metadata": {},
   "outputs": [],
   "source": [
    "import validate_email \n",
    "\n",
    "validate_email('example@example.com',check_mx=True)"
   ]
  },
  {
   "cell_type": "code",
   "execution_count": null,
   "metadata": {},
   "outputs": [],
   "source": [
    "parseaddr('foo@example.com')"
   ]
  },
  {
   "cell_type": "code",
   "execution_count": null,
   "metadata": {},
   "outputs": [],
   "source": [
    "parseaddr('dadasd.com')"
   ]
  },
  {
   "cell_type": "code",
   "execution_count": null,
   "metadata": {},
   "outputs": [],
   "source": [
    "parseaddr('invalid@example.com') # notice the comma ('', 'invalid@example')"
   ]
  },
  {
   "cell_type": "code",
   "execution_count": null,
   "metadata": {},
   "outputs": [],
   "source": [
    "parseaddr('holahola.com')"
   ]
  },
  {
   "cell_type": "code",
   "execution_count": null,
   "metadata": {},
   "outputs": [],
   "source": [
    "is_valid = validate_email('example@example.com',check_mx=True) "
   ]
  },
  {
   "cell_type": "code",
   "execution_count": null,
   "metadata": {},
   "outputs": [],
   "source": []
  }
 ],
 "metadata": {
  "kernelspec": {
   "display_name": "Python 3",
   "language": "python",
   "name": "python3"
  },
  "language_info": {
   "codemirror_mode": {
    "name": "ipython",
    "version": 3
   },
   "file_extension": ".py",
   "mimetype": "text/x-python",
   "name": "python",
   "nbconvert_exporter": "python",
   "pygments_lexer": "ipython3",
   "version": "3.6.4"
  }
 },
 "nbformat": 4,
 "nbformat_minor": 2
}
