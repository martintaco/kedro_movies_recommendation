{
 "cells": [
  {
   "cell_type": "code",
   "execution_count": 1,
   "metadata": {},
   "outputs": [
    {
     "name": "stdout",
     "output_type": "stream",
     "text": [
      "Starting Spark application\n"
     ]
    },
    {
     "data": {
      "text/html": [
       "<table>\n",
       "<tr><th>ID</th><th>YARN Application ID</th><th>Kind</th><th>State</th><th>Spark UI</th><th>Driver log</th><th>Current session?</th></tr><tr><td>94</td><td>application_1575505342345_0139</td><td>pyspark3</td><td>idle</td><td><a target=\"_blank\" href=\"http://ip-10-12-6-121.galileo.ebel:20888/proxy/application_1575505342345_0139/\">Link</a></td><td><a target=\"_blank\" href=\"http://ip-10-12-6-31.galileo.ebel:8042/node/containerlogs/container_1575505342345_0139_01_000001/chvasquez\">Link</a></td><td>✔</td></tr></table>"
      ],
      "text/plain": [
       "<IPython.core.display.HTML object>"
      ]
     },
     "metadata": {},
     "output_type": "display_data"
    },
    {
     "name": "stdout",
     "output_type": "stream",
     "text": [
      "SparkSession available as 'spark'.\n"
     ]
    }
   ],
   "source": [
    "from pyspark.ml.fpm import FPGrowth\n",
    "from pyspark.sql.functions import *\n",
    "from pyspark.sql.functions import col\n",
    "from pyspark.sql.window import Window\n",
    "from pyspark.ml.feature import HashingTF, Normalizer\n",
    "from pyspark.sql.types import StringType, ArrayType, DoubleType, IntegerType"
   ]
  },
  {
   "cell_type": "markdown",
   "metadata": {},
   "source": [
    "### Rutas de Parquets files ha validar"
   ]
  },
  {
   "cell_type": "code",
   "execution_count": 2,
   "metadata": {},
   "outputs": [],
   "source": [
    "####Paramters\n",
    "str_matrizcampana = 's3://belc-bigdata-functional-dlk-qas/analitico/GlueDatabase/functional-offline/dwh_dmatrizcampana/'\n",
    "str_fvtaproebecam = 's3://belc-bigdata-functional-dlk-qas/analitico/GlueDatabase/functional-offline/dwh_fvtaproebecam/'\n",
    "str_tipooferta = 's3://belc-bigdata-functional-dlk-qas/analitico/GlueDatabase/functional-offline/dwh_dtipooferta/'\n",
    "str_offert = 's3://belc-bigdata-landing-dlk-qas/lan-ganamas/input/cons/'\n",
    "str_tiempocampana = 's3://belc-bigdata-functional-dlk-qas/analitico/GlueDatabase/functional/dwh_dtiempocampana/'"
   ]
  },
  {
   "cell_type": "markdown",
   "metadata": {},
   "source": [
    "### Trae Información"
   ]
  },
  {
   "cell_type": "code",
   "execution_count": 3,
   "metadata": {},
   "outputs": [],
   "source": [
    "df_tiempocampana = spark.read.parquet(str_tiempocampana)\n",
    "df_dmatrizcampana = spark.read.parquet(str_matrizcampana)"
   ]
  },
  {
   "cell_type": "code",
   "execution_count": 4,
   "metadata": {},
   "outputs": [],
   "source": [
    "ANIOCAMPAN_INI = '201901'\n",
    "ANIOCAMPAN_FIN = '202004'"
   ]
  },
  {
   "cell_type": "code",
   "execution_count": 5,
   "metadata": {},
   "outputs": [],
   "source": [
    "df_campana = df_tiempocampana.filter( \n",
    "    (col('codpais') != 'US') & \n",
    "    (col('aniocampana') >= ANIOCAMPAN_INI) & (col('aniocampana') <= ANIOCAMPAN_FIN)\n",
    ").select('codpais', 'aniocampana')"
   ]
  },
  {
   "cell_type": "markdown",
   "metadata": {},
   "source": [
    "## DMatrizCampana\n",
    "\n",
    "Valida información:\n",
    "* Se buscan ofertas digitales ( codtipooferta>'200'), que esten aspeados (codventa != '00000')\n",
    "* PartitionBy (max_total) para buscar el total tipos de ofertas por campaña"
   ]
  },
  {
   "cell_type": "code",
   "execution_count": 6,
   "metadata": {},
   "outputs": [
    {
     "name": "stdout",
     "output_type": "stream",
     "text": [
      "+-------+-----------+-------------+-----+---------+\n",
      "|codpais|aniocampana|codtipooferta|total|max_total|\n",
      "+-------+-----------+-------------+-----+---------+\n",
      "|     PR|     201912|         null|    0|        1|\n",
      "|     MX|     201917|         null|    0|        1|\n",
      "|     EC|     202003|          214|  282|        1|\n",
      "|     BO|     202004|         null|    0|        1|\n",
      "|     CL|     202004|         null|    0|        1|\n",
      "|     CR|     202004|         null|    0|        1|\n",
      "|     DO|     202004|         null|    0|        1|\n",
      "|     EC|     202004|         null|    0|        1|\n",
      "|     GT|     202004|         null|    0|        1|\n",
      "|     MX|     202004|         null|    0|        1|\n",
      "|     PA|     202004|         null|    0|        1|\n",
      "|     PE|     202004|          211|    1|        2|\n",
      "|     PE|     202004|          213|   51|        2|\n",
      "|     PR|     202004|         null|    0|        1|\n",
      "|     SV|     202004|         null|    0|        1|\n",
      "+-------+-----------+-------------+-----+---------+"
     ]
    }
   ],
   "source": [
    "#Condiciones\n",
    "df_matriz1 = df_dmatrizcampana.filter( \n",
    "            (col('codtipooferta') >= '200') & (col('codventa') != '00000') & \n",
    "            (col('codpais') != 'US') & \n",
    "            (col('aniocampana') >= ANIOCAMPAN_INI) & (col('aniocampana') <= ANIOCAMPAN_FIN) \n",
    "        ).groupBy('codpais','aniocampana','codtipooferta')\\\n",
    "        .count().withColumnRenamed('count','total')\\\n",
    "        .sort(['codpais', 'aniocampana'])\n",
    "\n",
    "#MaxTotal PartitionBy\n",
    "window = Window.partitionBy('codpais','aniocampana' )\n",
    "\n",
    "df_matriz = df_campana.join(df_matriz1,['codpais', 'aniocampana'],'left')\\\n",
    "        .select('codpais', 'aniocampana', 'codtipooferta','total').na.fill({'total': 0})\\\n",
    "        .withColumn(\"max_total\",count('total').over(window))\n",
    "\n",
    "df_matriz.filter( \n",
    "    (col('max_total') <= 3)\n",
    ").orderBy(['aniocampana', 'codpais']).show(100)"
   ]
  },
  {
   "cell_type": "code",
   "execution_count": null,
   "metadata": {},
   "outputs": [],
   "source": []
  }
 ],
 "metadata": {
  "kernelspec": {
   "display_name": "PySpark3",
   "language": "",
   "name": "pyspark3kernel"
  },
  "language_info": {
   "codemirror_mode": {
    "name": "python",
    "version": 3
   },
   "mimetype": "text/x-python",
   "name": "pyspark3",
   "pygments_lexer": "python3"
  }
 },
 "nbformat": 4,
 "nbformat_minor": 2
}
