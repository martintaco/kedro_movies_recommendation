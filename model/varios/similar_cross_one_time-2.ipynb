{
 "cells": [
  {
   "cell_type": "code",
   "execution_count": 1,
   "metadata": {},
   "outputs": [
    {
     "name": "stdout",
     "output_type": "stream",
     "text": [
      "Starting Spark application\n"
     ]
    },
    {
     "data": {
      "text/html": [
       "<table>\n",
       "<tr><th>ID</th><th>YARN Application ID</th><th>Kind</th><th>State</th><th>Spark UI</th><th>Driver log</th><th>Current session?</th></tr><tr><td>226</td><td>application_1575505342345_0271</td><td>pyspark3</td><td>idle</td><td><a target=\"_blank\" href=\"http://ip-10-12-6-121.galileo.ebel:20888/proxy/application_1575505342345_0271/\">Link</a></td><td><a target=\"_blank\" href=\"http://ip-10-12-6-31.galileo.ebel:8042/node/containerlogs/container_1575505342345_0271_01_000001/rcampos\">Link</a></td><td>✔</td></tr></table>"
      ],
      "text/plain": [
       "<IPython.core.display.HTML object>"
      ]
     },
     "metadata": {},
     "output_type": "display_data"
    },
    {
     "name": "stdout",
     "output_type": "stream",
     "text": [
      "SparkSession available as 'spark'.\n"
     ]
    }
   ],
   "source": [
    "from pyspark.ml.fpm import FPGrowth\n",
    "from pyspark.sql.functions import *\n",
    "\n",
    "from pyspark.sql.functions import col\n",
    "from pyspark.sql.window import Window\n",
    "from pyspark.ml.feature import HashingTF, Normalizer\n",
    "from pyspark.sql.types import StringType, ArrayType, DoubleType, IntegerType"
   ]
  },
  {
   "cell_type": "markdown",
   "metadata": {},
   "source": [
    "#### Change parameters"
   ]
  },
  {
   "cell_type": "code",
   "execution_count": 2,
   "metadata": {},
   "outputs": [],
   "source": [
    "COUNTRY = 'MX'\n",
    "SALES_CAMP_FROM = '201818'\n",
    "SALES_CAMP_TO = '202001'\n",
    "ANIOCAMPANA = '202005'"
   ]
  },
  {
   "cell_type": "markdown",
   "metadata": {},
   "source": [
    "## Reading dproducto table"
   ]
  },
  {
   "cell_type": "code",
   "execution_count": 3,
   "metadata": {},
   "outputs": [],
   "source": [
    "s3_loc = 's3://belc-bigdata-functional-dlk-qas/analitico/GlueDatabase/functional-offline/dwh_dproducto/'\n",
    "df_dproducto = spark.read.parquet(s3_loc)\\\n",
    "                              .drop('cuc','codcategoria','codsubcategoria','codtipo','codsubtipo') \\\n",
    "                              .filter(col('codcuc') != '').cache() \\\n",
    "                              .withColumnRenamed('codcategoria_homo','codcategoria')\\\n",
    "                              .withColumnRenamed('codsubcategoria_homo', 'codsubcategoria')\\\n",
    "                              .withColumnRenamed('codtipo_homo', 'codtipo')\\\n",
    "                              .withColumnRenamed('codsubtipo_homo', 'codsubtipo')"
   ]
  },
  {
   "cell_type": "code",
   "execution_count": 4,
   "metadata": {},
   "outputs": [],
   "source": [
    "df_dproducto.write.mode('overwrite')\\\n",
    "   .parquet(\"s3://belc-bigdata-landing-dlk-qas/lan-ganamas/inter_input/df_dproducto/\")"
   ]
  },
  {
   "cell_type": "markdown",
   "metadata": {},
   "source": [
    "## Reading Dtipooferta table"
   ]
  },
  {
   "cell_type": "code",
   "execution_count": 5,
   "metadata": {},
   "outputs": [],
   "source": [
    "s3_loc1 = 's3://belc-bigdata-functional-dlk-qas/analitico/GlueDatabase/functional-offline/dwh_dtipooferta/'\n",
    "df_dtipooferta = spark.read.parquet(s3_loc1).filter(col('codpais')==COUNTRY)"
   ]
  },
  {
   "cell_type": "code",
   "execution_count": 6,
   "metadata": {},
   "outputs": [],
   "source": [
    "df_dtipooferta.write.mode('overwrite')\\\n",
    "  .parquet(\"s3://belc-bigdata-landing-dlk-qas/lan-ganamas/inter_input/df_dtipooferta/\")"
   ]
  },
  {
   "cell_type": "markdown",
   "metadata": {},
   "source": [
    "## Reading sales data"
   ]
  },
  {
   "cell_type": "code",
   "execution_count": 7,
   "metadata": {},
   "outputs": [],
   "source": [
    "s3_loc2 = 's3://belc-bigdata-functional-dlk-qas/analitico/GlueDatabase/functional-offline/dwh_fvtaproebecam/'\n",
    "df_x = spark.read.parquet(s3_loc2).filter((col('aniocampana') == col('aniocampanaref')) & (col('aniocampana') >= SALES_CAMP_FROM)\\\n",
    "                              & (col('aniocampana') <= SALES_CAMP_TO) & (col('codpais')==COUNTRY)\\\n",
    "                              ).join(df_dtipooferta.filter(col('CodTipoProfit') == '01'), ['codpais', 'codtipooferta'],'inner'\\\n",
    "                                    ).select('codebelista', 'nrofactura', 'aniocampana', 'aniocampanaref', 'codtipooferta', \\\n",
    "                                             'codpais', 'codsap')"
   ]
  },
  {
   "cell_type": "code",
   "execution_count": 8,
   "metadata": {},
   "outputs": [],
   "source": [
    "df_x.write.mode('overwrite')\\\n",
    "   .parquet(\"s3://belc-bigdata-landing-dlk-qas/lan-ganamas/inter_input/df_x/\")"
   ]
  },
  {
   "cell_type": "markdown",
   "metadata": {},
   "source": [
    "## Reading dmatrizcampana"
   ]
  },
  {
   "cell_type": "code",
   "execution_count": 9,
   "metadata": {},
   "outputs": [],
   "source": [
    "s3_loc3 = 's3://belc-bigdata-functional-dlk-qas/analitico/GlueDatabase/functional-offline/dwh_dmatrizcampana/'\n",
    "dwh_dmatrizcampana = spark.read.parquet(s3_loc3)\\\n",
    "    .filter(col('codpais') == COUNTRY)\\\n",
    "    .filter(col('aniocampana') == ANIOCAMPANA)\\\n",
    "    .filter(col('codventa') != '00000')\\\n",
    "    .join(df_dtipooferta.filter(col('CodTipoProfit') == '01').select('codtipooferta').distinct(), \n",
    "          ['codtipooferta'], 'inner')\\\n",
    "    .withColumn('codtipooferta', col('codtipooferta').cast(IntegerType()))\\\n",
    "    .filter(col('codtipooferta')>= 200)\\\n",
    "    .filter(((col('vehiculoventa')!='CATALOGO') & ((col('vehiculoventa')!='REVISTA'))) | col('vehiculoventa').isNull())\\\n",
    "    .select('codestrategia','codventa','numoferta','preciooferta','codsap',\n",
    "            'factorrepeticion', 'factorcuadre', 'codpais','aniocampana','vehiculoventa', 'codtipooferta')\\\n",
    "    .withColumn('code_numo',concat(col('codestrategia'), lit('_'), col('numoferta')))\n"
   ]
  },
  {
   "cell_type": "code",
   "execution_count": 10,
   "metadata": {},
   "outputs": [],
   "source": [
    "#dwh_dmatrizcampana2 = dwh_dmatrizcampana.where(col(\"aniocampana\").isin({ANIOCAMPANA}))#\\\n",
    "                    #    .where(col(\"codventa\").isin({\"78365\"}))\n",
    "#dwh_dmatrizcampana.show()"
   ]
  },
  {
   "cell_type": "code",
   "execution_count": 11,
   "metadata": {},
   "outputs": [
    {
     "name": "stdout",
     "output_type": "stream",
     "text": [
      "+-------------+-----------+-------------+-------------+--------+-----------------+--------------------+---------+---------+--------------+------------+--------------------+---------------+-----------+-------------+----------+---------------+--------------------+----------+------------+----------+--------------+----------------+-------------+---------+-----------------+------------------+-------------+-------------------+------------+----------------+------------+------------------+----------------+---------+--------+-------------------+------------------+-------------------+------------------+-------------+--------+----------------+----------+--------+-------+-----------+\n",
      "|codcanalventa|codcatalogo|codestrategia|codtipooferta|codventa|      descatalogo|       destipooferta|nropagina|numoferta|precionormalmn|preciooferta|preciovtapropuestomn|codtipocatalogo|desargventa|desexposicion|desladopag|destipocatalogo|desubicacioncatalogo|fotomodelo|fotoproducto|nropaginas|paginacatalogo|desobservaciones|vehiculoventa|   codsap|codtipomedioventa|demandaanormalplan|desestrategia|destipodiagramacion|factorcuadre|factorrepeticion|flagdiscover|flagestadisticable|flagproductosebe|indcuadre|indpadre|precionormaldolplan|precionormalmnplan|precioofertadolplan|precioofertamnplan|flagdigitable|nrogrupo|nropaginadigital|pt_country|flagbulk|codpais|aniocampana|\n",
      "+-------------+-----------+-------------+-------------+--------+-----------------+--------------------+---------+---------+--------------+------------+--------------------+---------------+-----------+-------------+----------+---------------+--------------------+----------+------------+----------+--------------+----------------+-------------+---------+-----------------+------------------+-------------+-------------------+------------+----------------+------------+------------------+----------------+---------+--------+-------------------+------------------+-------------------+------------------+-------------+--------+----------------+----------+--------+-------+-----------+\n",
      "|           01|         44|          001|          201|  100000|44 - WEB SHOWROOM|201 - OFERTA INDI...|        1|    29458|     700.00000|   286.90000|           349.00000|           null|       null|         null|      null|           null|                null|      null|        null|      null|          null|            null|         null|200086139|             null|              null|   Individual|               null|            |               1|        null|                 1|               0|         |        |               null|              null|               null|              null|            1|    null|            7088|        MX|    null|     MX|     202005|\n",
      "|           01|         44|          001|          205|  100001|44 - WEB SHOWROOM|205 - OFERTA VOLU...|        1|    29459|     700.00000|   272.95000|           349.00000|           null|       null|         null|      null|           null|                null|      null|        null|      null|          null|            null|         null|200086139|             null|              null|   Individual|               null|            |               2|        null|                 1|               0|         |        |               null|              null|               null|              null|            1|    null|            7090|        MX|    null|     MX|     202005|\n",
      "|           01|         44|          001|          208|  100002|44 - WEB SHOWROOM|208 - OFERTA VOLU...|        1|    29460|     700.00000|   259.30000|           349.00000|           null|       null|         null|      null|           null|                null|      null|        null|      null|          null|            null|         null|200086139|             null|              null|   Individual|               null|            |               3|        null|                 1|               0|         |        |               null|              null|               null|              null|            1|    null|            7091|        MX|    null|     MX|     202005|\n",
      "|           01|         44|          001|          208|  100003|44 - WEB SHOWROOM|208 - OFERTA VOLU...|        1|    29461|     700.00000|   188.99000|           349.00000|           null|       null|         null|      null|           null|                null|      null|        null|      null|          null|            null|         null|200086139|             null|              null|   Individual|               null|            |              10|        null|                 1|               0|         |        |               null|              null|               null|              null|            1|    null|            7094|        MX|    null|     MX|     202005|\n",
      "|           01|         44|          001|          201|  100004|44 - WEB SHOWROOM|201 - OFERTA INDI...|        1|    29462|     830.00000|   340.20000|           559.00000|           null|       null|         null|      null|           null|                null|      null|        null|      null|          null|            null|         null|200084882|             null|              null|   Individual|               null|            |               1|        null|                 1|               0|         |        |               null|              null|               null|              null|            1|    null|            7109|        MX|    null|     MX|     202005|\n",
      "|           01|         44|          001|          205|  100005|44 - WEB SHOWROOM|205 - OFERTA VOLU...|        1|    29463|     830.00000|   323.65000|           559.00000|           null|       null|         null|      null|           null|                null|      null|        null|      null|          null|            null|         null|200084882|             null|              null|   Individual|               null|            |               2|        null|                 1|               0|         |        |               null|              null|               null|              null|            1|    null|            7111|        MX|    null|     MX|     202005|\n",
      "|           01|         44|          001|          208|  100006|44 - WEB SHOWROOM|208 - OFERTA VOLU...|        1|    29464|     830.00000|   306.40000|           559.00000|           null|       null|         null|      null|           null|                null|      null|        null|      null|          null|            null|         null|200084882|             null|              null|   Individual|               null|            |               3|        null|                 1|               0|         |        |               null|              null|               null|              null|            1|    null|            7114|        MX|    null|     MX|     202005|\n",
      "|           01|         44|          001|          208|  100007|44 - WEB SHOWROOM|208 - OFERTA VOLU...|        1|    29465|     830.00000|   298.80000|           559.00000|           null|       null|         null|      null|           null|                null|      null|        null|      null|          null|            null|         null|200084882|             null|              null|   Individual|               null|            |               4|        null|                 1|               0|         |        |               null|              null|               null|              null|            1|    null|            7115|        MX|    null|     MX|     202005|\n",
      "|           01|         44|          001|          208|  100008|44 - WEB SHOWROOM|208 - OFERTA VOLU...|        1|    29466|     830.00000|   281.98000|           559.00000|           null|       null|         null|      null|           null|                null|      null|        null|      null|          null|            null|         null|200084882|             null|              null|   Individual|               null|            |               5|        null|                 1|               0|         |        |               null|              null|               null|              null|            1|    null|            7118|        MX|    null|     MX|     202005|\n",
      "|           01|         44|          001|          208|  100009|44 - WEB SHOWROOM|208 - OFERTA VOLU...|        1|    29467|     830.00000|   223.99000|           559.00000|           null|       null|         null|      null|           null|                null|      null|        null|      null|          null|            null|         null|200084882|             null|              null|   Individual|               null|            |              10|        null|                 1|               0|         |        |               null|              null|               null|              null|            1|    null|            7122|        MX|    null|     MX|     202005|\n",
      "|           01|         44|          001|          201|  100010|44 - WEB SHOWROOM|201 - OFERTA INDI...|        1|    29468|     420.00000|   173.10000|           279.90000|           null|       null|         null|      null|           null|                null|      null|        null|      null|          null|            null|         null|200090455|             null|              null|   Individual|               null|            |               1|        null|                 1|               0|         |        |               null|              null|               null|              null|            1|    null|            7123|        MX|    null|     MX|     202005|\n",
      "|           01|         44|          001|          205|  100011|44 - WEB SHOWROOM|205 - OFERTA VOLU...|        1|    29469|     420.00000|   163.75000|           279.90000|           null|       null|         null|      null|           null|                null|      null|        null|      null|          null|            null|         null|200090455|             null|              null|   Individual|               null|            |               2|        null|                 1|               0|         |        |               null|              null|               null|              null|            1|    null|            7125|        MX|    null|     MX|     202005|\n",
      "|           01|         44|          001|          208|  100012|44 - WEB SHOWROOM|208 - OFERTA VOLU...|        1|    29470|     420.00000|   155.70000|           279.90000|           null|       null|         null|      null|           null|                null|      null|        null|      null|          null|            null|         null|200090455|             null|              null|   Individual|               null|            |               3|        null|                 1|               0|         |        |               null|              null|               null|              null|            1|    null|            7128|        MX|    null|     MX|     202005|\n",
      "|           01|         44|          001|          208|  100013|44 - WEB SHOWROOM|208 - OFERTA VOLU...|        1|    29471|     420.00000|   151.20000|           279.90000|           null|       null|         null|      null|           null|                null|      null|        null|      null|          null|            null|         null|200090455|             null|              null|   Individual|               null|            |               4|        null|                 1|               0|         |        |               null|              null|               null|              null|            1|    null|            7129|        MX|    null|     MX|     202005|\n",
      "|           01|         44|          001|          208|  100014|44 - WEB SHOWROOM|208 - OFERTA VOLU...|        1|    29472|     420.00000|   142.78000|           279.90000|           null|       null|         null|      null|           null|                null|      null|        null|      null|          null|            null|         null|200090455|             null|              null|   Individual|               null|            |               5|        null|                 1|               0|         |        |               null|              null|               null|              null|            1|    null|            7131|        MX|    null|     MX|     202005|\n",
      "|           01|         44|          001|          208|  100015|44 - WEB SHOWROOM|208 - OFERTA VOLU...|        1|    29473|     420.00000|   138.75000|           279.90000|           null|       null|         null|      null|           null|                null|      null|        null|      null|          null|            null|         null|200090455|             null|              null|   Individual|               null|            |               6|        null|                 1|               0|         |        |               null|              null|               null|              null|            1|    null|            7134|        MX|    null|     MX|     202005|\n",
      "|           01|         44|          001|          208|  100016|44 - WEB SHOWROOM|208 - OFERTA VOLU...|        1|    29474|     420.00000|   129.90000|           279.90000|           null|       null|         null|      null|           null|                null|      null|        null|      null|          null|            null|         null|200090455|             null|              null|   Individual|               null|            |               7|        null|                 1|               0|         |        |               null|              null|               null|              null|            1|    null|            7135|        MX|    null|     MX|     202005|\n",
      "|           01|         44|          001|          208|  100017|44 - WEB SHOWROOM|208 - OFERTA VOLU...|        1|    29475|     420.00000|   130.20000|           279.90000|           null|       null|         null|      null|           null|                null|      null|        null|      null|          null|            null|         null|200090455|             null|              null|   Individual|               null|            |               8|        null|                 1|               0|         |        |               null|              null|               null|              null|            1|    null|            7138|        MX|    null|     MX|     202005|\n",
      "|           01|         44|          001|          201|  100018|44 - WEB SHOWROOM|201 - OFERTA INDI...|        1|    29476|     480.00000|   196.70000|           209.90000|           null|       null|         null|      null|           null|                null|      null|        null|      null|          null|            null|         null|200088132|             null|              null|   Individual|               null|            |               1|        null|                 1|               0|         |        |               null|              null|               null|              null|            1|    null|            7140|        MX|    null|     MX|     202005|\n",
      "|           01|         44|          001|          208|  100019|44 - WEB SHOWROOM|208 - OFERTA VOLU...|        1|    29477|     480.00000|   177.90000|           209.90000|           null|       null|         null|      null|           null|                null|      null|        null|      null|          null|            null|         null|200088132|             null|              null|   Individual|               null|            |               3|        null|                 1|               0|         |        |               null|              null|               null|              null|            1|    null|            7144|        MX|    null|     MX|     202005|\n",
      "|           01|         44|          001|          201|  100020|44 - WEB SHOWROOM|201 - OFERTA INDI...|        1|    29478|     450.00000|   184.40000|           309.00000|           null|       null|         null|      null|           null|                null|      null|        null|      null|          null|            null|         null|200069680|             null|              null|   Individual|               null|            |               1|        null|                 1|               0|         |        |               null|              null|               null|              null|            1|    null|            7145|        MX|    null|     MX|     202005|\n",
      "|           01|         44|          001|          205|  100021|44 - WEB SHOWROOM|205 - OFERTA VOLU...|        1|    29479|     450.00000|   174.95000|           309.00000|           null|       null|         null|      null|           null|                null|      null|        null|      null|          null|            null|         null|200069680|             null|              null|   Individual|               null|            |               2|        null|                 1|               0|         |        |               null|              null|               null|              null|            1|    null|            7147|        MX|    null|     MX|     202005|\n",
      "|           01|         44|          001|          208|  100022|44 - WEB SHOWROOM|208 - OFERTA VOLU...|        1|    29480|     450.00000|   165.80000|           309.00000|           null|       null|         null|      null|           null|                null|      null|        null|      null|          null|            null|         null|200069680|             null|              null|   Individual|               null|            |               3|        null|                 1|               0|         |        |               null|              null|               null|              null|            1|    null|            7150|        MX|    null|     MX|     202005|\n",
      "|           01|         44|          001|          208|  100023|44 - WEB SHOWROOM|208 - OFERTA VOLU...|        1|    29481|     450.00000|   161.25000|           309.00000|           null|       null|         null|      null|           null|                null|      null|        null|      null|          null|            null|         null|200069680|             null|              null|   Individual|               null|            |               4|        null|                 1|               0|         |        |               null|              null|               null|              null|            1|    null|            7151|        MX|    null|     MX|     202005|\n",
      "|           01|         44|          001|          208|  100024|44 - WEB SHOWROOM|208 - OFERTA VOLU...|        1|    29482|     450.00000|   153.00000|           309.00000|           null|       null|         null|      null|           null|                null|      null|        null|      null|          null|            null|         null|200069680|             null|              null|   Individual|               null|            |               5|        null|                 1|               0|         |        |               null|              null|               null|              null|            1|    null|            7154|        MX|    null|     MX|     202005|\n",
      "|           01|         44|          001|          208|  100025|44 - WEB SHOWROOM|208 - OFERTA VOLU...|        1|    29483|     450.00000|   148.15000|           309.00000|           null|       null|         null|      null|           null|                null|      null|        null|      null|          null|            null|         null|200069680|             null|              null|   Individual|               null|            |               6|        null|                 1|               0|         |        |               null|              null|               null|              null|            1|    null|            7156|        MX|    null|     MX|     202005|\n",
      "|           01|         44|          001|          208|  100026|44 - WEB SHOWROOM|208 - OFERTA VOLU...|        1|    29484|     450.00000|   121.50000|           309.00000|           null|       null|         null|      null|           null|                null|      null|        null|      null|          null|            null|         null|200069680|             null|              null|   Individual|               null|            |              10|        null|                 1|               0|         |        |               null|              null|               null|              null|            1|    null|            7157|        MX|    null|     MX|     202005|\n",
      "|           01|         44|          001|          201|  100027|44 - WEB SHOWROOM|201 - OFERTA INDI...|        1|    29485|     370.00000|   152.60000|           259.90000|           null|       null|         null|      null|           null|                null|      null|        null|      null|          null|            null|         null|200039855|             null|              null|   Individual|               null|            |               1|        null|                 1|               0|         |        |               null|              null|               null|              null|            1|    null|            7158|        MX|    null|     MX|     202005|\n",
      "|           01|         44|          001|          205|  100028|44 - WEB SHOWROOM|205 - OFERTA VOLU...|        1|    29486|     370.00000|   144.25000|           259.90000|           null|       null|         null|      null|           null|                null|      null|        null|      null|          null|            null|         null|200039855|             null|              null|   Individual|               null|            |               2|        null|                 1|               0|         |        |               null|              null|               null|              null|            1|    null|            7161|        MX|    null|     MX|     202005|\n",
      "|           01|         44|          001|          208|  100029|44 - WEB SHOWROOM|208 - OFERTA VOLU...|        1|    29487|     370.00000|   136.20000|           259.90000|           null|       null|         null|      null|           null|                null|      null|        null|      null|          null|            null|         null|200039855|             null|              null|   Individual|               null|            |               3|        null|                 1|               0|         |        |               null|              null|               null|              null|            1|    null|            7163|        MX|    null|     MX|     202005|\n",
      "|           01|         44|          001|          208|  100030|44 - WEB SHOWROOM|208 - OFERTA VOLU...|        1|    29488|     370.00000|   133.70000|           259.90000|           null|       null|         null|      null|           null|                null|      null|        null|      null|          null|            null|         null|200039855|             null|              null|   Individual|               null|            |               4|        null|                 1|               0|         |        |               null|              null|               null|              null|            1|    null|            7164|        MX|    null|     MX|     202005|\n",
      "|           01|         44|          001|          208|  100031|44 - WEB SHOWROOM|208 - OFERTA VOLU...|        1|    29489|     370.00000|   125.78000|           259.90000|           null|       null|         null|      null|           null|                null|      null|        null|      null|          null|            null|         null|200039855|             null|              null|   Individual|               null|            |               5|        null|                 1|               0|         |        |               null|              null|               null|              null|            1|    null|            7167|        MX|    null|     MX|     202005|\n",
      "|           01|         44|          001|          208|  100032|44 - WEB SHOWROOM|208 - OFERTA VOLU...|        1|    29490|     370.00000|   122.25000|           259.90000|           null|       null|         null|      null|           null|                null|      null|        null|      null|          null|            null|         null|200039855|             null|              null|   Individual|               null|            |               6|        null|                 1|               0|         |        |               null|              null|               null|              null|            1|    null|            7168|        MX|    null|     MX|     202005|\n",
      "|           01|         44|          001|          208|  100033|44 - WEB SHOWROOM|208 - OFERTA VOLU...|        1|    29491|     370.00000|   115.40000|           259.90000|           null|       null|         null|      null|           null|                null|      null|        null|      null|          null|            null|         null|200039855|             null|              null|   Individual|               null|            |               7|        null|                 1|               0|         |        |               null|              null|               null|              null|            1|    null|            7170|        MX|    null|     MX|     202005|\n",
      "|           01|         44|          001|          208|  100034|44 - WEB SHOWROOM|208 - OFERTA VOLU...|        1|    29492|     370.00000|   114.70000|           259.90000|           null|       null|         null|      null|           null|                null|      null|        null|      null|          null|            null|         null|200039855|             null|              null|   Individual|               null|            |               8|        null|                 1|               0|         |        |               null|              null|               null|              null|            1|    null|            7172|        MX|    null|     MX|     202005|\n",
      "|           01|         44|          001|          208|  100035|44 - WEB SHOWROOM|208 - OFERTA VOLU...|        1|    29493|     370.00000|   107.40000|           259.90000|           null|       null|         null|      null|           null|                null|      null|        null|      null|          null|            null|         null|200039855|             null|              null|   Individual|               null|            |               9|        null|                 1|               0|         |        |               null|              null|               null|              null|            1|    null|            7174|        MX|    null|     MX|     202005|\n",
      "|           01|         44|          001|          208|  100036|44 - WEB SHOWROOM|208 - OFERTA VOLU...|        1|    29494|     370.00000|    99.89000|           259.90000|           null|       null|         null|      null|           null|                null|      null|        null|      null|          null|            null|         null|200039855|             null|              null|   Individual|               null|            |              10|        null|                 1|               0|         |        |               null|              null|               null|              null|            1|    null|            7175|        MX|    null|     MX|     202005|\n",
      "|           01|         44|          001|          201|  100037|44 - WEB SHOWROOM|201 - OFERTA INDI...|        1|    29495|     370.00000|   152.60000|           179.90000|           null|       null|         null|      null|           null|                null|      null|        null|      null|          null|            null|         null|200069856|             null|              null|   Individual|               null|            |               1|        null|                 1|               0|         |        |               null|              null|               null|              null|            1|    null|            7194|        MX|    null|     MX|     202005|\n",
      "|           01|         44|          001|          205|  100038|44 - WEB SHOWROOM|205 - OFERTA VOLU...|        1|    29496|     370.00000|   144.25000|           179.90000|           null|       null|         null|      null|           null|                null|      null|        null|      null|          null|            null|         null|200069856|             null|              null|   Individual|               null|            |               2|        null|                 1|               0|         |        |               null|              null|               null|              null|            1|    null|            7196|        MX|    null|     MX|     202005|\n",
      "|           01|         44|          001|          208|  100039|44 - WEB SHOWROOM|208 - OFERTA VOLU...|        1|    29497|     370.00000|   136.20000|           179.90000|           null|       null|         null|      null|           null|                null|      null|        null|      null|          null|            null|         null|200069856|             null|              null|   Individual|               null|            |               3|        null|                 1|               0|         |        |               null|              null|               null|              null|            1|    null|            7199|        MX|    null|     MX|     202005|\n",
      "|           01|         44|          001|          208|  100040|44 - WEB SHOWROOM|208 - OFERTA VOLU...|        1|    29498|     370.00000|   133.70000|           179.90000|           null|       null|         null|      null|           null|                null|      null|        null|      null|          null|            null|         null|200069856|             null|              null|   Individual|               null|            |               4|        null|                 1|               0|         |        |               null|              null|               null|              null|            1|    null|            7200|        MX|    null|     MX|     202005|\n",
      "|           01|         44|          001|          208|  100041|44 - WEB SHOWROOM|208 - OFERTA VOLU...|        1|    29499|     370.00000|   125.78000|           179.90000|           null|       null|         null|      null|           null|                null|      null|        null|      null|          null|            null|         null|200069856|             null|              null|   Individual|               null|            |               5|        null|                 1|               0|         |        |               null|              null|               null|              null|            1|    null|            7203|        MX|    null|     MX|     202005|\n",
      "|           01|         44|          001|          208|  100042|44 - WEB SHOWROOM|208 - OFERTA VOLU...|        1|    29500|     370.00000|   115.40000|           179.90000|           null|       null|         null|      null|           null|                null|      null|        null|      null|          null|            null|         null|200069856|             null|              null|   Individual|               null|            |               7|        null|                 1|               0|         |        |               null|              null|               null|              null|            1|    null|            7205|        MX|    null|     MX|     202005|\n",
      "|           01|         44|          001|          208|  100043|44 - WEB SHOWROOM|208 - OFERTA VOLU...|        1|    29501|     370.00000|   114.70000|           179.90000|           null|       null|         null|      null|           null|                null|      null|        null|      null|          null|            null|         null|200069856|             null|              null|   Individual|               null|            |               8|        null|                 1|               0|         |        |               null|              null|               null|              null|            1|    null|            7206|        MX|    null|     MX|     202005|\n",
      "|           01|         44|          001|          208|  100044|44 - WEB SHOWROOM|208 - OFERTA VOLU...|        1|    29502|     370.00000|    99.89000|           179.90000|           null|       null|         null|      null|           null|                null|      null|        null|      null|          null|            null|         null|200069856|             null|              null|   Individual|               null|            |              10|        null|                 1|               0|         |        |               null|              null|               null|              null|            1|    null|            7207|        MX|    null|     MX|     202005|\n",
      "|           01|         44|          001|          201|  100045|44 - WEB SHOWROOM|201 - OFERTA INDI...|        1|    29503|     840.00000|   344.30000|           584.00000|           null|       null|         null|      null|           null|                null|      null|        null|      null|          null|            null|         null|200084638|             null|              null|   Individual|               null|            |               1|        null|                 1|               0|         |        |               null|              null|               null|              null|            1|    null|            7208|        MX|    null|     MX|     202005|\n",
      "|           01|         44|          001|          205|  100046|44 - WEB SHOWROOM|205 - OFERTA VOLU...|        1|    29504|     840.00000|   327.60000|           584.00000|           null|       null|         null|      null|           null|                null|      null|        null|      null|          null|            null|         null|200084638|             null|              null|   Individual|               null|            |               2|        null|                 1|               0|         |        |               null|              null|               null|              null|            1|    null|            7210|        MX|    null|     MX|     202005|\n",
      "|           01|         44|          001|          208|  100047|44 - WEB SHOWROOM|208 - OFERTA VOLU...|        1|    29505|     840.00000|   311.10000|           584.00000|           null|       null|         null|      null|           null|                null|      null|        null|      null|          null|            null|         null|200084638|             null|              null|   Individual|               null|            |               3|        null|                 1|               0|         |        |               null|              null|               null|              null|            1|    null|            7212|        MX|    null|     MX|     202005|\n",
      "|           01|         44|          001|          208|  100048|44 - WEB SHOWROOM|208 - OFERTA VOLU...|        1|    29506|     840.00000|   301.15000|           584.00000|           null|       null|         null|      null|           null|                null|      null|        null|      null|          null|            null|         null|200084638|             null|              null|   Individual|               null|            |               4|        null|                 1|               0|         |        |               null|              null|               null|              null|            1|    null|            7214|        MX|    null|     MX|     202005|\n",
      "|           01|         44|          001|          208|  100049|44 - WEB SHOWROOM|208 - OFERTA VOLU...|        1|    29507|     840.00000|   285.58000|           584.00000|           null|       null|         null|      null|           null|                null|      null|        null|      null|          null|            null|         null|200084638|             null|              null|   Individual|               null|            |               5|        null|                 1|               0|         |        |               null|              null|               null|              null|            1|    null|            7216|        MX|    null|     MX|     202005|\n",
      "+-------------+-----------+-------------+-------------+--------+-----------------+--------------------+---------+---------+--------------+------------+--------------------+---------------+-----------+-------------+----------+---------------+--------------------+----------+------------+----------+--------------+----------------+-------------+---------+-----------------+------------------+-------------+-------------------+------------+----------------+------------+------------------+----------------+---------+--------+-------------------+------------------+-------------------+------------------+-------------+--------+----------------+----------+--------+-------+-----------+\n",
      "only showing top 50 rows"
     ]
    }
   ],
   "source": [
    "dwh_dmatrizcampana8 = spark.read.parquet(s3_loc3)\\\n",
    "   .filter(col('codpais') == COUNTRY)\\\n",
    " .filter(col('codventa') != '00000')\\\n",
    "  .filter(col('aniocampana') == ANIOCAMPANA)\\\n",
    " .filter(col('codtipooferta')>= 200)\n",
    "dwh_dmatrizcampana8.show(50)"
   ]
  },
  {
   "cell_type": "code",
   "execution_count": 12,
   "metadata": {},
   "outputs": [],
   "source": [
    "#dwh_dmatrizcampana3 = spark.read.parquet(s3_loc3)\n",
    "#dwh_dmatrizcampana3 = dwh_dmatrizcampana3.where(col(\"aniocampana\").isin({ANIOCAMPANA}))\\\n",
    "                 #       .where(col(\"codventa\").isin({\"83799\"}))\n",
    "#dwh_dmatrizcampana3.show()"
   ]
  },
  {
   "cell_type": "code",
   "execution_count": 13,
   "metadata": {},
   "outputs": [],
   "source": [
    "dwh_dmatrizcampana.write.mode('overwrite')\\\n",
    ".parquet(\"s3://belc-bigdata-landing-dlk-qas/lan-ganamas/inter_input/dwh_dmatrizcampana/\")"
   ]
  },
  {
   "cell_type": "markdown",
   "metadata": {},
   "source": [
    "## Reading Offer details"
   ]
  },
  {
   "cell_type": "code",
   "execution_count": 14,
   "metadata": {},
   "outputs": [],
   "source": [
    "offers_file = spark.read.parquet('s3://belc-bigdata-landing-dlk-qas/lan-ganamas/input/offer/country=MX/campaign=202005///')\\\n",
    "                .dropDuplicates()\\\n",
    "                .orderBy(col('Padre_Product_flag').desc())\\\n",
    "                .groupBy(['offer_id', 'cuc', 'palanca', 'units', 'offer_price_per_unit'])\\\n",
    "                .agg(first(col('Padre_Product_flag'),ignorenulls=True).alias('padre_flag'))\\\n",
    "                .withColumn('offer_id', col('offer_id').cast('string'))\\\n",
    "                .withColumnRenamed('offer_id','CUV')\n",
    "\n",
    "#cambio de tipo de dato"
   ]
  },
  {
   "cell_type": "markdown",
   "metadata": {},
   "source": [
    "## Reading Offer x Consultant "
   ]
  },
  {
   "cell_type": "code",
   "execution_count": 15,
   "metadata": {},
   "outputs": [],
   "source": [
    "cns_offer_file = spark.read.parquet('s3://belc-bigdata-landing-dlk-qas/lan-ganamas/input/cons/country=MX/campaign=202005//')\\\n",
    "                .withColumn('codigoconsultora', col('codigoconsultora').cast('string'))\\\n",
    "                .withColumnRenamed('codigoconsultora', 'codebelista')\\\n",
    "                .withColumn('CUV', col('CUV').cast('string'))\\\n",
    "                .dropDuplicates()\\\n",
    "                .drop('country','campaniaid')\n",
    "###Implement this filter in daily_run script on offer_level_data table.\n",
    "# \\\n",
    "#                 .join(cart_cns, ['codebelista'], 'inner')\n",
    "\n",
    "\n",
    "\n",
    "cns_offer_detail = cns_offer_file.join(offers_file, ['CUV', 'palanca'], 'inner')\n",
    "\n",
    "cns_offer_data = cns_offer_detail.withColumnRenamed('CUV', 'codventa')\\\n",
    "                            .withColumnRenamed('cuc', 'codcuc')\\\n",
    "                            .withColumnRenamed('offer_price_per_unit', 'preciooferta')\\\n",
    "                            .withColumnRenamed('units', 'factorrepeticion')\\\n",
    "                            .select('codebelista', 'codventa', 'codcuc', \n",
    "                                    'preciooferta', 'factorrepeticion', 'padre_flag')\n",
    "\n",
    "\n",
    "target_data_rhs = cns_offer_data.withColumn('cuc_tot_price', col('factorrepeticion') * (col('preciooferta')))\\\n",
    "                    .drop('factorrepeticion', 'preciooferta')"
   ]
  },
  {
   "cell_type": "code",
   "execution_count": 16,
   "metadata": {},
   "outputs": [
    {
     "name": "stdout",
     "output_type": "stream",
     "text": [
      "+------+-------+-----------+-----------+-----+--------------------+----------+\n",
      "|   CUV|palanca|codebelista|        cuc|units|offer_price_per_unit|padre_flag|\n",
      "+------+-------+-----------+-----------+-----+--------------------+----------+\n",
      "|312617|    OPT|    1955163|P0197089001|    1|                  62|         1|\n",
      "|264421|    OPT|    1965468|  200083139|    3|                 306|         1|\n",
      "|100949|     SR|    2045005|  200096670|    1|                 130|         1|\n",
      "|264180|    OPT|    1955313|  200058729|    1|                 184|         1|\n",
      "|100452|     SR|    0183013|  200083596|    2|                 231|         1|\n",
      "+------+-------+-----------+-----------+-----+--------------------+----------+\n",
      "only showing top 5 rows"
     ]
    }
   ],
   "source": [
    "cns_offer_detail.show(5)"
   ]
  },
  {
   "cell_type": "code",
   "execution_count": 17,
   "metadata": {},
   "outputs": [
    {
     "name": "stdout",
     "output_type": "stream",
     "text": [
      "+------+-----------+-------+-----+--------------------+----------+\n",
      "|   CUV|        cuc|palanca|units|offer_price_per_unit|padre_flag|\n",
      "+------+-----------+-------+-----+--------------------+----------+\n",
      "|100000|  200004616|     SR|    1|                 286|         1|\n",
      "|100112|  200052058|     SR|    1|                 106|         1|\n",
      "|100213|  200060404|     SR|    4|                 178|         1|\n",
      "|100286|  200069897|     SR|    5|                  68|         1|\n",
      "|100297|  200070075|     SR|    7|                  50|         1|\n",
      "|100314|  200074678|     SR|    2|                  66|         1|\n",
      "|100509|  200087327|     SR|    3|                  51|         1|\n",
      "|100812|  200094901|     SR|   10|                  75|         1|\n",
      "|100986|  200097895|     SR|    4|                  31|         1|\n",
      "|101244|  200054026|     SR|    3|                  35|         0|\n",
      "|101342|  200051086|     SR|    3|                  84|         0|\n",
      "|101778|P0197089001|     SR|    1|                  61|         0|\n",
      "|102880|P0280083009|     SR|    2|                  99|         0|\n",
      "|103508|P0292139009|     SR|    2|                  61|         0|\n",
      "|103711|  200061181|     SR|    3|                  51|         0|\n",
      "|108038|P0292139009|     SR|    5|                  61|         0|\n",
      "|108728|  200051249|     SR|    4|                 198|         1|\n",
      "|108837|  200011773|     SR|    4|                 128|         0|\n",
      "|108879|  200011773|     SR|    3|                 122|         0|\n",
      "|110086|  200051249|     SR|    4|                 204|         1|\n",
      "+------+-----------+-------+-----+--------------------+----------+\n",
      "only showing top 20 rows"
     ]
    }
   ],
   "source": [
    "offers_file.show()"
   ]
  },
  {
   "cell_type": "code",
   "execution_count": 18,
   "metadata": {},
   "outputs": [
    {
     "name": "stderr",
     "output_type": "stream",
     "text": [
      "EOL while scanning string literal (<stdin>, line 2)\n",
      "  File \"<stdin>\", line 2\n",
      "    .filter(col('palanca') == 'OPT)\n",
      "                                  ^\n",
      "SyntaxError: EOL while scanning string literal\n",
      "\n"
     ]
    }
   ],
   "source": [
    "cns_offer_file\\\n",
    "   .filter(col('palanca') == 'OPT)"
   ]
  },
  {
   "cell_type": "code",
   "execution_count": 19,
   "metadata": {},
   "outputs": [
    {
     "name": "stdout",
     "output_type": "stream",
     "text": [
      "+------+-----------+-------+-----+--------------------+----------+\n",
      "|   CUV|        cuc|palanca|units|offer_price_per_unit|padre_flag|\n",
      "+------+-----------+-------+-----+--------------------+----------+\n",
      "|100000|  200004616|     SR|    1|                 286|         1|\n",
      "|100112|  200052058|     SR|    1|                 106|         1|\n",
      "|100213|  200060404|     SR|    4|                 178|         1|\n",
      "|100286|  200069897|     SR|    5|                  68|         1|\n",
      "|100297|  200070075|     SR|    7|                  50|         1|\n",
      "|100314|  200074678|     SR|    2|                  66|         1|\n",
      "|100509|  200087327|     SR|    3|                  51|         1|\n",
      "|100812|  200094901|     SR|   10|                  75|         1|\n",
      "|100986|  200097895|     SR|    4|                  31|         1|\n",
      "|101244|  200054026|     SR|    3|                  35|         0|\n",
      "|101342|  200051086|     SR|    3|                  84|         0|\n",
      "|101778|P0197089001|     SR|    1|                  61|         0|\n",
      "|102880|P0280083009|     SR|    2|                  99|         0|\n",
      "|103508|P0292139009|     SR|    2|                  61|         0|\n",
      "|103711|  200061181|     SR|    3|                  51|         0|\n",
      "|108038|P0292139009|     SR|    5|                  61|         0|\n",
      "|108728|  200051249|     SR|    4|                 198|         1|\n",
      "|108837|  200011773|     SR|    4|                 128|         0|\n",
      "|108879|  200011773|     SR|    3|                 122|         0|\n",
      "|110086|  200051249|     SR|    4|                 204|         1|\n",
      "+------+-----------+-------+-----+--------------------+----------+\n",
      "only showing top 20 rows"
     ]
    }
   ],
   "source": [
    "offers_file2 = offers_file\\\n",
    "   .filter(col('palanca') == 'SR')\n",
    "offers_file2.show()\n"
   ]
  },
  {
   "cell_type": "code",
   "execution_count": 20,
   "metadata": {},
   "outputs": [
    {
     "name": "stdout",
     "output_type": "stream",
     "text": [
      "+-------+-----------+------+\n",
      "|palanca|codebelista|   CUV|\n",
      "+-------+-----------+------+\n",
      "|    OPT|    1354137|264505|\n",
      "|    OPT|    1363043|264944|\n",
      "|    OPT|    1410227|264223|\n",
      "|    OPT|    1412017|312341|\n",
      "|    OPT|    1500763|312149|\n",
      "|    OPT|    1424997|312758|\n",
      "|    OPT|    1615955|311921|\n",
      "|    OPT|    1500763|313181|\n",
      "|    OPT|    1720763|264523|\n",
      "|    OPT|    1748459|264699|\n",
      "|    OPT|    1748459|264906|\n",
      "|    OPT|    1758723|318538|\n",
      "|    OPT|    1759831|264131|\n",
      "|    OPT|    1801448|313355|\n",
      "|    OPT|    1801448|314792|\n",
      "|    OPT|    1761786|264454|\n",
      "|    OPT|    1801448|316883|\n",
      "|    OPT|    1807804|264512|\n",
      "|    OPT|    1807441|264320|\n",
      "|    OPT|    1826536|311881|\n",
      "+-------+-----------+------+\n",
      "only showing top 20 rows"
     ]
    }
   ],
   "source": [
    "cns_offer_file_valid= cns_offer_file.where(col(\"palanca\").isin({\"OPT\"}))\n",
    "cns_offer_file_valid.show()"
   ]
  },
  {
   "cell_type": "code",
   "execution_count": 21,
   "metadata": {
    "scrolled": true
   },
   "outputs": [
    {
     "name": "stdout",
     "output_type": "stream",
     "text": [
      "+-------+-----------+---+\n",
      "|palanca|codebelista|CUV|\n",
      "+-------+-----------+---+\n",
      "+-------+-----------+---+"
     ]
    }
   ],
   "source": [
    "#cns_offer_file.show(5)\n",
    "cns_offer_file_valid= cns_offer_file.where(col(\"palanca\").isin({\"OPM\"}))\n",
    "cns_offer_file_valid.show()"
   ]
  },
  {
   "cell_type": "code",
   "execution_count": 22,
   "metadata": {},
   "outputs": [
    {
     "name": "stdout",
     "output_type": "stream",
     "text": [
      "+------+-----------+-------+-----+--------------------+----------+\n",
      "|   CUV|        cuc|palanca|units|offer_price_per_unit|padre_flag|\n",
      "+------+-----------+-------+-----+--------------------+----------+\n",
      "|100000|  200004616|     SR|    1|                 286|         1|\n",
      "|100112|  200052058|     SR|    1|                 106|         1|\n",
      "|100213|  200060404|     SR|    4|                 178|         1|\n",
      "|100286|  200069897|     SR|    5|                  68|         1|\n",
      "|100297|  200070075|     SR|    7|                  50|         1|\n",
      "|100314|  200074678|     SR|    2|                  66|         1|\n",
      "|100509|  200087327|     SR|    3|                  51|         1|\n",
      "|100812|  200094901|     SR|   10|                  75|         1|\n",
      "|100986|  200097895|     SR|    4|                  31|         1|\n",
      "|101244|  200054026|     SR|    3|                  35|         0|\n",
      "|101342|  200051086|     SR|    3|                  84|         0|\n",
      "|101778|P0197089001|     SR|    1|                  61|         0|\n",
      "|102880|P0280083009|     SR|    2|                  99|         0|\n",
      "|103508|P0292139009|     SR|    2|                  61|         0|\n",
      "|103711|  200061181|     SR|    3|                  51|         0|\n",
      "|108038|P0292139009|     SR|    5|                  61|         0|\n",
      "|108728|  200051249|     SR|    4|                 198|         1|\n",
      "|108837|  200011773|     SR|    4|                 128|         0|\n",
      "|108879|  200011773|     SR|    3|                 122|         0|\n",
      "|110086|  200051249|     SR|    4|                 204|         1|\n",
      "+------+-----------+-------+-----+--------------------+----------+\n",
      "only showing top 20 rows"
     ]
    }
   ],
   "source": [
    "#offers_file.show()\n",
    "offers_file_valid= offers_file.where(col(\"palanca\").isin({\"SR\"}))\n",
    "offers_file_valid.show()"
   ]
  },
  {
   "cell_type": "code",
   "execution_count": 23,
   "metadata": {},
   "outputs": [],
   "source": [
    "target_data_rhs.write.mode('overwrite')\\\n",
    "    .parquet(\"s3://belc-bigdata-landing-dlk-qas/lan-ganamas/inter_input/target_data_rhs/\")"
   ]
  },
  {
   "cell_type": "code",
   "execution_count": 24,
   "metadata": {},
   "outputs": [
    {
     "name": "stdout",
     "output_type": "stream",
     "text": [
      "+-------+-----------+------+\n",
      "|palanca|codebelista|   CUV|\n",
      "+-------+-----------+------+\n",
      "|    OPT|    1354137|264505|\n",
      "|    OPT|    1363043|264944|\n",
      "|    OPT|    1410227|264223|\n",
      "|    OPT|    1412017|312341|\n",
      "|    OPT|    1500763|312149|\n",
      "|    OPT|    1424997|312758|\n",
      "|    OPT|    1615955|311921|\n",
      "|    OPT|    1500763|313181|\n",
      "|    OPT|    1720763|264523|\n",
      "|    OPT|    1748459|264699|\n",
      "|    OPT|    1748459|264906|\n",
      "|    OPT|    1758723|318538|\n",
      "|    OPT|    1759831|264131|\n",
      "|    OPT|    1801448|313355|\n",
      "|    OPT|    1801448|314792|\n",
      "|    OPT|    1761786|264454|\n",
      "|    OPT|    1801448|316883|\n",
      "|    OPT|    1807804|264512|\n",
      "|    OPT|    1807441|264320|\n",
      "|    OPT|    1826536|311881|\n",
      "+-------+-----------+------+\n",
      "only showing top 20 rows"
     ]
    }
   ],
   "source": [
    "cns_offer_file2 = cns_offer_file\\\n",
    "   .filter(col('palanca') == 'OPT')\n",
    "cns_offer_file2.show()\n"
   ]
  },
  {
   "cell_type": "markdown",
   "metadata": {},
   "source": [
    "## Calculating the offer_price for cns_offer_file (RHS)"
   ]
  },
  {
   "cell_type": "code",
   "execution_count": 25,
   "metadata": {},
   "outputs": [],
   "source": [
    "cns_offer_cuc_data = target_data_rhs.join(df_dproducto,['codcuc'],'left')\\\n",
    "                                        .select('codebelista',\n",
    "                                               'codventa','codcuc','desmarca','dessubtipo', 'padre_flag', 'cuc_tot_price')\\\n",
    "                                        .dropDuplicates()\\\n",
    "                                        .withColumn('brand_description',concat(col('desmarca'), lit(' '), col('dessubtipo')))\\\n",
    "                                        .drop('desmarca','dessubtipo')\\\n",
    "                                        .groupBy(['codebelista', 'codventa', 'codcuc'])\\\n",
    "                                        .agg(first(col('padre_flag')).alias('padre_flag'), \n",
    "                                             first(col('cuc_tot_price')).alias('cuc_tot_price'),\n",
    "                                             concat_ws(' ', collect_list(col('brand_description'))).alias('brand_description')\n",
    "                                            )\n",
    "\n",
    "### calculating offer price and creating the text column \n",
    "\n",
    "\n",
    "###Below line of code can be implemented in daily run script, instead of saving this file also.\n",
    "##Read from cns_offer_cuc_data file and then create offer_level_data.\n",
    "# offer_level_data = cns_offer_cuc_data.withColumn('padre_cuc',when(col('padre_flag')==1,col('codcuc')))\\\n",
    "#                                .groupBy(['codventa','codebelista'])\\\n",
    "#                                .agg(sum(col('cuc_tot_price')).alias('offer_price'),\n",
    "#                                     concat_ws(' ', collect_list(col('brand_description'))).alias('text'),\n",
    "#                                     first(col('padre_cuc'),ignorenulls=True).alias('padre_cuc')) \\\n",
    "#                                .withColumn(\"text\", split(col('text'), ' '))"
   ]
  },
  {
   "cell_type": "code",
   "execution_count": 26,
   "metadata": {},
   "outputs": [],
   "source": [
    "###NOTE: when you read these two files file in daily script, \n",
    "##remember to filter out only those cns whose data is present in cart\n",
    "##.join(cart_cns, ['codebelista'], 'inner')\n",
    "cns_offer_cuc_data.write.mode('overwrite')\\\n",
    ".parquet(\"s3://belc-bigdata-landing-dlk-qas/lan-ganamas/inter_input/cns_offer_cuc_data/\")\n",
    "\n",
    "# offer_level_data.write.mode('overwrite').parquet(\"s3://belc-bigdata-landing-dlk-qas/lan-ganamas/offer_level_data/\")"
   ]
  },
  {
   "cell_type": "markdown",
   "metadata": {},
   "source": [
    "## Cross Sell Calculation"
   ]
  },
  {
   "cell_type": "code",
   "execution_count": 27,
   "metadata": {},
   "outputs": [],
   "source": [
    "def calculate_support_and_lift(df):\n",
    "    min_support = 0.001\n",
    "    min_confidence = 0\n",
    "    min_lift = 1.05\n",
    "    #if(info[country]=='PE' or info[country]=='CO' ):\n",
    "        #min_support = 0.01\n",
    "    fpg = FPGrowth(itemsCol='items', minSupport=min_support, minConfidence=min_confidence)\n",
    "    model = fpg.fit(df)\n",
    "    # creating one side mapping of frequency.\n",
    "    freq_itemsets = model.freqItemsets\n",
    "    df_tuple = freq_itemsets.filter(size(col('items')) == 2)\n",
    "    df_base = df_tuple.withColumn('x',col('items')[0]).withColumn('y',col('items')[1]).drop('items') \\\n",
    "                      .withColumnRenamed('freq', 'freq_xy')\n",
    "    df_individual = freq_itemsets.filter(size(col('items')) == 1).withColumn('items',col('items')[0])\n",
    "    # support = # T(c1 & c2) /Total\n",
    "    # lift = (# T(c1 & c2) * total) /(T(c2)*T(c1))\n",
    "    # Removing multiplication or division of total as normalization step is already present.\n",
    "    df_con_lift_support = df_base.join(df_individual.withColumnRenamed('freq', 'freq_x').withColumnRenamed('items','x'),['x'],'left') \\\n",
    "                           .join(df_individual.withColumnRenamed('freq', 'freq_y').withColumnRenamed('items','y'),['y'],'left') \\\n",
    "                           .withColumn('support', col('freq_xy')) \\\n",
    "                           .withColumn('lift', col('freq_xy')/(col('freq_x'))/(col('freq_y')))\n",
    "    min_max = df_con_lift_support.agg(min(col('support')).alias('min_support'),\n",
    "                                      max(col('support')).alias('max_support'),\n",
    "                                      min(col('lift')).alias('min_lift'),\n",
    "                                      max(col('lift')).alias('max_lift'))\n",
    "    normalized_lift_support = df_con_lift_support.crossJoin(broadcast(min_max))\\\n",
    "                                                 .withColumn('norm_support',(col('support')-col('min_support'))/(col('max_support')-col('min_support')) ) \\\n",
    "                                                 .withColumn('norm_lift', (col('lift')-col('min_lift'))/(col('max_lift')-col('min_lift')))\\\n",
    "                                                 .withColumn('score',col('norm_support')+col('norm_lift'))\n",
    "    # returning both side mapping.\n",
    "    return normalized_lift_support.select('x','y','score').union(normalized_lift_support.select('y','x','score'))"
   ]
  },
  {
   "cell_type": "code",
   "execution_count": null,
   "metadata": {},
   "outputs": [],
   "source": []
  },
  {
   "cell_type": "markdown",
   "metadata": {},
   "source": [
    "## Calculating CUC score"
   ]
  },
  {
   "cell_type": "code",
   "execution_count": 28,
   "metadata": {},
   "outputs": [],
   "source": [
    "##NOTE: THIS CALCULATION HAS BEEN MOVED TO DAILY RUN SCRIPT\n",
    "\n",
    "# df_p = df_x.join(df_dproducto, ['codsap'], 'inner').select('codebelista', 'nrofactura', 'codcuc').dropDuplicates()\n",
    "# #df_offers_con = cart_offer_cuc_data.withColumnRenamed('cuc', 'codcuc').drop('codebelista')\n",
    "# df_offers_con = target_data_lhs.withColumnRenamed('cuc', 'codcuc').drop('codebelista')\n",
    "# df_m = df_p.join(df_offers_con, ['codcuc'], 'inner').select('codebelista', 'nrofactura', 'codcuc').dropDuplicates()\n",
    "# cuc_data = df_m.withColumn('unique_tr_id',concat(col('codebelista'),col('nrofactura')))\n",
    "# cuc_base_data = cuc_data.select('unique_tr_id', 'codcuc').dropDuplicates() \\\n",
    "#                              .groupBy('unique_tr_id').agg(collect_list(col('codcuc')).alias('items'))\n",
    "\n",
    "# cuc_score = calculate_support_and_lift(cuc_base_data).withColumnRenamed('x','codcuc')\\\n",
    "#                             .withColumnRenamed('y','codcuc_1')\\\n",
    "#                             .withColumnRenamed('score','cuc_score')\n"
   ]
  },
  {
   "cell_type": "code",
   "execution_count": 29,
   "metadata": {},
   "outputs": [],
   "source": [
    "# cuc_score.write.mode('overwrite')\\\n",
    "#     .parquet(\"s3://belc-bigdata-landing-dlk-qas/lan-ganamas/inter_input/cuc_score/\")"
   ]
  },
  {
   "cell_type": "markdown",
   "metadata": {},
   "source": [
    "## Calculating Brand_Cat score"
   ]
  },
  {
   "cell_type": "code",
   "execution_count": 30,
   "metadata": {},
   "outputs": [],
   "source": [
    "df_p = df_x.join(df_dproducto, ['codsap'], 'inner').select('codebelista', 'nrofactura', 'codcuc', \n",
    "                                                           'desmarca', 'descategoria').dropDuplicates()\n",
    "cuc_data = df_p.withColumn('unique_tr_id',concat(col('codebelista'),col('nrofactura')))\n",
    "brand_cat_base_data = cuc_data.select('unique_tr_id', 'desmarca','descategoria').dropDuplicates() \\\n",
    "                                   .withColumn('brand-category',concat(col('desmarca'),col('descategoria')))\\\n",
    "                                   .groupBy('unique_tr_id').agg(collect_list(col('brand-category')).alias('items'))\n",
    "brand_cat_score = calculate_support_and_lift(brand_cat_base_data).withColumnRenamed('x','brand_category')\\\n",
    "                        .withColumnRenamed('y','brand_category_1')\\\n",
    "                        .withColumnRenamed('score','brand_category_score')"
   ]
  },
  {
   "cell_type": "code",
   "execution_count": 31,
   "metadata": {},
   "outputs": [
    {
     "name": "stdout",
     "output_type": "stream",
     "text": [
      "+-----------------+--------------------+\n",
      "|     unique_tr_id|               items|\n",
      "+-----------------+--------------------+\n",
      "|00009091902070041|[LBELPROMOCION US...|\n",
      "|00016841905815984|[ESIKAMUESTRAS CO...|\n",
      "|00050931901680535|[LBELMAQUILLAJE, ...|\n",
      "|00055681903831978|[CYZONEFRAGANCIAS...|\n",
      "|00059081903320846|[LBELFRAGANCIAS, ...|\n",
      "|00120301903329424|[LBELFRAGANCIAS, ...|\n",
      "|00139181900977583|[ESIKATRATAMIENTO...|\n",
      "|00142221901258681|[ESIKAMAQUILLAJE,...|\n",
      "|00157901904356777|[ESIKAFRAGANCIAS,...|\n",
      "|00168331904147050|[CYZONEMAQUILLAJE...|\n",
      "|00180621901291664|[ESIKADAMAS, LBEL...|\n",
      "|00194731902034017|[ESIKAFRAGANCIAS,...|\n",
      "|00201831900169960|[LBELTRATAMIENTO ...|\n",
      "|00210611901004298|[ESIKAMAQUILLAJE,...|\n",
      "|00215811901935017|[LBELTRATAMIENTO ...|\n",
      "|00222511805831465|[LBELPROMOCION US...|\n",
      "|00230861903432227|[LBELTRATAMIENTO ...|\n",
      "|00237741903809160|[CYZONEHOGAR, LBE...|\n",
      "|00255951902794272|[LBELPROMOCION US...|\n",
      "|00258551900561299|[CYZONECUIDADO PE...|\n",
      "+-----------------+--------------------+\n",
      "only showing top 20 rows"
     ]
    }
   ],
   "source": [
    "brand_cat_base_data.show()\n"
   ]
  },
  {
   "cell_type": "code",
   "execution_count": 32,
   "metadata": {},
   "outputs": [],
   "source": [
    "brand_cat_score.write.mode('overwrite')\\\n",
    "    .parquet(\"s3://belc-bigdata-landing-dlk-qas/lan-ganamas/inter_input/brand_cat_score/\")"
   ]
  },
  {
   "cell_type": "markdown",
   "metadata": {},
   "source": [
    "## Calculating Brand_Subcat score"
   ]
  },
  {
   "cell_type": "code",
   "execution_count": 33,
   "metadata": {},
   "outputs": [],
   "source": [
    "df_p = df_x.join(df_dproducto, ['codsap'], 'inner').select('codebelista', 'nrofactura', 'codcuc', \n",
    "                                                           'desmarca', 'dessubcategoria').dropDuplicates()\n",
    "cuc_data = df_p.withColumn('unique_tr_id',concat(col('codebelista'),col('nrofactura')))\n",
    "brand_subcat_base_data = cuc_data.select('unique_tr_id', 'desmarca','dessubcategoria').dropDuplicates() \\\n",
    "                                   .withColumn('brand-subcategory',concat(col('desmarca'),col('dessubcategoria')))\\\n",
    "                                   .groupBy('unique_tr_id').agg(collect_list(col('brand-subcategory')).alias('items'))\n",
    "brand_subcat_score = calculate_support_and_lift(brand_subcat_base_data).withColumnRenamed('x','brand_subcategory')\\\n",
    "                                                .withColumnRenamed('y','brand_subcategory_1')\\\n",
    "                                                .withColumnRenamed('score','brand_subcategory_score')\n"
   ]
  },
  {
   "cell_type": "code",
   "execution_count": 34,
   "metadata": {},
   "outputs": [],
   "source": [
    "brand_subcat_score.write.mode('overwrite')\\\n",
    "    .parquet(\"s3://belc-bigdata-landing-dlk-qas/lan-ganamas/inter_input/brand_subcat_score/\")\n"
   ]
  },
  {
   "cell_type": "markdown",
   "metadata": {},
   "source": [
    "## Calculating Brand_Subtype score"
   ]
  },
  {
   "cell_type": "code",
   "execution_count": 35,
   "metadata": {},
   "outputs": [],
   "source": [
    "df_p = df_x.join(df_dproducto, ['codsap'], 'inner').select('codebelista', 'nrofactura', 'codcuc', 'desmarca', 'dessubtipo').dropDuplicates()\n",
    "cuc_data = df_p.withColumn('unique_tr_id',concat(col('codebelista'),col('nrofactura')))\n",
    "brand_subtype_base_data = cuc_data.select('unique_tr_id', 'desmarca','dessubtipo').dropDuplicates() \\\n",
    "                                   .withColumn('brand-subtype',concat(col('desmarca'),col('dessubtipo')))\\\n",
    "                                   .groupBy('unique_tr_id').agg(collect_list(col('brand-subtype')).alias('items'))\n",
    "brand_subtype_score = calculate_support_and_lift(brand_subtype_base_data).withColumnRenamed('x','brand_subtype').withColumnRenamed('y','brand_subtype_1').withColumnRenamed('score','brand_subtype_score')"
   ]
  },
  {
   "cell_type": "code",
   "execution_count": 43,
   "metadata": {},
   "outputs": [
    {
     "name": "stdout",
     "output_type": "stream",
     "text": [
      "+-----------------+--------------------+\n",
      "|     unique_tr_id|               items|\n",
      "+-----------------+--------------------+\n",
      "|00009091902070041|[LBELPROMOCION US...|\n",
      "|00016841905815984|[CYZONEMAQUILLAJE...|\n",
      "|00050931901680535|[LBELTRATAMIENTO ...|\n",
      "|00055681903831978|[CYZONEMAQUILLAJE...|\n",
      "|00059081903320846|[CYZONECOMPLEMENT...|\n",
      "|00120301903329424|[LBELFRAGANCIAS/D...|\n",
      "|00139181900977583|[ESIKAMAQUILLAJE/...|\n",
      "|00142221901258681|[ESIKAMAQUILLAJE/...|\n",
      "|00157901904356777|[CYZONEACCESORIOS...|\n",
      "|00168331904147050|[ESIKAFRAGANCIAS/...|\n",
      "|00180621901291664|[CYZONETRATAMIENT...|\n",
      "|00194731902034017|[LBELMAQUILLAJE/P...|\n",
      "|00201831900169960|[ESIKAFRAGANCIAS/...|\n",
      "|00210611901004298|[ESIKATRATAMIENTO...|\n",
      "|00215811901935017|[LBELPROMOCION US...|\n",
      "|00222511805831465|[LBELCUIDADO PERS...|\n",
      "|00230861903432227|[LBELMAQUILLAJE/P...|\n",
      "|00237741903809160|[CYZONEMAQUILLAJE...|\n",
      "|00255951902794272|[CYZONECOMPLEMENT...|\n",
      "|00258551900561299|[CYZONEFRAGANCIAS...|\n",
      "+-----------------+--------------------+\n",
      "only showing top 20 rows"
     ]
    }
   ],
   "source": [
    "brand_subtype_base_data.show()"
   ]
  },
  {
   "cell_type": "code",
   "execution_count": 44,
   "metadata": {},
   "outputs": [
    {
     "name": "stdout",
     "output_type": "stream",
     "text": [
      "+-----------+----------+-----------+--------+--------------------+\n",
      "|codebelista|nrofactura|     codcuc|desmarca|             destipo|\n",
      "+-----------+----------+-----------+--------+--------------------+\n",
      "|    1945876|1902565158|P0280105005|    LBEL|MAQUILLAJE/PARA R...|\n",
      "|    1845652|1902279239|P0261051003|    LBEL|MAQUILLAJE/PARA R...|\n",
      "|    1495191|1902233237|P0210060001|   ESIKA|MAQUILLAJE/PARA O...|\n",
      "|    0366017|1902525372|  200042358|    LBEL|FRAGANCIAS/CABALL...|\n",
      "|    1943397|1902642585|  200088336|   ESIKA|FRAGANCIAS/CABALL...|\n",
      "|    1740883|1902528155|  210091710|    LBEL|PROMOCION USUARIO...|\n",
      "|    1903769|1902529331|  200095931|   ESIKA|FRAGANCIAS/DAMAS/...|\n",
      "|    1888172|1902645827|P0210085000|   ESIKA|MAQUILLAJE/PARA L...|\n",
      "|    0457151|1902523982|P0292137005|   ESIKA|MAQUILLAJE/PARA L...|\n",
      "|    1925600|1902526219|  200011767|   ESIKA|FRAGANCIAS/UNISEX...|\n",
      "|    1844937|1902354641|  200004616|    LBEL|TRATAMIENTO FACIA...|\n",
      "|    1182153|1902526067|P0261059004|    LBEL|MAQUILLAJE/PARA O...|\n",
      "|    1910783|1902611476|  200093605|    LBEL|TRATAMIENTO FACIA...|\n",
      "|    1882736|1902376139|  200051249|    LBEL|FRAGANCIAS/CABALL...|\n",
      "|    1726416|1902650004|  210090767|  CYZONE|HOGAR/TIPO/BELLEZ...|\n",
      "|    1925313|1902425862|  200088259|   ESIKA|FRAGANCIAS/DAMAS/...|\n",
      "|    1429192|1902396968|P0289069000|   ESIKA|MAQUILLAJE/PARA U...|\n",
      "|    1900724|1902376377|P0292133004|   ESIKA|MAQUILLAJE/PARA L...|\n",
      "|    1854854|1902279844|P0210085000|   ESIKA|MAQUILLAJE/PARA L...|\n",
      "|    1659028|1902611805|  210092049|    LBEL|VARIOS/VARIOS/VARIOS|\n",
      "+-----------+----------+-----------+--------+--------------------+\n",
      "only showing top 20 rows"
     ]
    }
   ],
   "source": [
    "df_p.show()"
   ]
  },
  {
   "cell_type": "code",
   "execution_count": 45,
   "metadata": {},
   "outputs": [
    {
     "name": "stdout",
     "output_type": "stream",
     "text": [
      "+-----------+----------+-----------+--------+--------------------+-----------------+\n",
      "|codebelista|nrofactura|     codcuc|desmarca|             destipo|     unique_tr_id|\n",
      "+-----------+----------+-----------+--------+--------------------+-----------------+\n",
      "|    0083346|1901632604|  210090573|   ESIKA|BIJOUTERIE/DAMAS/...|00833461901632604|\n",
      "|    0083610|1901786407|P0292082007|   ESIKA|MAQUILLAJE/PARA O...|00836101901786407|\n",
      "|    0084278|1901741444|P0280078000|    LBEL|MAQUILLAJE/PARA R...|00842781901741444|\n",
      "|    0085671|1901937563|P0292090005|   ESIKA|MAQUILLAJE/PARA O...|00856711901937563|\n",
      "|    0087148|1901704691|  200059602|    LBEL|TRATAMIENTO FACIA...|00871481901704691|\n",
      "|    0049840|1901594774|  200091463|   ESIKA|FRAGANCIAS/DAMAS/...|00498401901594774|\n",
      "|    0061137|1901869860|P0292141009|   ESIKA|MAQUILLAJE/PARA O...|00611371901869860|\n",
      "|    0060825|1901633144|P0194067000|  CYZONE|MAQUILLAJE/PARA O...|00608251901633144|\n",
      "|    0056639|1901734486|  200011767|   ESIKA|FRAGANCIAS/UNISEX...|00566391901734486|\n",
      "|    0088229|1901618999|P0197148000|  CYZONE|MAQUILLAJE/PARA O...|00882291901618999|\n",
      "|    0088780|1901868919|P0292137005|   ESIKA|MAQUILLAJE/PARA L...|00887801901868919|\n",
      "|    0074289|1901634236|P0210085000|   ESIKA|MAQUILLAJE/PARA L...|00742891901634236|\n",
      "|    0074336|1901818286|  200092025|  CYZONE|FRAGANCIAS/FAMILI...|00743361901818286|\n",
      "|    0090854|1901935343|  200088261|    LBEL|TRATAMIENTO FACIA...|00908541901935343|\n",
      "|    0091088|1901943001|  200082480|    LBEL|FRAGANCIAS/CABALL...|00910881901943001|\n",
      "|    0091348|1901946469|P0289069000|   ESIKA|MAQUILLAJE/PARA U...|00913481901946469|\n",
      "|    0092012|1901739365|P0292090009|   ESIKA|MAQUILLAJE/PARA O...|00920121901739365|\n",
      "|    0092491|1901735480|P0261052007|    LBEL|MAQUILLAJE/PARA L...|00924911901735480|\n",
      "|    0093297|1901873843|  200051088|    LBEL|TRATAMIENTO FACIA...|00932971901873843|\n",
      "|    0093829|1901819358|  200052058|    LBEL|MAQUILLAJE/PARA R...|00938291901819358|\n",
      "+-----------+----------+-----------+--------+--------------------+-----------------+\n",
      "only showing top 20 rows"
     ]
    }
   ],
   "source": [
    "cuc_data.show()"
   ]
  },
  {
   "cell_type": "code",
   "execution_count": 46,
   "metadata": {},
   "outputs": [
    {
     "name": "stderr",
     "output_type": "stream",
     "text": [
      "An error occurred while calling o856.showString.\n",
      ": org.apache.spark.SparkException: Could not execute broadcast in 300 secs. You can increase the timeout for broadcasts via spark.sql.broadcastTimeout or disable broadcast join by setting spark.sql.autoBroadcastJoinThreshold to -1\n",
      "\tat org.apache.spark.sql.execution.exchange.BroadcastExchangeExec.doExecuteBroadcast(BroadcastExchangeExec.scala:150)\n",
      "\tat org.apache.spark.sql.execution.SparkPlan$$anonfun$executeBroadcast$1.apply(SparkPlan.scala:144)\n",
      "\tat org.apache.spark.sql.execution.SparkPlan$$anonfun$executeBroadcast$1.apply(SparkPlan.scala:140)\n",
      "\tat org.apache.spark.sql.execution.SparkPlan$$anonfun$executeQuery$1.apply(SparkPlan.scala:155)\n",
      "\tat org.apache.spark.rdd.RDDOperationScope$.withScope(RDDOperationScope.scala:151)\n",
      "\tat org.apache.spark.sql.execution.SparkPlan.executeQuery(SparkPlan.scala:152)\n",
      "\tat org.apache.spark.sql.execution.SparkPlan.executeBroadcast(SparkPlan.scala:140)\n",
      "\tat org.apache.spark.sql.execution.joins.BroadcastNestedLoopJoinExec.doExecute(BroadcastNestedLoopJoinExec.scala:343)\n",
      "\tat org.apache.spark.sql.execution.SparkPlan$$anonfun$execute$1.apply(SparkPlan.scala:131)\n",
      "\tat org.apache.spark.sql.execution.SparkPlan$$anonfun$execute$1.apply(SparkPlan.scala:127)\n",
      "\tat org.apache.spark.sql.execution.SparkPlan$$anonfun$executeQuery$1.apply(SparkPlan.scala:155)\n",
      "\tat org.apache.spark.rdd.RDDOperationScope$.withScope(RDDOperationScope.scala:151)\n",
      "\tat org.apache.spark.sql.execution.SparkPlan.executeQuery(SparkPlan.scala:152)\n",
      "\tat org.apache.spark.sql.execution.SparkPlan.execute(SparkPlan.scala:127)\n",
      "\tat org.apache.spark.sql.execution.InputAdapter.inputRDDs(WholeStageCodegenExec.scala:374)\n",
      "\tat org.apache.spark.sql.execution.ProjectExec.inputRDDs(basicPhysicalOperators.scala:41)\n",
      "\tat org.apache.spark.sql.execution.BaseLimitExec$class.inputRDDs(limit.scala:62)\n",
      "\tat org.apache.spark.sql.execution.LocalLimitExec.inputRDDs(limit.scala:98)\n",
      "\tat org.apache.spark.sql.execution.WholeStageCodegenExec.doExecute(WholeStageCodegenExec.scala:610)\n",
      "\tat org.apache.spark.sql.execution.SparkPlan$$anonfun$execute$1.apply(SparkPlan.scala:131)\n",
      "\tat org.apache.spark.sql.execution.SparkPlan$$anonfun$execute$1.apply(SparkPlan.scala:127)\n",
      "\tat org.apache.spark.sql.execution.SparkPlan$$anonfun$executeQuery$1.apply(SparkPlan.scala:155)\n",
      "\tat org.apache.spark.rdd.RDDOperationScope$.withScope(RDDOperationScope.scala:151)\n",
      "\tat org.apache.spark.sql.execution.SparkPlan.executeQuery(SparkPlan.scala:152)\n",
      "\tat org.apache.spark.sql.execution.SparkPlan.execute(SparkPlan.scala:127)\n",
      "\tat org.apache.spark.sql.execution.UnionExec$$anonfun$doExecute$1.apply(basicPhysicalOperators.scala:571)\n",
      "\tat org.apache.spark.sql.execution.UnionExec$$anonfun$doExecute$1.apply(basicPhysicalOperators.scala:571)\n",
      "\tat scala.collection.TraversableLike$$anonfun$map$1.apply(TraversableLike.scala:234)\n",
      "\tat scala.collection.TraversableLike$$anonfun$map$1.apply(TraversableLike.scala:234)\n",
      "\tat scala.collection.immutable.List.foreach(List.scala:392)\n",
      "\tat scala.collection.TraversableLike$class.map(TraversableLike.scala:234)\n",
      "\tat scala.collection.immutable.List.map(List.scala:296)\n",
      "\tat org.apache.spark.sql.execution.UnionExec.doExecute(basicPhysicalOperators.scala:571)\n",
      "\tat org.apache.spark.sql.execution.SparkPlan$$anonfun$execute$1.apply(SparkPlan.scala:131)\n",
      "\tat org.apache.spark.sql.execution.SparkPlan$$anonfun$execute$1.apply(SparkPlan.scala:127)\n",
      "\tat org.apache.spark.sql.execution.SparkPlan$$anonfun$executeQuery$1.apply(SparkPlan.scala:155)\n",
      "\tat org.apache.spark.rdd.RDDOperationScope$.withScope(RDDOperationScope.scala:151)\n",
      "\tat org.apache.spark.sql.execution.SparkPlan.executeQuery(SparkPlan.scala:152)\n",
      "\tat org.apache.spark.sql.execution.SparkPlan.execute(SparkPlan.scala:127)\n",
      "\tat org.apache.spark.sql.execution.SparkPlan.getByteArrayRdd(SparkPlan.scala:247)\n",
      "\tat org.apache.spark.sql.execution.SparkPlan.executeTake(SparkPlan.scala:339)\n",
      "\tat org.apache.spark.sql.execution.CollectLimitExec.executeCollect(limit.scala:38)\n",
      "\tat org.apache.spark.sql.Dataset.org$apache$spark$sql$Dataset$$collectFromPlan(Dataset.scala:3384)\n",
      "\tat org.apache.spark.sql.Dataset$$anonfun$head$1.apply(Dataset.scala:2545)\n",
      "\tat org.apache.spark.sql.Dataset$$anonfun$head$1.apply(Dataset.scala:2545)\n",
      "\tat org.apache.spark.sql.Dataset$$anonfun$53.apply(Dataset.scala:3365)\n",
      "\tat org.apache.spark.sql.execution.SQLExecution$$anonfun$withNewExecutionId$1.apply(SQLExecution.scala:78)\n",
      "\tat org.apache.spark.sql.execution.SQLExecution$.withSQLConfPropagated(SQLExecution.scala:125)\n",
      "\tat org.apache.spark.sql.execution.SQLExecution$.withNewExecutionId(SQLExecution.scala:73)\n",
      "\tat org.apache.spark.sql.Dataset.withAction(Dataset.scala:3364)\n",
      "\tat org.apache.spark.sql.Dataset.head(Dataset.scala:2545)\n",
      "\tat org.apache.spark.sql.Dataset.take(Dataset.scala:2759)\n",
      "\tat org.apache.spark.sql.Dataset.getRows(Dataset.scala:255)\n",
      "\tat org.apache.spark.sql.Dataset.showString(Dataset.scala:292)\n",
      "\tat sun.reflect.NativeMethodAccessorImpl.invoke0(Native Method)\n",
      "\tat sun.reflect.NativeMethodAccessorImpl.invoke(NativeMethodAccessorImpl.java:62)\n",
      "\tat sun.reflect.DelegatingMethodAccessorImpl.invoke(DelegatingMethodAccessorImpl.java:43)\n",
      "\tat java.lang.reflect.Method.invoke(Method.java:498)\n",
      "\tat py4j.reflection.MethodInvoker.invoke(MethodInvoker.java:244)\n",
      "\tat py4j.reflection.ReflectionEngine.invoke(ReflectionEngine.java:357)\n",
      "\tat py4j.Gateway.invoke(Gateway.java:282)\n",
      "\tat py4j.commands.AbstractCommand.invokeMethod(AbstractCommand.java:132)\n",
      "\tat py4j.commands.CallCommand.execute(CallCommand.java:79)\n",
      "\tat py4j.GatewayConnection.run(GatewayConnection.java:238)\n",
      "\tat java.lang.Thread.run(Thread.java:748)\n",
      "Caused by: java.util.concurrent.TimeoutException: Futures timed out after [300 seconds]\n",
      "\tat scala.concurrent.impl.Promise$DefaultPromise.ready(Promise.scala:223)\n",
      "\tat scala.concurrent.impl.Promise$DefaultPromise.result(Promise.scala:227)\n",
      "\tat org.apache.spark.util.ThreadUtils$.awaitResult(ThreadUtils.scala:220)\n",
      "\tat org.apache.spark.sql.execution.exchange.BroadcastExchangeExec.doExecuteBroadcast(BroadcastExchangeExec.scala:146)\n",
      "\t... 64 more\n",
      "\n",
      "Traceback (most recent call last):\n",
      "  File \"/usr/lib/spark/python/lib/pyspark.zip/pyspark/sql/dataframe.py\", line 378, in show\n",
      "    print(self._jdf.showString(n, 20, vertical))\n",
      "  File \"/usr/lib/spark/python/lib/py4j-0.10.7-src.zip/py4j/java_gateway.py\", line 1257, in __call__\n",
      "    answer, self.gateway_client, self.target_id, self.name)\n",
      "  File \"/usr/lib/spark/python/lib/pyspark.zip/pyspark/sql/utils.py\", line 63, in deco\n",
      "    return f(*a, **kw)\n",
      "  File \"/usr/lib/spark/python/lib/py4j-0.10.7-src.zip/py4j/protocol.py\", line 328, in get_return_value\n",
      "    format(target_id, \".\", name), value)\n",
      "py4j.protocol.Py4JJavaError: An error occurred while calling o856.showString.\n",
      ": org.apache.spark.SparkException: Could not execute broadcast in 300 secs. You can increase the timeout for broadcasts via spark.sql.broadcastTimeout or disable broadcast join by setting spark.sql.autoBroadcastJoinThreshold to -1\n",
      "\tat org.apache.spark.sql.execution.exchange.BroadcastExchangeExec.doExecuteBroadcast(BroadcastExchangeExec.scala:150)\n",
      "\tat org.apache.spark.sql.execution.SparkPlan$$anonfun$executeBroadcast$1.apply(SparkPlan.scala:144)\n",
      "\tat org.apache.spark.sql.execution.SparkPlan$$anonfun$executeBroadcast$1.apply(SparkPlan.scala:140)\n",
      "\tat org.apache.spark.sql.execution.SparkPlan$$anonfun$executeQuery$1.apply(SparkPlan.scala:155)\n",
      "\tat org.apache.spark.rdd.RDDOperationScope$.withScope(RDDOperationScope.scala:151)\n",
      "\tat org.apache.spark.sql.execution.SparkPlan.executeQuery(SparkPlan.scala:152)\n",
      "\tat org.apache.spark.sql.execution.SparkPlan.executeBroadcast(SparkPlan.scala:140)\n",
      "\tat org.apache.spark.sql.execution.joins.BroadcastNestedLoopJoinExec.doExecute(BroadcastNestedLoopJoinExec.scala:343)\n",
      "\tat org.apache.spark.sql.execution.SparkPlan$$anonfun$execute$1.apply(SparkPlan.scala:131)\n",
      "\tat org.apache.spark.sql.execution.SparkPlan$$anonfun$execute$1.apply(SparkPlan.scala:127)\n",
      "\tat org.apache.spark.sql.execution.SparkPlan$$anonfun$executeQuery$1.apply(SparkPlan.scala:155)\n",
      "\tat org.apache.spark.rdd.RDDOperationScope$.withScope(RDDOperationScope.scala:151)\n",
      "\tat org.apache.spark.sql.execution.SparkPlan.executeQuery(SparkPlan.scala:152)\n",
      "\tat org.apache.spark.sql.execution.SparkPlan.execute(SparkPlan.scala:127)\n",
      "\tat org.apache.spark.sql.execution.InputAdapter.inputRDDs(WholeStageCodegenExec.scala:374)\n",
      "\tat org.apache.spark.sql.execution.ProjectExec.inputRDDs(basicPhysicalOperators.scala:41)\n",
      "\tat org.apache.spark.sql.execution.BaseLimitExec$class.inputRDDs(limit.scala:62)\n",
      "\tat org.apache.spark.sql.execution.LocalLimitExec.inputRDDs(limit.scala:98)\n",
      "\tat org.apache.spark.sql.execution.WholeStageCodegenExec.doExecute(WholeStageCodegenExec.scala:610)\n",
      "\tat org.apache.spark.sql.execution.SparkPlan$$anonfun$execute$1.apply(SparkPlan.scala:131)\n",
      "\tat org.apache.spark.sql.execution.SparkPlan$$anonfun$execute$1.apply(SparkPlan.scala:127)\n",
      "\tat org.apache.spark.sql.execution.SparkPlan$$anonfun$executeQuery$1.apply(SparkPlan.scala:155)\n",
      "\tat org.apache.spark.rdd.RDDOperationScope$.withScope(RDDOperationScope.scala:151)\n",
      "\tat org.apache.spark.sql.execution.SparkPlan.executeQuery(SparkPlan.scala:152)\n",
      "\tat org.apache.spark.sql.execution.SparkPlan.execute(SparkPlan.scala:127)\n",
      "\tat org.apache.spark.sql.execution.UnionExec$$anonfun$doExecute$1.apply(basicPhysicalOperators.scala:571)\n",
      "\tat org.apache.spark.sql.execution.UnionExec$$anonfun$doExecute$1.apply(basicPhysicalOperators.scala:571)\n",
      "\tat scala.collection.TraversableLike$$anonfun$map$1.apply(TraversableLike.scala:234)\n",
      "\tat scala.collection.TraversableLike$$anonfun$map$1.apply(TraversableLike.scala:234)\n",
      "\tat scala.collection.immutable.List.foreach(List.scala:392)\n",
      "\tat scala.collection.TraversableLike$class.map(TraversableLike.scala:234)\n",
      "\tat scala.collection.immutable.List.map(List.scala:296)\n",
      "\tat org.apache.spark.sql.execution.UnionExec.doExecute(basicPhysicalOperators.scala:571)\n",
      "\tat org.apache.spark.sql.execution.SparkPlan$$anonfun$execute$1.apply(SparkPlan.scala:131)\n",
      "\tat org.apache.spark.sql.execution.SparkPlan$$anonfun$execute$1.apply(SparkPlan.scala:127)\n",
      "\tat org.apache.spark.sql.execution.SparkPlan$$anonfun$executeQuery$1.apply(SparkPlan.scala:155)\n",
      "\tat org.apache.spark.rdd.RDDOperationScope$.withScope(RDDOperationScope.scala:151)\n",
      "\tat org.apache.spark.sql.execution.SparkPlan.executeQuery(SparkPlan.scala:152)\n",
      "\tat org.apache.spark.sql.execution.SparkPlan.execute(SparkPlan.scala:127)\n",
      "\tat org.apache.spark.sql.execution.SparkPlan.getByteArrayRdd(SparkPlan.scala:247)\n",
      "\tat org.apache.spark.sql.execution.SparkPlan.executeTake(SparkPlan.scala:339)\n",
      "\tat org.apache.spark.sql.execution.CollectLimitExec.executeCollect(limit.scala:38)\n",
      "\tat org.apache.spark.sql.Dataset.org$apache$spark$sql$Dataset$$collectFromPlan(Dataset.scala:3384)\n",
      "\tat org.apache.spark.sql.Dataset$$anonfun$head$1.apply(Dataset.scala:2545)\n",
      "\tat org.apache.spark.sql.Dataset$$anonfun$head$1.apply(Dataset.scala:2545)\n",
      "\tat org.apache.spark.sql.Dataset$$anonfun$53.apply(Dataset.scala:3365)\n",
      "\tat org.apache.spark.sql.execution.SQLExecution$$anonfun$withNewExecutionId$1.apply(SQLExecution.scala:78)\n",
      "\tat org.apache.spark.sql.execution.SQLExecution$.withSQLConfPropagated(SQLExecution.scala:125)\n",
      "\tat org.apache.spark.sql.execution.SQLExecution$.withNewExecutionId(SQLExecution.scala:73)\n",
      "\tat org.apache.spark.sql.Dataset.withAction(Dataset.scala:3364)\n",
      "\tat org.apache.spark.sql.Dataset.head(Dataset.scala:2545)\n",
      "\tat org.apache.spark.sql.Dataset.take(Dataset.scala:2759)\n",
      "\tat org.apache.spark.sql.Dataset.getRows(Dataset.scala:255)\n",
      "\tat org.apache.spark.sql.Dataset.showString(Dataset.scala:292)\n",
      "\tat sun.reflect.NativeMethodAccessorImpl.invoke0(Native Method)\n",
      "\tat sun.reflect.NativeMethodAccessorImpl.invoke(NativeMethodAccessorImpl.java:62)\n",
      "\tat sun.reflect.DelegatingMethodAccessorImpl.invoke(DelegatingMethodAccessorImpl.java:43)\n",
      "\tat java.lang.reflect.Method.invoke(Method.java:498)\n",
      "\tat py4j.reflection.MethodInvoker.invoke(MethodInvoker.java:244)\n",
      "\tat py4j.reflection.ReflectionEngine.invoke(ReflectionEngine.java:357)\n",
      "\tat py4j.Gateway.invoke(Gateway.java:282)\n",
      "\tat py4j.commands.AbstractCommand.invokeMethod(AbstractCommand.java:132)\n",
      "\tat py4j.commands.CallCommand.execute(CallCommand.java:79)\n",
      "\tat py4j.GatewayConnection.run(GatewayConnection.java:238)\n",
      "\tat java.lang.Thread.run(Thread.java:748)\n",
      "Caused by: java.util.concurrent.TimeoutException: Futures timed out after [300 seconds]\n",
      "\tat scala.concurrent.impl.Promise$DefaultPromise.ready(Promise.scala:223)\n",
      "\tat scala.concurrent.impl.Promise$DefaultPromise.result(Promise.scala:227)\n",
      "\tat org.apache.spark.util.ThreadUtils$.awaitResult(ThreadUtils.scala:220)\n",
      "\tat org.apache.spark.sql.execution.exchange.BroadcastExchangeExec.doExecuteBroadcast(BroadcastExchangeExec.scala:146)\n",
      "\t... 64 more\n",
      "\n",
      "\n"
     ]
    }
   ],
   "source": [
    "brand_subtype_score.show()"
   ]
  },
  {
   "cell_type": "code",
   "execution_count": 37,
   "metadata": {},
   "outputs": [
    {
     "name": "stderr",
     "output_type": "stream",
     "text": [
      "An error occurred while calling o925.parquet.\n",
      ": org.apache.spark.SparkException: Job aborted.\n",
      "\tat org.apache.spark.sql.execution.datasources.FileFormatWriter$.write(FileFormatWriter.scala:196)\n",
      "\tat org.apache.spark.sql.execution.datasources.InsertIntoHadoopFsRelationCommand.run(InsertIntoHadoopFsRelationCommand.scala:159)\n",
      "\tat org.apache.spark.sql.execution.command.DataWritingCommandExec.sideEffectResult$lzycompute(commands.scala:104)\n",
      "\tat org.apache.spark.sql.execution.command.DataWritingCommandExec.sideEffectResult(commands.scala:102)\n",
      "\tat org.apache.spark.sql.execution.command.DataWritingCommandExec.doExecute(commands.scala:122)\n",
      "\tat org.apache.spark.sql.execution.SparkPlan$$anonfun$execute$1.apply(SparkPlan.scala:131)\n",
      "\tat org.apache.spark.sql.execution.SparkPlan$$anonfun$execute$1.apply(SparkPlan.scala:127)\n",
      "\tat org.apache.spark.sql.execution.SparkPlan$$anonfun$executeQuery$1.apply(SparkPlan.scala:155)\n",
      "\tat org.apache.spark.rdd.RDDOperationScope$.withScope(RDDOperationScope.scala:151)\n",
      "\tat org.apache.spark.sql.execution.SparkPlan.executeQuery(SparkPlan.scala:152)\n",
      "\tat org.apache.spark.sql.execution.SparkPlan.execute(SparkPlan.scala:127)\n",
      "\tat org.apache.spark.sql.execution.QueryExecution.toRdd$lzycompute(QueryExecution.scala:80)\n",
      "\tat org.apache.spark.sql.execution.QueryExecution.toRdd(QueryExecution.scala:80)\n",
      "\tat org.apache.spark.sql.DataFrameWriter$$anonfun$runCommand$1.apply(DataFrameWriter.scala:668)\n",
      "\tat org.apache.spark.sql.DataFrameWriter$$anonfun$runCommand$1.apply(DataFrameWriter.scala:668)\n",
      "\tat org.apache.spark.sql.execution.SQLExecution$$anonfun$withNewExecutionId$1.apply(SQLExecution.scala:78)\n",
      "\tat org.apache.spark.sql.execution.SQLExecution$.withSQLConfPropagated(SQLExecution.scala:125)\n",
      "\tat org.apache.spark.sql.execution.SQLExecution$.withNewExecutionId(SQLExecution.scala:73)\n",
      "\tat org.apache.spark.sql.DataFrameWriter.runCommand(DataFrameWriter.scala:668)\n",
      "\tat org.apache.spark.sql.DataFrameWriter.saveToV1Source(DataFrameWriter.scala:276)\n",
      "\tat org.apache.spark.sql.DataFrameWriter.save(DataFrameWriter.scala:270)\n",
      "\tat org.apache.spark.sql.DataFrameWriter.save(DataFrameWriter.scala:228)\n",
      "\tat org.apache.spark.sql.DataFrameWriter.parquet(DataFrameWriter.scala:557)\n",
      "\tat sun.reflect.NativeMethodAccessorImpl.invoke0(Native Method)\n",
      "\tat sun.reflect.NativeMethodAccessorImpl.invoke(NativeMethodAccessorImpl.java:62)\n",
      "\tat sun.reflect.DelegatingMethodAccessorImpl.invoke(DelegatingMethodAccessorImpl.java:43)\n",
      "\tat java.lang.reflect.Method.invoke(Method.java:498)\n",
      "\tat py4j.reflection.MethodInvoker.invoke(MethodInvoker.java:244)\n",
      "\tat py4j.reflection.ReflectionEngine.invoke(ReflectionEngine.java:357)\n",
      "\tat py4j.Gateway.invoke(Gateway.java:282)\n",
      "\tat py4j.commands.AbstractCommand.invokeMethod(AbstractCommand.java:132)\n",
      "\tat py4j.commands.CallCommand.execute(CallCommand.java:79)\n",
      "\tat py4j.GatewayConnection.run(GatewayConnection.java:238)\n",
      "\tat java.lang.Thread.run(Thread.java:748)\n",
      "Caused by: org.apache.spark.SparkException: Could not execute broadcast in 300 secs. You can increase the timeout for broadcasts via spark.sql.broadcastTimeout or disable broadcast join by setting spark.sql.autoBroadcastJoinThreshold to -1\n",
      "\tat org.apache.spark.sql.execution.exchange.BroadcastExchangeExec.doExecuteBroadcast(BroadcastExchangeExec.scala:150)\n",
      "\tat org.apache.spark.sql.execution.SparkPlan$$anonfun$executeBroadcast$1.apply(SparkPlan.scala:144)\n",
      "\tat org.apache.spark.sql.execution.SparkPlan$$anonfun$executeBroadcast$1.apply(SparkPlan.scala:140)\n",
      "\tat org.apache.spark.sql.execution.SparkPlan$$anonfun$executeQuery$1.apply(SparkPlan.scala:155)\n",
      "\tat org.apache.spark.rdd.RDDOperationScope$.withScope(RDDOperationScope.scala:151)\n",
      "\tat org.apache.spark.sql.execution.SparkPlan.executeQuery(SparkPlan.scala:152)\n",
      "\tat org.apache.spark.sql.execution.SparkPlan.executeBroadcast(SparkPlan.scala:140)\n",
      "\tat org.apache.spark.sql.execution.joins.BroadcastNestedLoopJoinExec.doExecute(BroadcastNestedLoopJoinExec.scala:343)\n",
      "\tat org.apache.spark.sql.execution.SparkPlan$$anonfun$execute$1.apply(SparkPlan.scala:131)\n",
      "\tat org.apache.spark.sql.execution.SparkPlan$$anonfun$execute$1.apply(SparkPlan.scala:127)\n",
      "\tat org.apache.spark.sql.execution.SparkPlan$$anonfun$executeQuery$1.apply(SparkPlan.scala:155)\n",
      "\tat org.apache.spark.rdd.RDDOperationScope$.withScope(RDDOperationScope.scala:151)\n",
      "\tat org.apache.spark.sql.execution.SparkPlan.executeQuery(SparkPlan.scala:152)\n",
      "\tat org.apache.spark.sql.execution.SparkPlan.execute(SparkPlan.scala:127)\n",
      "\tat org.apache.spark.sql.execution.InputAdapter.inputRDDs(WholeStageCodegenExec.scala:374)\n",
      "\tat org.apache.spark.sql.execution.ProjectExec.inputRDDs(basicPhysicalOperators.scala:41)\n",
      "\tat org.apache.spark.sql.execution.WholeStageCodegenExec.doExecute(WholeStageCodegenExec.scala:610)\n",
      "\tat org.apache.spark.sql.execution.SparkPlan$$anonfun$execute$1.apply(SparkPlan.scala:131)\n",
      "\tat org.apache.spark.sql.execution.SparkPlan$$anonfun$execute$1.apply(SparkPlan.scala:127)\n",
      "\tat org.apache.spark.sql.execution.SparkPlan$$anonfun$executeQuery$1.apply(SparkPlan.scala:155)\n",
      "\tat org.apache.spark.rdd.RDDOperationScope$.withScope(RDDOperationScope.scala:151)\n",
      "\tat org.apache.spark.sql.execution.SparkPlan.executeQuery(SparkPlan.scala:152)\n",
      "\tat org.apache.spark.sql.execution.SparkPlan.execute(SparkPlan.scala:127)\n",
      "\tat org.apache.spark.sql.execution.UnionExec$$anonfun$doExecute$1.apply(basicPhysicalOperators.scala:571)\n",
      "\tat org.apache.spark.sql.execution.UnionExec$$anonfun$doExecute$1.apply(basicPhysicalOperators.scala:571)\n",
      "\tat scala.collection.TraversableLike$$anonfun$map$1.apply(TraversableLike.scala:234)\n",
      "\tat scala.collection.TraversableLike$$anonfun$map$1.apply(TraversableLike.scala:234)\n",
      "\tat scala.collection.immutable.List.foreach(List.scala:392)\n",
      "\tat scala.collection.TraversableLike$class.map(TraversableLike.scala:234)\n",
      "\tat scala.collection.immutable.List.map(List.scala:296)\n",
      "\tat org.apache.spark.sql.execution.UnionExec.doExecute(basicPhysicalOperators.scala:571)\n",
      "\tat org.apache.spark.sql.execution.SparkPlan$$anonfun$execute$1.apply(SparkPlan.scala:131)\n",
      "\tat org.apache.spark.sql.execution.SparkPlan$$anonfun$execute$1.apply(SparkPlan.scala:127)\n",
      "\tat org.apache.spark.sql.execution.SparkPlan$$anonfun$executeQuery$1.apply(SparkPlan.scala:155)\n",
      "\tat org.apache.spark.rdd.RDDOperationScope$.withScope(RDDOperationScope.scala:151)\n",
      "\tat org.apache.spark.sql.execution.SparkPlan.executeQuery(SparkPlan.scala:152)\n",
      "\tat org.apache.spark.sql.execution.SparkPlan.execute(SparkPlan.scala:127)\n",
      "\tat org.apache.spark.sql.execution.datasources.FileFormatWriter$.write(FileFormatWriter.scala:143)\n",
      "\t... 33 more\n",
      "Caused by: java.util.concurrent.TimeoutException: Futures timed out after [300 seconds]\n",
      "\tat scala.concurrent.impl.Promise$DefaultPromise.ready(Promise.scala:223)\n",
      "\tat scala.concurrent.impl.Promise$DefaultPromise.result(Promise.scala:227)\n",
      "\tat org.apache.spark.util.ThreadUtils$.awaitResult(ThreadUtils.scala:220)\n",
      "\tat org.apache.spark.sql.execution.exchange.BroadcastExchangeExec.doExecuteBroadcast(BroadcastExchangeExec.scala:146)\n",
      "\t... 70 more\n",
      "\n",
      "Traceback (most recent call last):\n",
      "  File \"/usr/lib/spark/python/lib/pyspark.zip/pyspark/sql/readwriter.py\", line 841, in parquet\n",
      "    self._jwrite.parquet(path)\n",
      "  File \"/usr/lib/spark/python/lib/py4j-0.10.7-src.zip/py4j/java_gateway.py\", line 1257, in __call__\n",
      "    answer, self.gateway_client, self.target_id, self.name)\n",
      "  File \"/usr/lib/spark/python/lib/pyspark.zip/pyspark/sql/utils.py\", line 63, in deco\n",
      "    return f(*a, **kw)\n",
      "  File \"/usr/lib/spark/python/lib/py4j-0.10.7-src.zip/py4j/protocol.py\", line 328, in get_return_value\n",
      "    format(target_id, \".\", name), value)\n",
      "py4j.protocol.Py4JJavaError: An error occurred while calling o925.parquet.\n",
      ": org.apache.spark.SparkException: Job aborted.\n",
      "\tat org.apache.spark.sql.execution.datasources.FileFormatWriter$.write(FileFormatWriter.scala:196)\n",
      "\tat org.apache.spark.sql.execution.datasources.InsertIntoHadoopFsRelationCommand.run(InsertIntoHadoopFsRelationCommand.scala:159)\n",
      "\tat org.apache.spark.sql.execution.command.DataWritingCommandExec.sideEffectResult$lzycompute(commands.scala:104)\n",
      "\tat org.apache.spark.sql.execution.command.DataWritingCommandExec.sideEffectResult(commands.scala:102)\n",
      "\tat org.apache.spark.sql.execution.command.DataWritingCommandExec.doExecute(commands.scala:122)\n",
      "\tat org.apache.spark.sql.execution.SparkPlan$$anonfun$execute$1.apply(SparkPlan.scala:131)\n",
      "\tat org.apache.spark.sql.execution.SparkPlan$$anonfun$execute$1.apply(SparkPlan.scala:127)\n",
      "\tat org.apache.spark.sql.execution.SparkPlan$$anonfun$executeQuery$1.apply(SparkPlan.scala:155)\n",
      "\tat org.apache.spark.rdd.RDDOperationScope$.withScope(RDDOperationScope.scala:151)\n",
      "\tat org.apache.spark.sql.execution.SparkPlan.executeQuery(SparkPlan.scala:152)\n",
      "\tat org.apache.spark.sql.execution.SparkPlan.execute(SparkPlan.scala:127)\n",
      "\tat org.apache.spark.sql.execution.QueryExecution.toRdd$lzycompute(QueryExecution.scala:80)\n",
      "\tat org.apache.spark.sql.execution.QueryExecution.toRdd(QueryExecution.scala:80)\n",
      "\tat org.apache.spark.sql.DataFrameWriter$$anonfun$runCommand$1.apply(DataFrameWriter.scala:668)\n",
      "\tat org.apache.spark.sql.DataFrameWriter$$anonfun$runCommand$1.apply(DataFrameWriter.scala:668)\n",
      "\tat org.apache.spark.sql.execution.SQLExecution$$anonfun$withNewExecutionId$1.apply(SQLExecution.scala:78)\n",
      "\tat org.apache.spark.sql.execution.SQLExecution$.withSQLConfPropagated(SQLExecution.scala:125)\n",
      "\tat org.apache.spark.sql.execution.SQLExecution$.withNewExecutionId(SQLExecution.scala:73)\n",
      "\tat org.apache.spark.sql.DataFrameWriter.runCommand(DataFrameWriter.scala:668)\n",
      "\tat org.apache.spark.sql.DataFrameWriter.saveToV1Source(DataFrameWriter.scala:276)\n",
      "\tat org.apache.spark.sql.DataFrameWriter.save(DataFrameWriter.scala:270)\n",
      "\tat org.apache.spark.sql.DataFrameWriter.save(DataFrameWriter.scala:228)\n",
      "\tat org.apache.spark.sql.DataFrameWriter.parquet(DataFrameWriter.scala:557)\n",
      "\tat sun.reflect.NativeMethodAccessorImpl.invoke0(Native Method)\n",
      "\tat sun.reflect.NativeMethodAccessorImpl.invoke(NativeMethodAccessorImpl.java:62)\n",
      "\tat sun.reflect.DelegatingMethodAccessorImpl.invoke(DelegatingMethodAccessorImpl.java:43)\n",
      "\tat java.lang.reflect.Method.invoke(Method.java:498)\n",
      "\tat py4j.reflection.MethodInvoker.invoke(MethodInvoker.java:244)\n",
      "\tat py4j.reflection.ReflectionEngine.invoke(ReflectionEngine.java:357)\n",
      "\tat py4j.Gateway.invoke(Gateway.java:282)\n",
      "\tat py4j.commands.AbstractCommand.invokeMethod(AbstractCommand.java:132)\n",
      "\tat py4j.commands.CallCommand.execute(CallCommand.java:79)\n",
      "\tat py4j.GatewayConnection.run(GatewayConnection.java:238)\n",
      "\tat java.lang.Thread.run(Thread.java:748)\n",
      "Caused by: org.apache.spark.SparkException: Could not execute broadcast in 300 secs. You can increase the timeout for broadcasts via spark.sql.broadcastTimeout or disable broadcast join by setting spark.sql.autoBroadcastJoinThreshold to -1\n",
      "\tat org.apache.spark.sql.execution.exchange.BroadcastExchangeExec.doExecuteBroadcast(BroadcastExchangeExec.scala:150)\n",
      "\tat org.apache.spark.sql.execution.SparkPlan$$anonfun$executeBroadcast$1.apply(SparkPlan.scala:144)\n",
      "\tat org.apache.spark.sql.execution.SparkPlan$$anonfun$executeBroadcast$1.apply(SparkPlan.scala:140)\n",
      "\tat org.apache.spark.sql.execution.SparkPlan$$anonfun$executeQuery$1.apply(SparkPlan.scala:155)\n",
      "\tat org.apache.spark.rdd.RDDOperationScope$.withScope(RDDOperationScope.scala:151)\n",
      "\tat org.apache.spark.sql.execution.SparkPlan.executeQuery(SparkPlan.scala:152)\n",
      "\tat org.apache.spark.sql.execution.SparkPlan.executeBroadcast(SparkPlan.scala:140)\n",
      "\tat org.apache.spark.sql.execution.joins.BroadcastNestedLoopJoinExec.doExecute(BroadcastNestedLoopJoinExec.scala:343)\n",
      "\tat org.apache.spark.sql.execution.SparkPlan$$anonfun$execute$1.apply(SparkPlan.scala:131)\n",
      "\tat org.apache.spark.sql.execution.SparkPlan$$anonfun$execute$1.apply(SparkPlan.scala:127)\n",
      "\tat org.apache.spark.sql.execution.SparkPlan$$anonfun$executeQuery$1.apply(SparkPlan.scala:155)\n",
      "\tat org.apache.spark.rdd.RDDOperationScope$.withScope(RDDOperationScope.scala:151)\n",
      "\tat org.apache.spark.sql.execution.SparkPlan.executeQuery(SparkPlan.scala:152)\n",
      "\tat org.apache.spark.sql.execution.SparkPlan.execute(SparkPlan.scala:127)\n",
      "\tat org.apache.spark.sql.execution.InputAdapter.inputRDDs(WholeStageCodegenExec.scala:374)\n",
      "\tat org.apache.spark.sql.execution.ProjectExec.inputRDDs(basicPhysicalOperators.scala:41)\n",
      "\tat org.apache.spark.sql.execution.WholeStageCodegenExec.doExecute(WholeStageCodegenExec.scala:610)\n",
      "\tat org.apache.spark.sql.execution.SparkPlan$$anonfun$execute$1.apply(SparkPlan.scala:131)\n",
      "\tat org.apache.spark.sql.execution.SparkPlan$$anonfun$execute$1.apply(SparkPlan.scala:127)\n",
      "\tat org.apache.spark.sql.execution.SparkPlan$$anonfun$executeQuery$1.apply(SparkPlan.scala:155)\n",
      "\tat org.apache.spark.rdd.RDDOperationScope$.withScope(RDDOperationScope.scala:151)\n",
      "\tat org.apache.spark.sql.execution.SparkPlan.executeQuery(SparkPlan.scala:152)\n",
      "\tat org.apache.spark.sql.execution.SparkPlan.execute(SparkPlan.scala:127)\n",
      "\tat org.apache.spark.sql.execution.UnionExec$$anonfun$doExecute$1.apply(basicPhysicalOperators.scala:571)\n",
      "\tat org.apache.spark.sql.execution.UnionExec$$anonfun$doExecute$1.apply(basicPhysicalOperators.scala:571)\n",
      "\tat scala.collection.TraversableLike$$anonfun$map$1.apply(TraversableLike.scala:234)\n",
      "\tat scala.collection.TraversableLike$$anonfun$map$1.apply(TraversableLike.scala:234)\n",
      "\tat scala.collection.immutable.List.foreach(List.scala:392)\n",
      "\tat scala.collection.TraversableLike$class.map(TraversableLike.scala:234)\n",
      "\tat scala.collection.immutable.List.map(List.scala:296)\n",
      "\tat org.apache.spark.sql.execution.UnionExec.doExecute(basicPhysicalOperators.scala:571)\n",
      "\tat org.apache.spark.sql.execution.SparkPlan$$anonfun$execute$1.apply(SparkPlan.scala:131)\n",
      "\tat org.apache.spark.sql.execution.SparkPlan$$anonfun$execute$1.apply(SparkPlan.scala:127)\n",
      "\tat org.apache.spark.sql.execution.SparkPlan$$anonfun$executeQuery$1.apply(SparkPlan.scala:155)\n",
      "\tat org.apache.spark.rdd.RDDOperationScope$.withScope(RDDOperationScope.scala:151)\n",
      "\tat org.apache.spark.sql.execution.SparkPlan.executeQuery(SparkPlan.scala:152)\n",
      "\tat org.apache.spark.sql.execution.SparkPlan.execute(SparkPlan.scala:127)\n",
      "\tat org.apache.spark.sql.execution.datasources.FileFormatWriter$.write(FileFormatWriter.scala:143)\n",
      "\t... 33 more\n",
      "Caused by: java.util.concurrent.TimeoutException: Futures timed out after [300 seconds]\n",
      "\tat scala.concurrent.impl.Promise$DefaultPromise.ready(Promise.scala:223)\n",
      "\tat scala.concurrent.impl.Promise$DefaultPromise.result(Promise.scala:227)\n",
      "\tat org.apache.spark.util.ThreadUtils$.awaitResult(ThreadUtils.scala:220)\n",
      "\tat org.apache.spark.sql.execution.exchange.BroadcastExchangeExec.doExecuteBroadcast(BroadcastExchangeExec.scala:146)\n",
      "\t... 70 more\n",
      "\n",
      "\n"
     ]
    }
   ],
   "source": [
    "brand_subtype_score.write.mode('overwrite')\\\n",
    "    .parquet(\"s3://belc-bigdata-landing-dlk-qas/lan-ganamas/inter_input/brand_subtype_score/\")"
   ]
  },
  {
   "cell_type": "markdown",
   "metadata": {},
   "source": [
    "## Calculating Brand_Type score"
   ]
  },
  {
   "cell_type": "code",
   "execution_count": 38,
   "metadata": {},
   "outputs": [],
   "source": [
    "df_p = df_x.join(df_dproducto, ['codsap'], 'inner').select('codebelista', 'nrofactura', 'codcuc', 'desmarca', 'destipo').dropDuplicates()\n",
    "cuc_data = df_p.withColumn('unique_tr_id',concat(col('codebelista'),col('nrofactura')))\n",
    "brand_type_base_data = cuc_data.select('unique_tr_id', 'desmarca','destipo').dropDuplicates() \\\n",
    "                                   .withColumn('brand-type',concat(col('desmarca'),col('destipo')))\\\n",
    "                                   .groupBy('unique_tr_id').agg(collect_list(col('brand-type')).alias('items'))\n",
    "brand_type_score = calculate_support_and_lift(brand_type_base_data).withColumnRenamed('x','brand_type').withColumnRenamed('y','brand_type_1').withColumnRenamed('score','brand_type_score')"
   ]
  },
  {
   "cell_type": "code",
   "execution_count": 39,
   "metadata": {},
   "outputs": [
    {
     "name": "stderr",
     "output_type": "stream",
     "text": [
      "An error occurred while calling o1127.parquet.\n",
      ": org.apache.spark.SparkException: Job aborted.\n",
      "\tat org.apache.spark.sql.execution.datasources.FileFormatWriter$.write(FileFormatWriter.scala:196)\n",
      "\tat org.apache.spark.sql.execution.datasources.InsertIntoHadoopFsRelationCommand.run(InsertIntoHadoopFsRelationCommand.scala:159)\n",
      "\tat org.apache.spark.sql.execution.command.DataWritingCommandExec.sideEffectResult$lzycompute(commands.scala:104)\n",
      "\tat org.apache.spark.sql.execution.command.DataWritingCommandExec.sideEffectResult(commands.scala:102)\n",
      "\tat org.apache.spark.sql.execution.command.DataWritingCommandExec.doExecute(commands.scala:122)\n",
      "\tat org.apache.spark.sql.execution.SparkPlan$$anonfun$execute$1.apply(SparkPlan.scala:131)\n",
      "\tat org.apache.spark.sql.execution.SparkPlan$$anonfun$execute$1.apply(SparkPlan.scala:127)\n",
      "\tat org.apache.spark.sql.execution.SparkPlan$$anonfun$executeQuery$1.apply(SparkPlan.scala:155)\n",
      "\tat org.apache.spark.rdd.RDDOperationScope$.withScope(RDDOperationScope.scala:151)\n",
      "\tat org.apache.spark.sql.execution.SparkPlan.executeQuery(SparkPlan.scala:152)\n",
      "\tat org.apache.spark.sql.execution.SparkPlan.execute(SparkPlan.scala:127)\n",
      "\tat org.apache.spark.sql.execution.QueryExecution.toRdd$lzycompute(QueryExecution.scala:80)\n",
      "\tat org.apache.spark.sql.execution.QueryExecution.toRdd(QueryExecution.scala:80)\n",
      "\tat org.apache.spark.sql.DataFrameWriter$$anonfun$runCommand$1.apply(DataFrameWriter.scala:668)\n",
      "\tat org.apache.spark.sql.DataFrameWriter$$anonfun$runCommand$1.apply(DataFrameWriter.scala:668)\n",
      "\tat org.apache.spark.sql.execution.SQLExecution$$anonfun$withNewExecutionId$1.apply(SQLExecution.scala:78)\n",
      "\tat org.apache.spark.sql.execution.SQLExecution$.withSQLConfPropagated(SQLExecution.scala:125)\n",
      "\tat org.apache.spark.sql.execution.SQLExecution$.withNewExecutionId(SQLExecution.scala:73)\n",
      "\tat org.apache.spark.sql.DataFrameWriter.runCommand(DataFrameWriter.scala:668)\n",
      "\tat org.apache.spark.sql.DataFrameWriter.saveToV1Source(DataFrameWriter.scala:276)\n",
      "\tat org.apache.spark.sql.DataFrameWriter.save(DataFrameWriter.scala:270)\n",
      "\tat org.apache.spark.sql.DataFrameWriter.save(DataFrameWriter.scala:228)\n",
      "\tat org.apache.spark.sql.DataFrameWriter.parquet(DataFrameWriter.scala:557)\n",
      "\tat sun.reflect.NativeMethodAccessorImpl.invoke0(Native Method)\n",
      "\tat sun.reflect.NativeMethodAccessorImpl.invoke(NativeMethodAccessorImpl.java:62)\n",
      "\tat sun.reflect.DelegatingMethodAccessorImpl.invoke(DelegatingMethodAccessorImpl.java:43)\n",
      "\tat java.lang.reflect.Method.invoke(Method.java:498)\n",
      "\tat py4j.reflection.MethodInvoker.invoke(MethodInvoker.java:244)\n",
      "\tat py4j.reflection.ReflectionEngine.invoke(ReflectionEngine.java:357)\n",
      "\tat py4j.Gateway.invoke(Gateway.java:282)\n",
      "\tat py4j.commands.AbstractCommand.invokeMethod(AbstractCommand.java:132)\n",
      "\tat py4j.commands.CallCommand.execute(CallCommand.java:79)\n",
      "\tat py4j.GatewayConnection.run(GatewayConnection.java:238)\n",
      "\tat java.lang.Thread.run(Thread.java:748)\n",
      "Caused by: org.apache.spark.SparkException: Could not execute broadcast in 300 secs. You can increase the timeout for broadcasts via spark.sql.broadcastTimeout or disable broadcast join by setting spark.sql.autoBroadcastJoinThreshold to -1\n",
      "\tat org.apache.spark.sql.execution.exchange.BroadcastExchangeExec.doExecuteBroadcast(BroadcastExchangeExec.scala:150)\n",
      "\tat org.apache.spark.sql.execution.SparkPlan$$anonfun$executeBroadcast$1.apply(SparkPlan.scala:144)\n",
      "\tat org.apache.spark.sql.execution.SparkPlan$$anonfun$executeBroadcast$1.apply(SparkPlan.scala:140)\n",
      "\tat org.apache.spark.sql.execution.SparkPlan$$anonfun$executeQuery$1.apply(SparkPlan.scala:155)\n",
      "\tat org.apache.spark.rdd.RDDOperationScope$.withScope(RDDOperationScope.scala:151)\n",
      "\tat org.apache.spark.sql.execution.SparkPlan.executeQuery(SparkPlan.scala:152)\n",
      "\tat org.apache.spark.sql.execution.SparkPlan.executeBroadcast(SparkPlan.scala:140)\n",
      "\tat org.apache.spark.sql.execution.joins.BroadcastNestedLoopJoinExec.doExecute(BroadcastNestedLoopJoinExec.scala:343)\n",
      "\tat org.apache.spark.sql.execution.SparkPlan$$anonfun$execute$1.apply(SparkPlan.scala:131)\n",
      "\tat org.apache.spark.sql.execution.SparkPlan$$anonfun$execute$1.apply(SparkPlan.scala:127)\n",
      "\tat org.apache.spark.sql.execution.SparkPlan$$anonfun$executeQuery$1.apply(SparkPlan.scala:155)\n",
      "\tat org.apache.spark.rdd.RDDOperationScope$.withScope(RDDOperationScope.scala:151)\n",
      "\tat org.apache.spark.sql.execution.SparkPlan.executeQuery(SparkPlan.scala:152)\n",
      "\tat org.apache.spark.sql.execution.SparkPlan.execute(SparkPlan.scala:127)\n",
      "\tat org.apache.spark.sql.execution.InputAdapter.inputRDDs(WholeStageCodegenExec.scala:374)\n",
      "\tat org.apache.spark.sql.execution.ProjectExec.inputRDDs(basicPhysicalOperators.scala:41)\n",
      "\tat org.apache.spark.sql.execution.WholeStageCodegenExec.doExecute(WholeStageCodegenExec.scala:610)\n",
      "\tat org.apache.spark.sql.execution.SparkPlan$$anonfun$execute$1.apply(SparkPlan.scala:131)\n",
      "\tat org.apache.spark.sql.execution.SparkPlan$$anonfun$execute$1.apply(SparkPlan.scala:127)\n",
      "\tat org.apache.spark.sql.execution.SparkPlan$$anonfun$executeQuery$1.apply(SparkPlan.scala:155)\n",
      "\tat org.apache.spark.rdd.RDDOperationScope$.withScope(RDDOperationScope.scala:151)\n",
      "\tat org.apache.spark.sql.execution.SparkPlan.executeQuery(SparkPlan.scala:152)\n",
      "\tat org.apache.spark.sql.execution.SparkPlan.execute(SparkPlan.scala:127)\n",
      "\tat org.apache.spark.sql.execution.UnionExec$$anonfun$doExecute$1.apply(basicPhysicalOperators.scala:571)\n",
      "\tat org.apache.spark.sql.execution.UnionExec$$anonfun$doExecute$1.apply(basicPhysicalOperators.scala:571)\n",
      "\tat scala.collection.TraversableLike$$anonfun$map$1.apply(TraversableLike.scala:234)\n",
      "\tat scala.collection.TraversableLike$$anonfun$map$1.apply(TraversableLike.scala:234)\n",
      "\tat scala.collection.immutable.List.foreach(List.scala:392)\n",
      "\tat scala.collection.TraversableLike$class.map(TraversableLike.scala:234)\n",
      "\tat scala.collection.immutable.List.map(List.scala:296)\n",
      "\tat org.apache.spark.sql.execution.UnionExec.doExecute(basicPhysicalOperators.scala:571)\n",
      "\tat org.apache.spark.sql.execution.SparkPlan$$anonfun$execute$1.apply(SparkPlan.scala:131)\n",
      "\tat org.apache.spark.sql.execution.SparkPlan$$anonfun$execute$1.apply(SparkPlan.scala:127)\n",
      "\tat org.apache.spark.sql.execution.SparkPlan$$anonfun$executeQuery$1.apply(SparkPlan.scala:155)\n",
      "\tat org.apache.spark.rdd.RDDOperationScope$.withScope(RDDOperationScope.scala:151)\n",
      "\tat org.apache.spark.sql.execution.SparkPlan.executeQuery(SparkPlan.scala:152)\n",
      "\tat org.apache.spark.sql.execution.SparkPlan.execute(SparkPlan.scala:127)\n",
      "\tat org.apache.spark.sql.execution.datasources.FileFormatWriter$.write(FileFormatWriter.scala:143)\n",
      "\t... 33 more\n",
      "Caused by: java.util.concurrent.TimeoutException: Futures timed out after [300 seconds]\n",
      "\tat scala.concurrent.impl.Promise$DefaultPromise.ready(Promise.scala:223)\n",
      "\tat scala.concurrent.impl.Promise$DefaultPromise.result(Promise.scala:227)\n",
      "\tat org.apache.spark.util.ThreadUtils$.awaitResult(ThreadUtils.scala:220)\n",
      "\tat org.apache.spark.sql.execution.exchange.BroadcastExchangeExec.doExecuteBroadcast(BroadcastExchangeExec.scala:146)\n",
      "\t... 70 more\n",
      "\n",
      "Traceback (most recent call last):\n",
      "  File \"/usr/lib/spark/python/lib/pyspark.zip/pyspark/sql/readwriter.py\", line 841, in parquet\n",
      "    self._jwrite.parquet(path)\n",
      "  File \"/usr/lib/spark/python/lib/py4j-0.10.7-src.zip/py4j/java_gateway.py\", line 1257, in __call__\n",
      "    answer, self.gateway_client, self.target_id, self.name)\n",
      "  File \"/usr/lib/spark/python/lib/pyspark.zip/pyspark/sql/utils.py\", line 63, in deco\n",
      "    return f(*a, **kw)\n",
      "  File \"/usr/lib/spark/python/lib/py4j-0.10.7-src.zip/py4j/protocol.py\", line 328, in get_return_value\n",
      "    format(target_id, \".\", name), value)\n",
      "py4j.protocol.Py4JJavaError: An error occurred while calling o1127.parquet.\n",
      ": org.apache.spark.SparkException: Job aborted.\n",
      "\tat org.apache.spark.sql.execution.datasources.FileFormatWriter$.write(FileFormatWriter.scala:196)\n",
      "\tat org.apache.spark.sql.execution.datasources.InsertIntoHadoopFsRelationCommand.run(InsertIntoHadoopFsRelationCommand.scala:159)\n",
      "\tat org.apache.spark.sql.execution.command.DataWritingCommandExec.sideEffectResult$lzycompute(commands.scala:104)\n",
      "\tat org.apache.spark.sql.execution.command.DataWritingCommandExec.sideEffectResult(commands.scala:102)\n",
      "\tat org.apache.spark.sql.execution.command.DataWritingCommandExec.doExecute(commands.scala:122)\n",
      "\tat org.apache.spark.sql.execution.SparkPlan$$anonfun$execute$1.apply(SparkPlan.scala:131)\n",
      "\tat org.apache.spark.sql.execution.SparkPlan$$anonfun$execute$1.apply(SparkPlan.scala:127)\n",
      "\tat org.apache.spark.sql.execution.SparkPlan$$anonfun$executeQuery$1.apply(SparkPlan.scala:155)\n",
      "\tat org.apache.spark.rdd.RDDOperationScope$.withScope(RDDOperationScope.scala:151)\n",
      "\tat org.apache.spark.sql.execution.SparkPlan.executeQuery(SparkPlan.scala:152)\n",
      "\tat org.apache.spark.sql.execution.SparkPlan.execute(SparkPlan.scala:127)\n",
      "\tat org.apache.spark.sql.execution.QueryExecution.toRdd$lzycompute(QueryExecution.scala:80)\n",
      "\tat org.apache.spark.sql.execution.QueryExecution.toRdd(QueryExecution.scala:80)\n",
      "\tat org.apache.spark.sql.DataFrameWriter$$anonfun$runCommand$1.apply(DataFrameWriter.scala:668)\n",
      "\tat org.apache.spark.sql.DataFrameWriter$$anonfun$runCommand$1.apply(DataFrameWriter.scala:668)\n",
      "\tat org.apache.spark.sql.execution.SQLExecution$$anonfun$withNewExecutionId$1.apply(SQLExecution.scala:78)\n",
      "\tat org.apache.spark.sql.execution.SQLExecution$.withSQLConfPropagated(SQLExecution.scala:125)\n",
      "\tat org.apache.spark.sql.execution.SQLExecution$.withNewExecutionId(SQLExecution.scala:73)\n",
      "\tat org.apache.spark.sql.DataFrameWriter.runCommand(DataFrameWriter.scala:668)\n",
      "\tat org.apache.spark.sql.DataFrameWriter.saveToV1Source(DataFrameWriter.scala:276)\n",
      "\tat org.apache.spark.sql.DataFrameWriter.save(DataFrameWriter.scala:270)\n",
      "\tat org.apache.spark.sql.DataFrameWriter.save(DataFrameWriter.scala:228)\n",
      "\tat org.apache.spark.sql.DataFrameWriter.parquet(DataFrameWriter.scala:557)\n",
      "\tat sun.reflect.NativeMethodAccessorImpl.invoke0(Native Method)\n",
      "\tat sun.reflect.NativeMethodAccessorImpl.invoke(NativeMethodAccessorImpl.java:62)\n",
      "\tat sun.reflect.DelegatingMethodAccessorImpl.invoke(DelegatingMethodAccessorImpl.java:43)\n",
      "\tat java.lang.reflect.Method.invoke(Method.java:498)\n",
      "\tat py4j.reflection.MethodInvoker.invoke(MethodInvoker.java:244)\n",
      "\tat py4j.reflection.ReflectionEngine.invoke(ReflectionEngine.java:357)\n",
      "\tat py4j.Gateway.invoke(Gateway.java:282)\n",
      "\tat py4j.commands.AbstractCommand.invokeMethod(AbstractCommand.java:132)\n",
      "\tat py4j.commands.CallCommand.execute(CallCommand.java:79)\n",
      "\tat py4j.GatewayConnection.run(GatewayConnection.java:238)\n",
      "\tat java.lang.Thread.run(Thread.java:748)\n",
      "Caused by: org.apache.spark.SparkException: Could not execute broadcast in 300 secs. You can increase the timeout for broadcasts via spark.sql.broadcastTimeout or disable broadcast join by setting spark.sql.autoBroadcastJoinThreshold to -1\n",
      "\tat org.apache.spark.sql.execution.exchange.BroadcastExchangeExec.doExecuteBroadcast(BroadcastExchangeExec.scala:150)\n",
      "\tat org.apache.spark.sql.execution.SparkPlan$$anonfun$executeBroadcast$1.apply(SparkPlan.scala:144)\n",
      "\tat org.apache.spark.sql.execution.SparkPlan$$anonfun$executeBroadcast$1.apply(SparkPlan.scala:140)\n",
      "\tat org.apache.spark.sql.execution.SparkPlan$$anonfun$executeQuery$1.apply(SparkPlan.scala:155)\n",
      "\tat org.apache.spark.rdd.RDDOperationScope$.withScope(RDDOperationScope.scala:151)\n",
      "\tat org.apache.spark.sql.execution.SparkPlan.executeQuery(SparkPlan.scala:152)\n",
      "\tat org.apache.spark.sql.execution.SparkPlan.executeBroadcast(SparkPlan.scala:140)\n",
      "\tat org.apache.spark.sql.execution.joins.BroadcastNestedLoopJoinExec.doExecute(BroadcastNestedLoopJoinExec.scala:343)\n",
      "\tat org.apache.spark.sql.execution.SparkPlan$$anonfun$execute$1.apply(SparkPlan.scala:131)\n",
      "\tat org.apache.spark.sql.execution.SparkPlan$$anonfun$execute$1.apply(SparkPlan.scala:127)\n",
      "\tat org.apache.spark.sql.execution.SparkPlan$$anonfun$executeQuery$1.apply(SparkPlan.scala:155)\n",
      "\tat org.apache.spark.rdd.RDDOperationScope$.withScope(RDDOperationScope.scala:151)\n",
      "\tat org.apache.spark.sql.execution.SparkPlan.executeQuery(SparkPlan.scala:152)\n",
      "\tat org.apache.spark.sql.execution.SparkPlan.execute(SparkPlan.scala:127)\n",
      "\tat org.apache.spark.sql.execution.InputAdapter.inputRDDs(WholeStageCodegenExec.scala:374)\n",
      "\tat org.apache.spark.sql.execution.ProjectExec.inputRDDs(basicPhysicalOperators.scala:41)\n",
      "\tat org.apache.spark.sql.execution.WholeStageCodegenExec.doExecute(WholeStageCodegenExec.scala:610)\n",
      "\tat org.apache.spark.sql.execution.SparkPlan$$anonfun$execute$1.apply(SparkPlan.scala:131)\n",
      "\tat org.apache.spark.sql.execution.SparkPlan$$anonfun$execute$1.apply(SparkPlan.scala:127)\n",
      "\tat org.apache.spark.sql.execution.SparkPlan$$anonfun$executeQuery$1.apply(SparkPlan.scala:155)\n",
      "\tat org.apache.spark.rdd.RDDOperationScope$.withScope(RDDOperationScope.scala:151)\n",
      "\tat org.apache.spark.sql.execution.SparkPlan.executeQuery(SparkPlan.scala:152)\n",
      "\tat org.apache.spark.sql.execution.SparkPlan.execute(SparkPlan.scala:127)\n",
      "\tat org.apache.spark.sql.execution.UnionExec$$anonfun$doExecute$1.apply(basicPhysicalOperators.scala:571)\n",
      "\tat org.apache.spark.sql.execution.UnionExec$$anonfun$doExecute$1.apply(basicPhysicalOperators.scala:571)\n",
      "\tat scala.collection.TraversableLike$$anonfun$map$1.apply(TraversableLike.scala:234)\n",
      "\tat scala.collection.TraversableLike$$anonfun$map$1.apply(TraversableLike.scala:234)\n",
      "\tat scala.collection.immutable.List.foreach(List.scala:392)\n",
      "\tat scala.collection.TraversableLike$class.map(TraversableLike.scala:234)\n",
      "\tat scala.collection.immutable.List.map(List.scala:296)\n",
      "\tat org.apache.spark.sql.execution.UnionExec.doExecute(basicPhysicalOperators.scala:571)\n",
      "\tat org.apache.spark.sql.execution.SparkPlan$$anonfun$execute$1.apply(SparkPlan.scala:131)\n",
      "\tat org.apache.spark.sql.execution.SparkPlan$$anonfun$execute$1.apply(SparkPlan.scala:127)\n",
      "\tat org.apache.spark.sql.execution.SparkPlan$$anonfun$executeQuery$1.apply(SparkPlan.scala:155)\n",
      "\tat org.apache.spark.rdd.RDDOperationScope$.withScope(RDDOperationScope.scala:151)\n",
      "\tat org.apache.spark.sql.execution.SparkPlan.executeQuery(SparkPlan.scala:152)\n",
      "\tat org.apache.spark.sql.execution.SparkPlan.execute(SparkPlan.scala:127)\n",
      "\tat org.apache.spark.sql.execution.datasources.FileFormatWriter$.write(FileFormatWriter.scala:143)\n",
      "\t... 33 more\n",
      "Caused by: java.util.concurrent.TimeoutException: Futures timed out after [300 seconds]\n",
      "\tat scala.concurrent.impl.Promise$DefaultPromise.ready(Promise.scala:223)\n",
      "\tat scala.concurrent.impl.Promise$DefaultPromise.result(Promise.scala:227)\n",
      "\tat org.apache.spark.util.ThreadUtils$.awaitResult(ThreadUtils.scala:220)\n",
      "\tat org.apache.spark.sql.execution.exchange.BroadcastExchangeExec.doExecuteBroadcast(BroadcastExchangeExec.scala:146)\n",
      "\t... 70 more\n",
      "\n",
      "\n"
     ]
    }
   ],
   "source": [
    "brand_type_score.write.mode('overwrite')\\\n",
    "    .parquet(\"s3://belc-bigdata-landing-dlk-qas/lan-ganamas/inter_input/brand_type_score/\")"
   ]
  },
  {
   "cell_type": "code",
   "execution_count": null,
   "metadata": {},
   "outputs": [],
   "source": []
  },
  {
   "cell_type": "code",
   "execution_count": null,
   "metadata": {},
   "outputs": [],
   "source": []
  },
  {
   "cell_type": "code",
   "execution_count": null,
   "metadata": {},
   "outputs": [],
   "source": []
  },
  {
   "cell_type": "code",
   "execution_count": null,
   "metadata": {},
   "outputs": [],
   "source": []
  },
  {
   "cell_type": "code",
   "execution_count": null,
   "metadata": {},
   "outputs": [],
   "source": []
  },
  {
   "cell_type": "code",
   "execution_count": null,
   "metadata": {},
   "outputs": [],
   "source": []
  },
  {
   "cell_type": "code",
   "execution_count": null,
   "metadata": {},
   "outputs": [],
   "source": []
  },
  {
   "cell_type": "code",
   "execution_count": null,
   "metadata": {},
   "outputs": [],
   "source": []
  },
  {
   "cell_type": "code",
   "execution_count": 40,
   "metadata": {},
   "outputs": [],
   "source": [
    "#DF = spark.read.parquet('s3a://belc-bigdata-landing-dlk-qas/lan-ganamas/input/cart/year=2020/month=03/day=02/country=MX/')"
   ]
  },
  {
   "cell_type": "code",
   "execution_count": 41,
   "metadata": {},
   "outputs": [],
   "source": [
    "#DF.count()"
   ]
  },
  {
   "cell_type": "code",
   "execution_count": null,
   "metadata": {},
   "outputs": [],
   "source": []
  }
 ],
 "metadata": {
  "kernelspec": {
   "display_name": "PySpark3",
   "language": "",
   "name": "pyspark3kernel"
  },
  "language_info": {
   "codemirror_mode": {
    "name": "python",
    "version": 3
   },
   "mimetype": "text/x-python",
   "name": "pyspark3",
   "pygments_lexer": "python3"
  }
 },
 "nbformat": 4,
 "nbformat_minor": 2
}
