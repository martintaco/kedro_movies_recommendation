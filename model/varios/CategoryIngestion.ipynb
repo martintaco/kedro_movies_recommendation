{
 "cells": [
  {
   "cell_type": "code",
   "execution_count": 1,
   "metadata": {},
   "outputs": [],
   "source": [
    "import json\n",
    "import requests\n",
    "import gzip\n",
    "from io import BytesIO"
   ]
  },
  {
   "cell_type": "code",
   "execution_count": 5,
   "metadata": {},
   "outputs": [],
   "source": [
    "class RichCategoryIngestion:\n",
    "    \n",
    "    def __init__(self, gateway, grant_type, client_id, client_secret,api_key):\n",
    "        self.gateway = gateway\n",
    "        self.grant_type = grant_type\n",
    "        self.client_id = client_id\n",
    "        self.client_secret = client_secret\n",
    "        self.api_key = api_key\n",
    "    \n",
    "    def post_authentication(self):\n",
    "        \n",
    "        url = f\"https://{self.gateway}-gateway.richrelevance.com/streaming-ingest/v1/oauth2/token\"\n",
    "        data = {'grant_type':self.grant_type, 'client_id':self.client_id, 'client_secret':self.client_secret}\n",
    "        header={'Content-Type':'application/x-www-form-urlencoded'}\n",
    "        \n",
    "        response = requests.post(url, params=data, headers = header)\n",
    "        return json.loads(response.text)\n",
    "    \n",
    "    def zip_payload(self,payload: str) -> bytes:\n",
    "        \n",
    "        btsio = BytesIO()\n",
    "        g = gzip.GzipFile(fileobj=btsio, mode='w')\n",
    "        g.write(bytes(payload, 'utf8'))\n",
    "        g.close()\n",
    "        return btsio.getvalue()\n",
    "    \n",
    "    \n",
    "    def put_create_category(self, snp_id: int, payload: dict):\n",
    "        \n",
    "        access_token = self.post_authentication()['access_token']\n",
    "        url = f\"https://{self.gateway}-gateway.richrelevance.com/streaming-ingest/v1/{self.api_key}/category?snapshotId={str(snp_id)}\"\n",
    "        header = {\n",
    "                    'Authorization': f'Bearer {access_token}',\n",
    "                    'Content-type' : 'application/json; charset=utf-8',\n",
    "                    'Content-Encoding': 'gzip'\n",
    "               }\n",
    "        payload = self.zip_payload(payload)\n",
    "        response = requests.patch(url, headers= header, data=payload)\n",
    "        return json.loads(response.text)\n",
    "        "
   ]
  },
  {
   "cell_type": "code",
   "execution_count": 16,
   "metadata": {},
   "outputs": [],
   "source": [
    "brand = 'cyzone' #cyzone"
   ]
  },
  {
   "cell_type": "code",
   "execution_count": 17,
   "metadata": {},
   "outputs": [],
   "source": [
    "file = f\"D:\\\\belcorp-acoe-2020\\\\rich-relevance\\\\docs\\\\Data Model\\\\Data\\\\payloadRR_categories_{brand}.json\"\n",
    "env_credential = {\"staging\":{\"gateway\":\"staging\",\"api_key\":\"e1b75ced78fdfe64\",\"client_id\":\"c5bac54c76907d4a\",\"client_secret\":\"9jtqa8k0pcffrr72h755qce6ka\"},\"production\":{\"gateway\":\"gateway\",\"api_key\":\"e1b75ced78fdfe64\",\"client_id\":\"d987346d6347894b\",\"client_secret\":\"uqlsl9q6emti9ketdaid98rkdm\"}}\n",
    "credentials = env_credential['staging']"
   ]
  },
  {
   "cell_type": "code",
   "execution_count": 18,
   "metadata": {},
   "outputs": [],
   "source": [
    "rr_ingestion = RichCategoryIngestion(credentials['gateway'],'client_credentials',credentials['client_id'],credentials['client_secret'], credentials['api_key'])\n",
    "with open(file, encoding=\"utf8\") as json_file:\n",
    "    file_list = []\n",
    "    for line in json_file:\n",
    "        category_dict = json.loads(line)\n",
    "        category_dict[list(category_dict.keys())[0]]['overrides'] = {\n",
    "            \"language\": {\n",
    "                \"es-PE\":{\n",
    "                    \"properties\":{\n",
    "                        \"name\": category_dict[list(category_dict.keys())[0]]['properties']['name']\n",
    "                    }\n",
    "                },\n",
    "                \"es-MX\":{\n",
    "                    \"properties\":{\n",
    "                        \"name\": category_dict[list(category_dict.keys())[0]]['properties']['name']\n",
    "                    }\n",
    "                },\n",
    "                \"es-CO\":{\n",
    "                    \"properties\":{\n",
    "                        \"name\": category_dict[list(category_dict.keys())[0]]['properties']['name']\n",
    "                    }\n",
    "                },\n",
    "                \"es-PA\":{\n",
    "                    \"properties\":{\n",
    "                        \"name\": category_dict[list(category_dict.keys())[0]]['properties']['name']\n",
    "                    }\n",
    "                },\n",
    "                \"es-CL\":{\n",
    "                    \"properties\":{\n",
    "                        \"name\": category_dict[list(category_dict.keys())[0]]['properties']['name']\n",
    "                    }\n",
    "                },\n",
    "            }\n",
    "        }\n",
    "        file_list.append(category_dict)\n",
    "    \n",
    "with open(f'payloadRR_categories_{brand}.json', 'w') as outputfile:\n",
    "    json.dump(file_list, outputfile)\n",
    "        #print(category_dict)\n",
    "        #response = rr_ingestion.put_create_category(64, json.dumps(category_dict))\n",
    "        #print(response)"
   ]
  },
  {
   "cell_type": "code",
   "execution_count": null,
   "metadata": {},
   "outputs": [],
   "source": [
    "dict_pay = {'esika-40': {'properties': {'name': 'SETS'}, 'associations': {'category': {'parent': ['esika']}}, 'overrides': {'language': {'es-PE': {'properties': {'name': 'SETS'}}, 'es-MX': {'properties': {'name': 'SETS'}}, 'es-CO': {'properties': {'name': 'SETS'}}, 'es-PA': {'properties': {'name': 'SETS'}}, 'es-CL': {'properties': {'name': 'SETS'}}}}}}\n",
    "response = rr_ingestion.put_create_category(60, json.dumps(dict_pay))\n",
    "print(response)"
   ]
  },
  {
   "cell_type": "code",
   "execution_count": null,
   "metadata": {},
   "outputs": [],
   "source": []
  }
 ],
 "metadata": {
  "kernelspec": {
   "display_name": "Python 3",
   "language": "python",
   "name": "python3"
  },
  "language_info": {
   "codemirror_mode": {
    "name": "ipython",
    "version": 3
   },
   "file_extension": ".py",
   "mimetype": "text/x-python",
   "name": "python",
   "nbconvert_exporter": "python",
   "pygments_lexer": "ipython3",
   "version": "3.6.8"
  }
 },
 "nbformat": 4,
 "nbformat_minor": 2
}
