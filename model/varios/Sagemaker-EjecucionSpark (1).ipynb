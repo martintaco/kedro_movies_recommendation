{
 "cells": [
  {
   "cell_type": "markdown",
   "metadata": {},
   "source": [
    "### Inicio de la sesion de Spark\n",
    "\n",
    "Al no estar en un **cluster EMR**, hay que utilizar pyspark de manera local en el notebook de SageMaker. \n",
    "Por ello se tiene que ejecutar el siguiente script:\n"
   ]
  },
  {
   "cell_type": "code",
   "execution_count": 2,
   "metadata": {},
   "outputs": [],
   "source": [
    "import os\n",
    "import boto3\n",
    "\n",
    "from pyspark import SparkContext, SparkConf\n",
    "from pyspark.sql import SparkSession\n",
    "\n",
    "import sagemaker\n",
    "from sagemaker import get_execution_role\n",
    "import sagemaker_pyspark\n",
    "\n",
    "role = get_execution_role()\n",
    "\n",
    "# Configure Spark to use the SageMaker Spark dependency jars\n",
    "jars = sagemaker_pyspark.classpath_jars()\n",
    "\n",
    "classpath = \":\".join(sagemaker_pyspark.classpath_jars())\n",
    "\n",
    "# See the SageMaker Spark Github to learn how to connect to EMR from a notebook instance\n",
    "spark = SparkSession.builder.config(\"spark.driver.extraClassPath\", classpath)\\\n",
    "    .master(\"local[*]\").getOrCreate()\n",
    "    \n",
    "spark\n",
    "\n",
    "# Hadoop Configuration\n",
    "spark._jsc.hadoopConfiguration().set('fs.s3a.endpoint', 's3.us-east-1.amazonaws.com')"
   ]
  },
  {
   "cell_type": "markdown",
   "metadata": {},
   "source": [
    "### Librerias para manejo de Dataframes"
   ]
  },
  {
   "cell_type": "code",
   "execution_count": 7,
   "metadata": {},
   "outputs": [],
   "source": [
    "import pyspark.sql.functions as f"
   ]
  },
  {
   "cell_type": "markdown",
   "metadata": {},
   "source": [
    "### Lectura de archivos parquet\n",
    "\n",
    "Considerar que el role con el que se creo el notebook de SageMaker es *arn:aws:iam::639556434474:role/BigData-SageMakerCrossAccountS3-Role*, solo con ese role se podra leer los archivos en QAS"
   ]
  },
  {
   "cell_type": "code",
   "execution_count": 35,
   "metadata": {},
   "outputs": [],
   "source": [
    "df = spark.read\\\n",
    "    .parquet('s3a://belc-bigdata-functional-dlk-qas/analitico/GlueDatabase/functional-offline/dwh_fstaebecam/')\\\n",
    "    .filter((f.col('codpais') == 'CR') & (f.col('aniocampana') == '201918'))"
   ]
  },
  {
   "cell_type": "markdown",
   "metadata": {},
   "source": [
    "### Consultoras activas que pasaron pedido"
   ]
  },
  {
   "cell_type": "code",
   "execution_count": 37,
   "metadata": {
    "scrolled": true
   },
   "outputs": [
    {
     "name": "stdout",
     "output_type": "stream",
     "text": [
      "+-------+-----------+------------------+\n",
      "|codpais|aniocampana|count(codebelista)|\n",
      "+-------+-----------+------------------+\n",
      "|     CR|     201918|             26744|\n",
      "+-------+-----------+------------------+\n",
      "\n"
     ]
    }
   ],
   "source": [
    "df.filter(f.col('flagpasopedido')==1)\\\n",
    "    .groupBy('codpais','aniocampana')\\\n",
    "    .agg(f.count('codebelista')).show()"
   ]
  },
  {
   "cell_type": "markdown",
   "metadata": {},
   "source": [
    "### Primera y Ultima campaña de las consultoras como Activas"
   ]
  },
  {
   "cell_type": "code",
   "execution_count": 19,
   "metadata": {},
   "outputs": [],
   "source": [
    "df_ebelista = spark.read\\\n",
    "    .parquet('s3a://belc-bigdata-functional-dlk-qas/analitico/GlueDatabase/functional-offline/dwh_fstaebecam/')\\\n",
    "    .filter((f.col('codpais') == 'PA'))"
   ]
  },
  {
   "cell_type": "code",
   "execution_count": 34,
   "metadata": {},
   "outputs": [
    {
     "name": "stdout",
     "output_type": "stream",
     "text": [
      "+-------+-----------+----------------+----------------+\n",
      "|codpais|codebelista|min(aniocampana)|max(aniocampana)|\n",
      "+-------+-----------+----------------+----------------+\n",
      "|     PA|  200965116|          201612|          201704|\n",
      "|     PA|  200609689|          201501|          201618|\n",
      "|     PA|  200939336|          201608|          201710|\n",
      "|     PA|  200963512|          201611|          201901|\n",
      "|     PA|  200874137|          201517|          201714|\n",
      "|     PA|  200847441|          201513|          201713|\n",
      "|     PA|  200648031|          201501|          202008|\n",
      "|     PA|  200903811|          201604|          201701|\n",
      "|     PA|  200446933|          201501|          201711|\n",
      "|     PA|  200627768|          201501|          201711|\n",
      "|     PA|  200829700|          201511|          201711|\n",
      "|     PA|  200902939|          201605|          202008|\n",
      "|     PA|  200706889|          201501|          201910|\n",
      "|     PA|  200803221|          201507|          202004|\n",
      "|     PA|  200900911|          201603|          201701|\n",
      "|     PA|  200414802|          201501|          201802|\n",
      "|     PA|  200888431|          201601|          202006|\n",
      "|     PA|  200761626|          201501|          202005|\n",
      "|     PA|  201002168|          201616|          201701|\n",
      "|     PA|  200976150|          201613|          201704|\n",
      "+-------+-----------+----------------+----------------+\n",
      "only showing top 20 rows\n",
      "\n"
     ]
    }
   ],
   "source": [
    "df_ebelista.filter(f.col('flagactiva')==1)\\\n",
    "    .groupBy('codpais','codebelista')\\\n",
    "    .agg(f.min(f.col('aniocampana')),f.max(f.col('aniocampana')))\\\n",
    "    .show()"
   ]
  },
  {
   "cell_type": "markdown",
   "metadata": {},
   "source": [
    "### Suma total del pedido de la consultora XXXXXX en la campaña 202001"
   ]
  },
  {
   "cell_type": "code",
   "execution_count": 17,
   "metadata": {},
   "outputs": [],
   "source": [
    "df_fvtaproebecam = spark.read\\\n",
    "    .parquet('s3a://belc-bigdata-functional-dlk-qas/analitico/GlueDatabase/functional-offline/dwh_fvtaproebecam/')\\\n",
    "    .filter((f.col('codpais') == 'PA') & (f.col('aniocampana') == '202001'))"
   ]
  },
  {
   "cell_type": "code",
   "execution_count": 39,
   "metadata": {},
   "outputs": [
    {
     "name": "stdout",
     "output_type": "stream",
     "text": [
      "+-------+-----------+-----------+------------------+\n",
      "|codpais|aniocampana|codebelista|sum(realvtamnneto)|\n",
      "+-------+-----------+-----------+------------------+\n",
      "|     PA|     202001|  201272548|          96.64000|\n",
      "|     PA|     202001|  201349702|         108.98000|\n",
      "|     PA|     202001|  201360242|         338.39000|\n",
      "|     PA|     202001|  201351014|         105.70000|\n",
      "|     PA|     202001|  201340349|         103.21000|\n",
      "|     PA|     202001|  200578661|         114.96000|\n",
      "|     PA|     202001|  201301637|         102.91000|\n",
      "|     PA|     202001|  201302145|          93.27000|\n",
      "|     PA|     202001|  201084547|         125.16000|\n",
      "|     PA|     202001|  201261651|         129.41000|\n",
      "|     PA|     202001|  201294134|          88.58000|\n",
      "|     PA|     202001|  201375118|          81.09000|\n",
      "|     PA|     202001|  200960718|         195.46000|\n",
      "|     PA|     202001|  201348293|         111.59000|\n",
      "|     PA|     202001|  201269466|          95.41000|\n",
      "|     PA|     202001|  201375002|         163.31000|\n",
      "|     PA|     202001|  201326532|         107.71000|\n",
      "|     PA|     202001|  201364353|         114.35000|\n",
      "|     PA|     202001|  201343925|          99.53000|\n",
      "|     PA|     202001|  200965922|         115.57000|\n",
      "+-------+-----------+-----------+------------------+\n",
      "only showing top 20 rows\n",
      "\n"
     ]
    }
   ],
   "source": [
    "df_fvtaproebecam.filter((f.col('aniocampana') == f.col('aniocampanaref')))\\\n",
    "    .groupBy('codpais','aniocampana','codebelista')\\\n",
    "    .agg(f.sum(f.col('realvtamnneto')))\\\n",
    "    .show()"
   ]
  }
 ],
 "metadata": {
  "kernelspec": {
   "display_name": "conda_python3",
   "language": "python",
   "name": "conda_python3"
  },
  "language_info": {
   "codemirror_mode": {
    "name": "ipython",
    "version": 3
   },
   "file_extension": ".py",
   "mimetype": "text/x-python",
   "name": "python",
   "nbconvert_exporter": "python",
   "pygments_lexer": "ipython3",
   "version": "3.6.5"
  }
 },
 "nbformat": 4,
 "nbformat_minor": 4
}
