{
 "cells": [
  {
   "cell_type": "code",
   "execution_count": 1,
   "metadata": {},
   "outputs": [
    {
     "name": "stdout",
     "output_type": "stream",
     "text": [
      "Starting Spark application\n"
     ]
    },
    {
     "data": {
      "text/html": [
       "<table>\n",
       "<tr><th>ID</th><th>YARN Application ID</th><th>Kind</th><th>State</th><th>Spark UI</th><th>Driver log</th><th>Current session?</th></tr><tr><td>120</td><td>application_1575505342345_0165</td><td>pyspark3</td><td>idle</td><td><a target=\"_blank\" href=\"http://ip-10-12-6-121.galileo.ebel:20888/proxy/application_1575505342345_0165/\">Link</a></td><td><a target=\"_blank\" href=\"http://ip-10-12-6-31.galileo.ebel:8042/node/containerlogs/container_1575505342345_0165_01_000001/chvasquez\">Link</a></td><td>✔</td></tr></table>"
      ],
      "text/plain": [
       "<IPython.core.display.HTML object>"
      ]
     },
     "metadata": {},
     "output_type": "display_data"
    },
    {
     "name": "stdout",
     "output_type": "stream",
     "text": [
      "SparkSession available as 'spark'.\n"
     ]
    }
   ],
   "source": [
    "from pyspark.ml.fpm import FPGrowth\n",
    "from pyspark.sql.functions import *\n",
    "from pyspark.sql.functions import col\n",
    "from pyspark.sql.window import Window\n",
    "from pyspark.ml.feature import HashingTF, Normalizer\n",
    "from pyspark.sql.types import StringType, ArrayType, DoubleType, IntegerType"
   ]
  },
  {
   "cell_type": "markdown",
   "metadata": {},
   "source": [
    "# Validación de Data previa ( INPUT )"
   ]
  },
  {
   "cell_type": "markdown",
   "metadata": {},
   "source": [
    "Antes de procesar la información, realizamos la validación de la información previa. La validación pasa por el orden de la interfaz que ha tenido mas problemas. Esto para asegurar que no se va tener problemas en el Train / Predict. "
   ]
  },
  {
   "cell_type": "markdown",
   "metadata": {},
   "source": [
    "### Rutas de Parquets files ha validar"
   ]
  },
  {
   "cell_type": "code",
   "execution_count": 2,
   "metadata": {},
   "outputs": [],
   "source": [
    "####Paramters\n",
    "str_matrizcampana = 's3://belc-bigdata-functional-dlk-qas/analitico/GlueDatabase/functional-offline/dwh_dmatrizcampana/'\n",
    "str_fvtaproebecam = 's3://belc-bigdata-functional-dlk-qas/analitico/GlueDatabase/functional-offline/dwh_fvtaproebecam/'\n",
    "str_tipooferta = 's3://belc-bigdata-functional-dlk-qas/analitico/GlueDatabase/functional-offline/dwh_dtipooferta/'\n",
    "str_offert = 's3://belc-bigdata-landing-dlk-qas/lan-ganamas/input/cons/'\n",
    "str_tiempocampana = 's3://belc-bigdata-functional-dlk-qas/analitico/GlueDatabase/functional/dwh_dtiempocampana/'"
   ]
  },
  {
   "cell_type": "markdown",
   "metadata": {},
   "source": [
    "### Trae Información"
   ]
  },
  {
   "cell_type": "code",
   "execution_count": 3,
   "metadata": {},
   "outputs": [],
   "source": [
    "df_tiempocampana = spark.read.parquet(str_tiempocampana)\n",
    "df_dmatrizcampana = spark.read.parquet(str_matrizcampana)"
   ]
  },
  {
   "cell_type": "code",
   "execution_count": 4,
   "metadata": {},
   "outputs": [],
   "source": [
    "ANIOCAMPAN_INI = '201910'\n",
    "ANIOCAMPAN_FIN = '202004'"
   ]
  },
  {
   "cell_type": "code",
   "execution_count": 5,
   "metadata": {},
   "outputs": [],
   "source": [
    "df_campana = df_tiempocampana.filter( \n",
    "    (col('codpais') != 'US') & \n",
    "    (col('aniocampana') >= ANIOCAMPAN_INI) & (col('aniocampana') <= ANIOCAMPAN_FIN)\n",
    ").select('codpais', 'aniocampana')"
   ]
  },
  {
   "cell_type": "code",
   "execution_count": 6,
   "metadata": {},
   "outputs": [],
   "source": [
    "def CalculaAnioCampana(codpais, aniocampana, delta):\n",
    "    if codpais != 'PR':\n",
    "        anio, camp = int(int(aniocampana)/100), int(int(aniocampana)%100) + delta\n",
    "        if camp > 18: camp = camp-18; anio = anio+1;          \n",
    "        if camp < 1: camp = 18 + camp; anio = anio-1;\n",
    "        if camp < 1 or camp > 18: return CalculaAnioCampana(codpais, str(anio) + '00', camp)\n",
    "        return (str(anio) + str('00'+str(camp))[-2:])\n",
    "    else:\n",
    "        return aniocampana"
   ]
  },
  {
   "cell_type": "markdown",
   "metadata": {},
   "source": [
    "## DMatrizCampana\n",
    "\n",
    "Valida información:\n",
    "* Se buscan ofertas digitales ( codtipooferta>'200'), que esten aspeados (codventa != '00000')\n",
    "* PartitionBy (max_total) para buscar el total tipos de ofertas por campaña\n",
    "\n",
    "Los resultados que se obtengan son Pais/Campaña que no tienen mal cargadas los tipos de ofertas digitales. "
   ]
  },
  {
   "cell_type": "code",
   "execution_count": null,
   "metadata": {},
   "outputs": [],
   "source": [
    "#Condiciones\n",
    "df_matriz1 = df_dmatrizcampana.filter( \n",
    "            (col('codtipooferta') >= '200') & (col('codventa') != '00000') & \n",
    "            (col('codpais') != 'US') & \n",
    "            (col('aniocampana') >= ANIOCAMPAN_INI) & (col('aniocampana') <= ANIOCAMPAN_FIN) \n",
    "        ).groupBy('codpais','aniocampana','codtipooferta')\\\n",
    "        .count().withColumnRenamed('count','total')\\\n",
    "        .sort(['codpais', 'aniocampana'])\n",
    "\n",
    "#MaxTotal PartitionBy\n",
    "window = Window.partitionBy('codpais','aniocampana' )\n",
    "\n",
    "df_matriz = df_campana.join(df_matriz1,['codpais', 'aniocampana'],'left')\\\n",
    "        .select('codpais', 'aniocampana', 'codtipooferta','total').na.fill({'total': 0})\\\n",
    "        .withColumn(\"max_total\",count('total').over(window))\n",
    "\n",
    "df_matriz.filter( \n",
    "    (col('max_total') <= 3)\n",
    ").orderBy(['aniocampana', 'codpais']).show(100)"
   ]
  },
  {
   "cell_type": "markdown",
   "metadata": {},
   "source": [
    "Validación unitaria."
   ]
  },
  {
   "cell_type": "code",
   "execution_count": null,
   "metadata": {
    "scrolled": true
   },
   "outputs": [],
   "source": [
    "df_dmatrizcampana.filter( \n",
    "    (col('codpais') == 'PR') & (col('aniocampana') == '201912') \n",
    "    ).select('codpais', 'aniocampana', 'codtipooferta', 'codventa').show()\n"
   ]
  },
  {
   "cell_type": "code",
   "execution_count": null,
   "metadata": {},
   "outputs": [],
   "source": []
  },
  {
   "cell_type": "markdown",
   "metadata": {},
   "source": [
    "## FvtaProEbeCam\n",
    "\n",
    "Valida información:\n",
    "* Las campañas cargadas.\n"
   ]
  },
  {
   "cell_type": "code",
   "execution_count": null,
   "metadata": {},
   "outputs": [],
   "source": [
    "df_fvtaproebecam = spark.read.parquet(str_fvtaproebecam)"
   ]
  },
  {
   "cell_type": "code",
   "execution_count": null,
   "metadata": {},
   "outputs": [],
   "source": [
    "df_fvtaproebecam.filter( \n",
    "        (col('codpais') != 'US') & \n",
    "        (col('aniocampana') >= ANIOCAMPAN_INI) & (col('aniocampana') <= ANIOCAMPAN_FIN) \n",
    "        ).groupBy('codpais','aniocampana').\\\n",
    "        agg(sum(col('realvtamnneto')).alias('realvtamnneto')).\\\n",
    "        withColumn('aniocampana_1', CalculaAnioCampana(col('codpais'), col('aniocampana'), 1)).\\\n",
    "        select('codpais','aniocampana', 'aniocampana_1', 'realvtamnneto')\n",
    "sort(['codpais', 'aniocampana']).show()\n",
    "            "
   ]
  },
  {
   "cell_type": "code",
   "execution_count": null,
   "metadata": {},
   "outputs": [],
   "source": [
    " CalculaAnioCampana(df_fvtaproebecam['codpais'], df_fvtaproebecam['aniocampana'], df_fvtaproebecam['aniocampana'] )"
   ]
  },
  {
   "cell_type": "code",
   "execution_count": null,
   "metadata": {},
   "outputs": [],
   "source": []
  },
  {
   "cell_type": "markdown",
   "metadata": {},
   "source": [
    "## DTipoOferta"
   ]
  },
  {
   "cell_type": "code",
   "execution_count": null,
   "metadata": {},
   "outputs": [],
   "source": [
    "def CalculaAnioCampana(codpais, aniocampana, delta):\n",
    "    if codpais != 'PR':\n",
    "        anio, camp = int(int(aniocampana)/100), int(int(aniocampana)%100) + delta\n",
    "        if camp > 18: camp = camp-18; anio = anio+1;          \n",
    "        if camp < 1: camp = 18 + camp; anio = anio-1;\n",
    "        if camp < 1 or camp > 18: return CalculaAnioCampana(codpais, str(anio) + '00', camp)\n",
    "        return (str(anio) + str('00'+str(camp))[-2:])\n",
    "    else:\n",
    "        return aniocampana"
   ]
  },
  {
   "cell_type": "code",
   "execution_count": null,
   "metadata": {},
   "outputs": [],
   "source": [
    "\n",
    "print (CalculaAnioCampana('CO', '201911', -44) )"
   ]
  },
  {
   "cell_type": "code",
   "execution_count": null,
   "metadata": {},
   "outputs": [],
   "source": [
    "\n",
    "anio, camp = int(int('201911')/100), int(int('201911')%100) + 1\n",
    "\n",
    "print(anio, camp)"
   ]
  },
  {
   "cell_type": "code",
   "execution_count": null,
   "metadata": {},
   "outputs": [],
   "source": []
  },
  {
   "cell_type": "code",
   "execution_count": null,
   "metadata": {},
   "outputs": [],
   "source": [
    "int(int('201911')%100)"
   ]
  },
  {
   "cell_type": "code",
   "execution_count": null,
   "metadata": {},
   "outputs": [],
   "source": [
    "df_tipooferta = spark.read.parquet(str_tipooferta)"
   ]
  },
  {
   "cell_type": "code",
   "execution_count": null,
   "metadata": {},
   "outputs": [],
   "source": [
    "df_tipooferta.filter((col('codpais') == 'CO') & (col('codtipooferta') >= '200')).select('codtipooferta', 'destipooferta').show(40)"
   ]
  },
  {
   "cell_type": "code",
   "execution_count": null,
   "metadata": {},
   "outputs": [],
   "source": [
    "df_offerta = spark.read.parquet(str_offert)"
   ]
  },
  {
   "cell_type": "code",
   "execution_count": null,
   "metadata": {},
   "outputs": [],
   "source": [
    "df_offerta.show(5)"
   ]
  },
  {
   "cell_type": "code",
   "execution_count": null,
   "metadata": {},
   "outputs": [],
   "source": [
    "df_offerta.groupBy('country', 'campaign', 'palanca').count().sort(['country', 'campaign', 'palanca']).show(50)"
   ]
  },
  {
   "cell_type": "markdown",
   "metadata": {},
   "source": [
    "# Validación Resultados ( OUTPUT )"
   ]
  },
  {
   "cell_type": "code",
   "execution_count": null,
   "metadata": {},
   "outputs": [],
   "source": [
    "df_output = spark.read.parquet(\"s3://belc-bigdata-landing-dlk-qas/lan-ganamas/output/year=2019/month=10/day=29/country=PE/\")"
   ]
  },
  {
   "cell_type": "code",
   "execution_count": null,
   "metadata": {},
   "outputs": [],
   "source": [
    "df_output = spark.read.parquet(\"s3://belc-bigdata-landing-dlk-qas/lan-ganamas/output/year=2019/month=12/day=02/\")"
   ]
  },
  {
   "cell_type": "code",
   "execution_count": null,
   "metadata": {},
   "outputs": [],
   "source": [
    "df_output.show(5)"
   ]
  },
  {
   "cell_type": "code",
   "execution_count": null,
   "metadata": {},
   "outputs": [],
   "source": [
    "df_output.groupBy('country','campaign').count().sort(['country', 'campaign']).show()"
   ]
  },
  {
   "cell_type": "code",
   "execution_count": null,
   "metadata": {},
   "outputs": [],
   "source": [
    "df_new = df_output.groupBy('country', 'campaign','codebelista').agg(max(col('score')).alias('score_top'))\n",
    "\n",
    "df_new.groupBy('country','campaign').agg(min(col('score_top')).alias('min_score'), max(col('score_top')).alias('max_score')).show()\n",
    "\n"
   ]
  },
  {
   "cell_type": "code",
   "execution_count": null,
   "metadata": {},
   "outputs": [],
   "source": [
    "\n",
    "#MaxTotal PartitionBy\n",
    "window = Window.partitionBy('country','campaign')\n",
    "\n",
    "df_new = df_output.groupBy('country','campaign','codebelista')\\\n",
    "    .agg(max(col('score')).alias('score_top'))\\\n",
    "    .groupBy('country','campaign', 'score_top').count().withColumnRenamed('count','total')\\\n",
    "    .withColumn('suma',sum('total').over(window))\\\n",
    "    .withColumn('Perc', round( ((col('total') / col('suma') ) ), 4) )\\\n",
    "    .sort(['country','campaign', 'score_top'])"
   ]
  },
  {
   "cell_type": "code",
   "execution_count": null,
   "metadata": {
    "scrolled": true
   },
   "outputs": [],
   "source": [
    "df_new.show(100)"
   ]
  },
  {
   "cell_type": "code",
   "execution_count": null,
   "metadata": {},
   "outputs": [],
   "source": [
    "import pip\n",
    "pip.main(['install', 'pandas'])"
   ]
  },
  {
   "cell_type": "code",
   "execution_count": null,
   "metadata": {},
   "outputs": [],
   "source": [
    "df_new_pd = df_new.toPandas()\n",
    "\n",
    "df_new_pd.withColumn('target', concat(col('country'), lit('_'), col('campaign')) )\\\n",
    "    .select('target','Perc')\\\n",
    "    .plot(kind='bar')\n",
    "\n"
   ]
  },
  {
   "cell_type": "code",
   "execution_count": null,
   "metadata": {},
   "outputs": [],
   "source": [
    "df_new[['score_top', 'count']] = df_new[['score_top', 'count']].astype(int)"
   ]
  },
  {
   "cell_type": "code",
   "execution_count": null,
   "metadata": {},
   "outputs": [],
   "source": [
    "df_new['period'] = df_new[['country', 'campaign']].apply(lambda x: '_'.join(x), axis=1)"
   ]
  },
  {
   "cell_type": "code",
   "execution_count": null,
   "metadata": {},
   "outputs": [],
   "source": [
    "df_new[\"period\"] = df_new[\"country\"].map(str) + df_new[\"campaign\"].map(str)"
   ]
  },
  {
   "cell_type": "markdown",
   "metadata": {},
   "source": [
    "## Reading dproducto table"
   ]
  },
  {
   "cell_type": "code",
   "execution_count": null,
   "metadata": {},
   "outputs": [],
   "source": []
  },
  {
   "cell_type": "code",
   "execution_count": null,
   "metadata": {},
   "outputs": [],
   "source": [
    "s3_loc = 's3://belc-bigdata-functional-dlk-qas/analitico/GlueDatabase/functional-offline/dwh_dproducto/'\n",
    "df_dproducto = spark.read.parquet(s3_loc)\\\n",
    "                              .drop('cuc','codcategoria','codsubcategoria','codtipo','codsubtipo') \\\n",
    "                              .filter(col('codcuc') != '').cache() \\\n",
    "                              .withColumnRenamed('codcategoria_homo','codcategoria')\\\n",
    "                              .withColumnRenamed('codsubcategoria_homo', 'codsubcategoria')\\\n",
    "                              .withColumnRenamed('codtipo_homo', 'codtipo')\\\n",
    "                              .withColumnRenamed('codsubtipo_homo', 'codsubtipo')"
   ]
  },
  {
   "cell_type": "code",
   "execution_count": null,
   "metadata": {},
   "outputs": [],
   "source": [
    "df_dproducto.write.mode('overwrite')\\\n",
    "    .parquet(\"s3://belc-bigdata-landing-dlk-qas/lan-ganamas/inter_input/df_dproducto/\")"
   ]
  },
  {
   "cell_type": "code",
   "execution_count": null,
   "metadata": {},
   "outputs": [],
   "source": []
  }
 ],
 "metadata": {
  "kernelspec": {
   "display_name": "PySpark3",
   "language": "",
   "name": "pyspark3kernel"
  },
  "language_info": {
   "codemirror_mode": {
    "name": "python",
    "version": 3
   },
   "mimetype": "text/x-python",
   "name": "pyspark3",
   "pygments_lexer": "python3"
  }
 },
 "nbformat": 4,
 "nbformat_minor": 2
}
